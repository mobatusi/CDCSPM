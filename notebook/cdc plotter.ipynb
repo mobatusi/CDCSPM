{
 "cells": [
  {
   "cell_type": "code",
   "execution_count": 2,
   "metadata": {
    "collapsed": true,
    "deletable": true,
    "editable": true
   },
   "outputs": [],
   "source": [
    "import pandas as pd\n",
    "import numpy as np\n",
    "import matplotlib.pyplot as plt\n",
    "import pickle\n",
    "%matplotlib inline "
   ]
  },
  {
   "cell_type": "code",
   "execution_count": null,
   "metadata": {
    "collapsed": false,
    "deletable": true,
    "editable": true
   },
   "outputs": [],
   "source": [
    "data_all = pickle.load( open('/home/mobatus/Projects/CDC Mortality/mortalitydata' )  )\n",
    "recordaxis = pickle.load( open('/home/mobatus/Projects/CDC Mortality/recordaxis' )  )\n",
    "entityaxis = pickle.load( open('/home/mobatus/Projects/CDC Mortality/entityaxis' )  )"
   ]
  },
  {
   "cell_type": "code",
   "execution_count": null,
   "metadata": {
    "collapsed": false,
    "deletable": true,
    "editable": true,
    "scrolled": true
   },
   "outputs": [],
   "source": [
    "filename = 'allyears-Sex-MF.csv'\n",
    "\n",
    "df = pd.read_csv(filename, sep= '\\t')"
   ]
  },
  {
   "cell_type": "code",
   "execution_count": null,
   "metadata": {
    "collapsed": true,
    "deletable": true,
    "editable": true
   },
   "outputs": [],
   "source": [
    "data_all = df"
   ]
  },
  {
   "cell_type": "code",
   "execution_count": null,
   "metadata": {
    "collapsed": false,
    "deletable": true,
    "editable": true,
    "scrolled": true
   },
   "outputs": [],
   "source": [
    "data_all = data_all.drop('Unnamed: 0',1)"
   ]
  },
  {
   "cell_type": "code",
   "execution_count": null,
   "metadata": {
    "collapsed": false,
    "deletable": true,
    "editable": true
   },
   "outputs": [],
   "source": [
    "data_all.shape"
   ]
  },
  {
   "cell_type": "code",
   "execution_count": null,
   "metadata": {
    "collapsed": false,
    "deletable": true,
    "editable": true
   },
   "outputs": [],
   "source": [
    "data_all.head()"
   ]
  },
  {
   "cell_type": "code",
   "execution_count": null,
   "metadata": {
    "collapsed": false,
    "deletable": true,
    "editable": true,
    "scrolled": true
   },
   "outputs": [],
   "source": [
    "dt = data_all['Education']\n",
    "dt"
   ]
  },
  {
   "cell_type": "code",
   "execution_count": null,
   "metadata": {
    "collapsed": false,
    "deletable": true,
    "editable": true
   },
   "outputs": [],
   "source": [
    "cnt"
   ]
  },
  {
   "cell_type": "code",
   "execution_count": null,
   "metadata": {
    "collapsed": false,
    "deletable": true,
    "editable": true
   },
   "outputs": [],
   "source": [
    "dt = data_all[['RecordAxisNumof','Age']]\n",
    "dt.columns = ['RecordAxisNumof','Count']\n",
    "cnt = dt.groupby(['RecordAxisNumof']).mean()\n",
    "cnt = cnt.reset_index()"
   ]
  },
  {
   "cell_type": "code",
   "execution_count": null,
   "metadata": {
    "collapsed": false,
    "deletable": true,
    "editable": true,
    "scrolled": true
   },
   "outputs": [],
   "source": [
    "cnt"
   ]
  },
  {
   "cell_type": "code",
   "execution_count": null,
   "metadata": {
    "collapsed": false,
    "deletable": true,
    "editable": true
   },
   "outputs": [],
   "source": [
    "x = cnt['RecordAxisNumof'].as_matrix()\n",
    "y = cnt['Count'].as_matrix()\n",
    "plt.bar(x, y, align='center', alpha=0.5)\n",
    "plt.ylabel('Count')\n",
    "plt.xlabel('Chain Length')"
   ]
  },
  {
   "cell_type": "code",
   "execution_count": null,
   "metadata": {
    "collapsed": false,
    "deletable": true,
    "editable": true
   },
   "outputs": [],
   "source": [
    "data_all[data_all['RecordAxisNumof']==19]"
   ]
  },
  {
   "cell_type": "code",
   "execution_count": null,
   "metadata": {
    "collapsed": false,
    "deletable": true,
    "editable": true
   },
   "outputs": [],
   "source": [
    "data_all[data_all['RecordAxisNumof']==19]['RecordAxisConditions'].as_matrix()"
   ]
  },
  {
   "cell_type": "code",
   "execution_count": null,
   "metadata": {
    "collapsed": false,
    "deletable": true,
    "editable": true
   },
   "outputs": [],
   "source": [
    "dt = data_all[['RecordAxisNumof', 'CurrentDataYear']]\n",
    "#dt.columns = ['RecordAxisNumof','Count']\n",
    "cnt = dt.groupby(['CurrentDataYear']).agg([ 'count', 'mean', 'std'])\n",
    "cnt = cnt.reset_index()"
   ]
  },
  {
   "cell_type": "code",
   "execution_count": null,
   "metadata": {
    "collapsed": false,
    "deletable": true,
    "editable": true,
    "scrolled": true
   },
   "outputs": [],
   "source": [
    "cnt"
   ]
  },
  {
   "cell_type": "code",
   "execution_count": null,
   "metadata": {
    "collapsed": true,
    "deletable": true,
    "editable": true
   },
   "outputs": [],
   "source": [
    "age_groups = [0, 15, 30, 50, 75, 120]\n",
    "n_age_groups = len(age_groups)"
   ]
  },
  {
   "cell_type": "code",
   "execution_count": null,
   "metadata": {
    "collapsed": false,
    "deletable": true,
    "editable": true
   },
   "outputs": [],
   "source": [
    "for i in range(n_age_groups-1):\n",
    "    dt = data_all[['RecordAxisNumof', 'Age', 'CurrentDataYear']]\n",
    "    dt = dt[dt['Age'] < age_groups[i+1]]\n",
    "    dt = dt[dt['Age'] >= age_groups[i]]\n",
    "    #dt.columns = ['RecordAxisNumof','Count']\n",
    "    cnt = dt.groupby(['CurrentDataYear']).agg([ 'count', 'mean', 'std'])\n",
    "    cnt = cnt.reset_index()\n",
    "    y = cnt['RecordAxisNumof']['mean'].as_matrix()\n",
    "    z = cnt['RecordAxisNumof']['std'].as_matrix()\n",
    "    x = cnt['CurrentDataYear'].as_matrix()\n",
    "    lab = str(age_groups[i]) + '-' + str(age_groups[i+1])\n",
    "    plt.plot(x, y, label = lab)\n",
    "\n",
    "    plt.ylabel('avereage chain length')\n",
    "    plt.xlabel('year')\n",
    "    plt.title(i)\n",
    "plt.legend( bbox_to_anchor=(1.05, 1), loc=2 )"
   ]
  },
  {
   "cell_type": "code",
   "execution_count": null,
   "metadata": {
    "collapsed": true,
    "deletable": true,
    "editable": true
   },
   "outputs": [],
   "source": [
    "data_all = data_all[data_all['Age'] <= 115]"
   ]
  },
  {
   "cell_type": "code",
   "execution_count": null,
   "metadata": {
    "collapsed": true,
    "deletable": true,
    "editable": true
   },
   "outputs": [],
   "source": [
    "dt = data_all[['RecordAxisNumof', 'Age','Sex']]\n",
    "#dt.columns = ['RecordAxisNumof','Count']\n",
    "cnt = dt.groupby(['RecordAxisNumof','Sex']).agg([ 'count', 'mean', 'std'])\n",
    "cnt = cnt.reset_index()"
   ]
  },
  {
   "cell_type": "code",
   "execution_count": null,
   "metadata": {
    "collapsed": false,
    "deletable": true,
    "editable": true,
    "scrolled": true
   },
   "outputs": [],
   "source": [
    "cnt"
   ]
  },
  {
   "cell_type": "code",
   "execution_count": null,
   "metadata": {
    "collapsed": true,
    "deletable": true,
    "editable": true
   },
   "outputs": [],
   "source": []
  },
  {
   "cell_type": "code",
   "execution_count": null,
   "metadata": {
    "collapsed": false,
    "deletable": true,
    "editable": true
   },
   "outputs": [],
   "source": [
    "y = cnt['RecordAxisNumof']['mean'].as_matrix()\n",
    "z = cnt['RecordAxisNumof']['std'].as_matrix()\n",
    "x = cnt['Age'].as_matrix()\n",
    "\n",
    "plt.plot(x[:110], y[:110], alpha=0.5)\n",
    "\n",
    "plt.ylabel('average chain length')\n",
    "plt.xlabel('age')"
   ]
  },
  {
   "cell_type": "code",
   "execution_count": null,
   "metadata": {
    "collapsed": false,
    "deletable": true,
    "editable": true
   },
   "outputs": [],
   "source": [
    "dt = data_all[['RecordAxisNumof', 'Race']]\n",
    "#dt.columns = ['RecordAxisNumof','Count']\n",
    "cnt = dt.groupby(['Race']).agg([ 'count', 'mean', 'std'])\n",
    "cnt = cnt.reset_index()"
   ]
  },
  {
   "cell_type": "code",
   "execution_count": null,
   "metadata": {
    "collapsed": false,
    "deletable": true,
    "editable": true
   },
   "outputs": [],
   "source": [
    "cnt"
   ]
  },
  {
   "cell_type": "code",
   "execution_count": null,
   "metadata": {
    "collapsed": false,
    "deletable": true,
    "editable": true
   },
   "outputs": [],
   "source": [
    "y = cnt['RecordAxisNumof']['mean'].as_matrix()\n",
    "x = cnt['Race'].as_matrix()\n",
    "labs = ['White', 'Black', 'Indian', 'Chineese', 'Japanese', 'Hawaiian', 'Filipino']\n",
    "plt.bar(np.arange(7), y[1:8], align='center', alpha=0.5)\n",
    "plt.xticks(np.arange(8), labs, rotation='vertical')\n",
    "plt.ylabel('Average Chain Length')\n",
    "#plt.xlabel('Race')"
   ]
  },
  {
   "cell_type": "code",
   "execution_count": null,
   "metadata": {
    "collapsed": false,
    "deletable": true,
    "editable": true
   },
   "outputs": [],
   "source": [
    "y"
   ]
  },
  {
   "cell_type": "code",
   "execution_count": null,
   "metadata": {
    "collapsed": false,
    "deletable": true,
    "editable": true
   },
   "outputs": [],
   "source": [
    "index = np.arange(7)\n",
    "yy = np.zeros((n_age_groups-1,1))\n",
    "colors = ['red', 'blue', 'green', 'yellow', 'black']\n",
    "bar_width = 0.1\n",
    "for i in range(n_age_groups-1):\n",
    "    dt = data_all[['RecordAxisNumof', 'Age', 'Race']]\n",
    "    dt = dt[dt['Age'] < age_groups[i+1]]\n",
    "    dt = dt[dt['Age'] >= age_groups[i]]\n",
    "    #dt.columns = ['RecordAxisNumof','Count']\n",
    "    cnt = dt.groupby(['Race']).agg([ 'count', 'mean', 'std'])\n",
    "    cnt = cnt.reset_index()\n",
    "    y = cnt['RecordAxisNumof']['mean'].as_matrix()\n",
    "    x = cnt['Race'].as_matrix()\n",
    "    lab = str(age_groups[i]) + '-' + str(age_groups[i+1])\n",
    "    \n",
    "    lab = str(age_groups[i]) + '-' + str(age_groups[i+1])\n",
    "    index = index + bar_width\n",
    "    plt.bar(index, y[1:8], bar_width, color = colors[i], label = lab)\n",
    "\n",
    "labs = ['White', 'Black', 'Indian', 'Chineese', 'Japanese', 'Hawaiian', 'Filipino']\n",
    "\n",
    "plt.ylabel('avereage chain length')\n",
    "plt.xlabel('Race')\n",
    "plt.xticks(index + bar_width*3 , labs)\n",
    "  \n",
    "plt.legend( bbox_to_anchor=(1.05, 1), loc=2 )"
   ]
  },
  {
   "cell_type": "code",
   "execution_count": null,
   "metadata": {
    "collapsed": true,
    "deletable": true,
    "editable": true
   },
   "outputs": [],
   "source": [
    "dt = data_all[['RecordAxisNumof', 'Sex']]\n",
    "#dt.columns = ['RecordAxisNumof','Count']\n",
    "cnt = dt.groupby(['Sex']).agg([ 'count', 'mean', 'std'])\n",
    "cnt = cnt.reset_index()"
   ]
  },
  {
   "cell_type": "code",
   "execution_count": null,
   "metadata": {
    "collapsed": false,
    "deletable": true,
    "editable": true
   },
   "outputs": [],
   "source": [
    "cnt"
   ]
  },
  {
   "cell_type": "code",
   "execution_count": null,
   "metadata": {
    "collapsed": true,
    "deletable": true,
    "editable": true
   },
   "outputs": [],
   "source": []
  },
  {
   "cell_type": "code",
   "execution_count": null,
   "metadata": {
    "collapsed": false,
    "deletable": true,
    "editable": true
   },
   "outputs": [],
   "source": [
    "dt = data_all[['RecordAxisNumof', 'MajorCause']]\n",
    "dt.columns = ['count','MajorCause']\n",
    "cnt = dt.groupby(['MajorCause']).count()\n",
    "cnt = cnt.reset_index()\n"
   ]
  },
  {
   "cell_type": "code",
   "execution_count": null,
   "metadata": {
    "collapsed": false,
    "deletable": true,
    "editable": true
   },
   "outputs": [],
   "source": [
    "cnt.head()"
   ]
  },
  {
   "cell_type": "code",
   "execution_count": null,
   "metadata": {
    "collapsed": false,
    "deletable": true,
    "editable": true
   },
   "outputs": [],
   "source": [
    "cnt = cnt.sort_values(by=['count'], ascending=False)"
   ]
  },
  {
   "cell_type": "code",
   "execution_count": null,
   "metadata": {
    "collapsed": false,
    "deletable": true,
    "editable": true,
    "scrolled": true
   },
   "outputs": [],
   "source": [
    "cnt"
   ]
  },
  {
   "cell_type": "code",
   "execution_count": null,
   "metadata": {
    "collapsed": false,
    "deletable": true,
    "editable": true
   },
   "outputs": [],
   "source": [
    "labs = ['All other forms of chronic ischemic heart disease', 'Malignant neoplasms of trachea, bronchus and lung', \\\n",
    "       'Acute myocardial infarction', 'Cerebrovascular diseases', 'Other chronic lower respiratory diseases', \\\n",
    "       'All other forms of heart disease', 'Alzheimers disease', 'Diabetes mellitus', \\\n",
    "        'All other and unspecified malignant neoplasms', 'Atherosclerotic cardiovascular disease'\\\n",
    "       ,'Heart failure', 'Pneumonia', 'Malignant neoplasms of colon, rectum and anus', 'Renal failure', \\\n",
    "        'Malignant neoplasm of breast', 'Motor vehicle accidents', 'Septicemia']\n",
    "y = cnt['count'].as_matrix()\n",
    "x = cnt['MajorCause'].as_matrix()\n",
    "plt.bar(np.arange(17), y[1:18], align='center', alpha=0.5)\n",
    "plt.xticks(np.arange(17), labs, rotation='vertical')\n",
    "plt.ylabel('Average Chain Length')\n",
    "#plt.xlabel('Race')"
   ]
  },
  {
   "cell_type": "code",
   "execution_count": null,
   "metadata": {
    "collapsed": false,
    "deletable": true,
    "editable": true
   },
   "outputs": [],
   "source": [
    "selected_disease = [ 63, 27, 59, 70, 86, 68, 52, 46, 43, 62, 67, 78]\n",
    "selected_labels = ['All other forms of chronic ischemic heart disease', 'Malignant neoplasms of trachea, bronchus and lung', \\\n",
    "       'Acute myocardial infarction', 'Cerebrovascular diseases', 'Other chronic lower respiratory diseases', \\\n",
    "       'All other forms of heart disease', 'Alzheimers disease', 'Diabetes mellitus', \\\n",
    "        'All other and unspecified malignant neoplasms', 'Atherosclerotic cardiovascular disease'\\\n",
    "       ,'Heart failure', 'Pneumonia']"
   ]
  },
  {
   "cell_type": "code",
   "execution_count": null,
   "metadata": {
    "collapsed": false,
    "deletable": true,
    "editable": true
   },
   "outputs": [],
   "source": [
    "dt = data_all[data_all['MajorCause'].isin(selected_disease)]\n",
    "dt = dt[['MajorCause', 'CurrentDataYear', 'Race']]\n",
    "dt.columns = ['MajorCause', 'CurrentDataYear', 'count']\n",
    "dt.head()"
   ]
  },
  {
   "cell_type": "code",
   "execution_count": null,
   "metadata": {
    "collapsed": true,
    "deletable": true,
    "editable": true
   },
   "outputs": [],
   "source": []
  },
  {
   "cell_type": "code",
   "execution_count": null,
   "metadata": {
    "collapsed": false,
    "deletable": true,
    "editable": true
   },
   "outputs": [],
   "source": [
    "dt1 = data_all[['CurrentDataYear', 'Race']]"
   ]
  },
  {
   "cell_type": "code",
   "execution_count": null,
   "metadata": {
    "collapsed": false,
    "deletable": true,
    "editable": true
   },
   "outputs": [],
   "source": [
    "dt1.columns = ['CurrentDataYear', 'Race']"
   ]
  },
  {
   "cell_type": "code",
   "execution_count": null,
   "metadata": {
    "collapsed": true,
    "deletable": true,
    "editable": true
   },
   "outputs": [],
   "source": [
    "dt_total_death_per_year = dt1.groupby('CurrentDataYear').count()"
   ]
  },
  {
   "cell_type": "code",
   "execution_count": null,
   "metadata": {
    "collapsed": false,
    "deletable": true,
    "editable": true
   },
   "outputs": [],
   "source": [
    "dt_total_death_per_year"
   ]
  },
  {
   "cell_type": "code",
   "execution_count": null,
   "metadata": {
    "collapsed": false,
    "deletable": true,
    "editable": true
   },
   "outputs": [],
   "source": [
    "tdpy = dt_total_death_per_year.reset_index().as_matrix()[:,1]"
   ]
  },
  {
   "cell_type": "code",
   "execution_count": null,
   "metadata": {
    "collapsed": false,
    "deletable": true,
    "editable": true
   },
   "outputs": [],
   "source": [
    "tdpy"
   ]
  },
  {
   "cell_type": "code",
   "execution_count": null,
   "metadata": {
    "collapsed": true,
    "deletable": true,
    "editable": true
   },
   "outputs": [],
   "source": [
    "dt2 = dt.groupby(['MajorCause', 'CurrentDataYear']).count()"
   ]
  },
  {
   "cell_type": "code",
   "execution_count": null,
   "metadata": {
    "collapsed": true,
    "deletable": true,
    "editable": true
   },
   "outputs": [],
   "source": [
    "years = np.arange(1999, 2016)"
   ]
  },
  {
   "cell_type": "code",
   "execution_count": null,
   "metadata": {
    "collapsed": false,
    "deletable": true,
    "editable": true
   },
   "outputs": [],
   "source": [
    "years"
   ]
  },
  {
   "cell_type": "code",
   "execution_count": null,
   "metadata": {
    "collapsed": false,
    "deletable": true,
    "editable": true
   },
   "outputs": [],
   "source": [
    "num_disease = len(selected_disease)\n",
    "num_years = 17"
   ]
  },
  {
   "cell_type": "code",
   "execution_count": null,
   "metadata": {
    "collapsed": false,
    "deletable": true,
    "editable": true
   },
   "outputs": [],
   "source": [
    "ys = np.zeros((num_years, num_disease))"
   ]
  },
  {
   "cell_type": "code",
   "execution_count": null,
   "metadata": {
    "collapsed": false,
    "deletable": true,
    "editable": true
   },
   "outputs": [],
   "source": [
    "for i in range(num_disease):\n",
    "    disease = selected_disease[i]\n",
    "    dt3 = data_all[data_all['MajorCause']==disease]\n",
    "    dt4 = dt3[['CurrentDataYear', 'Race']]   # race is a dummy column representing the count\n",
    "    dt4.columns = ['CurrentDataYear', 'count']  \n",
    "    dt5 = dt4.groupby('CurrentDataYear').count()\n",
    "    tmp = dt5.reset_index().as_matrix()[:,1]\n",
    "    ys[:,i] = np.divide(tmp,tdpy)"
   ]
  },
  {
   "cell_type": "code",
   "execution_count": null,
   "metadata": {
    "collapsed": true,
    "deletable": true,
    "editable": true
   },
   "outputs": [],
   "source": []
  },
  {
   "cell_type": "code",
   "execution_count": null,
   "metadata": {
    "collapsed": false,
    "deletable": true,
    "editable": true
   },
   "outputs": [],
   "source": [
    "for i in range(num_disease):\n",
    "    plt.plot(years, ys[:,i], label = selected_labels[i])\n",
    "plt.legend(bbox_to_anchor=(1.05, 1), loc=2)\n",
    "#plt.savefig('./figures/tempral_underlying_frequent_disease.pdf',loc=0, bbox_inches='tight')\n",
    "#plt.savefig('./figures/tempral_underlying_frequent_disease.eps',loc=0, bbox_inches='tight')"
   ]
  },
  {
   "cell_type": "code",
   "execution_count": null,
   "metadata": {
    "collapsed": true,
    "deletable": true,
    "editable": true
   },
   "outputs": [],
   "source": []
  },
  {
   "cell_type": "code",
   "execution_count": null,
   "metadata": {
    "collapsed": true,
    "deletable": true,
    "editable": true
   },
   "outputs": [],
   "source": []
  },
  {
   "cell_type": "code",
   "execution_count": null,
   "metadata": {
    "collapsed": true,
    "deletable": true,
    "editable": true
   },
   "outputs": [],
   "source": [
    "dt_all_2 = data_all[data_all['RecordAxisNumof'] > 1]    "
   ]
  },
  {
   "cell_type": "code",
   "execution_count": null,
   "metadata": {
    "collapsed": false,
    "deletable": true,
    "editable": true
   },
   "outputs": [],
   "source": [
    "dt_all_2.shape[0]"
   ]
  },
  {
   "cell_type": "code",
   "execution_count": null,
   "metadata": {
    "collapsed": false,
    "deletable": true,
    "editable": true
   },
   "outputs": [],
   "source": [
    "cnt_pairs = dict();\n",
    "for i in range(dt_all_2.shape[0]):\n",
    "    if np.mod(i,500000)==0:\n",
    "        print(i)\n",
    "    conds = dt_all_2.iloc[i]['RecordAxisConditions'] \n",
    "    #print(conds)\n",
    "    conds_cnt = dt_all_2.iloc[i]['RecordAxisNumof'] \n",
    "    arr = conds.split('\\'');\n",
    "    for j in range(conds_cnt):\n",
    "        if j==0:\n",
    "            dis1 = arr[2*j+1][0:3];\n",
    "        else:\n",
    "            dis1 = arr[2*j+1][0:3];\n",
    "            \n",
    "        for k in range(j+1,conds_cnt):\n",
    "            dis2 = arr[2*k+1][0:3];\n",
    "            if dis1[0] > dis2[0]:\n",
    "                dis3 = dis1\n",
    "                dis1 = dis2\n",
    "                dis2 = dis3\n",
    "            mycode = dis1 +  '-' + dis2\n",
    "            #print(mycode)\n",
    "            if mycode in cnt_pairs.keys():\n",
    "                cnt_pairs[mycode] = cnt_pairs[mycode] + 1    \n",
    "            else:\n",
    "                cnt_pairs[mycode] = 1"
   ]
  },
  {
   "cell_type": "code",
   "execution_count": null,
   "metadata": {
    "collapsed": false,
    "deletable": true,
    "editable": true
   },
   "outputs": [],
   "source": [
    "import operator\n",
    "sorted_pairs = sorted(cnt_pairs.items(), key=lambda x: -x[1])"
   ]
  },
  {
   "cell_type": "code",
   "execution_count": null,
   "metadata": {
    "collapsed": false,
    "deletable": true,
    "editable": true
   },
   "outputs": [],
   "source": [
    "sorted_pairs"
   ]
  },
  {
   "cell_type": "code",
   "execution_count": null,
   "metadata": {
    "collapsed": true,
    "deletable": true,
    "editable": true
   },
   "outputs": [],
   "source": []
  },
  {
   "cell_type": "code",
   "execution_count": null,
   "metadata": {
    "collapsed": true,
    "deletable": true,
    "editable": true
   },
   "outputs": [],
   "source": []
  },
  {
   "cell_type": "code",
   "execution_count": null,
   "metadata": {
    "collapsed": true,
    "deletable": true,
    "editable": true
   },
   "outputs": [],
   "source": []
  }
 ],
 "metadata": {
  "anaconda-cloud": {},
  "kernelspec": {
   "display_name": "Python 2",
   "language": "python",
   "name": "python2"
  },
  "language_info": {
   "codemirror_mode": {
    "name": "ipython",
    "version": 2
   },
   "file_extension": ".py",
   "mimetype": "text/x-python",
   "name": "python",
   "nbconvert_exporter": "python",
   "pygments_lexer": "ipython2",
   "version": "2.7.6"
  }
 },
 "nbformat": 4,
 "nbformat_minor": 0
}
