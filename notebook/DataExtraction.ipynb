{
 "cells": [
  {
   "cell_type": "code",
   "execution_count": null,
   "metadata": {
    "collapsed": true,
    "deletable": true,
    "editable": true
   },
   "outputs": [],
   "source": [
    "#Use cd to change to your working directory and then run the following commands\n",
    "#It takes a few minutes to run"
   ]
  },
  {
   "cell_type": "code",
   "execution_count": 2,
   "metadata": {
    "collapsed": false,
    "deletable": true,
    "editable": true
   },
   "outputs": [
    {
     "name": "stdout",
     "output_type": "stream",
     "text": [
      "/home/mobatus/Projects/CDCMortality/extracted_files/Data\n"
     ]
    }
   ],
   "source": [
    "cd /home/dolu/Projects/CDCMortality/raw/Data/"
   ]
  },
  {
   "cell_type": "code",
   "execution_count": 26,
   "metadata": {
    "collapsed": false,
    "deletable": true,
    "editable": true
   },
   "outputs": [
    {
     "name": "stdout",
     "output_type": "stream",
     "text": [
      "1999\n",
      "2000\n",
      "2001\n",
      "2002\n"
     ]
    },
    {
     "name": "stderr",
     "output_type": "stream",
     "text": [
      "column: line too long\n"
     ]
    }
   ],
   "source": [
    "%%bash\n",
    "for i in  {1999..2002}\n",
    "do\n",
    "\n",
    "paste <(echo Education; cut -c52-53 $i.txt)\\\n",
    "      <(echo Sex; cut -c59 $i.txt )\\\n",
    "      <(echo Age; cut -c65-66 $i.txt )\\\n",
    "      <(echo CurrentDataYear; cut -c115-118 $i.txt )\\\n",
    "      <(echo MannerofDeath; cut -c139 $i.txt)\\\n",
    "      <(echo UCD_ICD10; cut -c142-145 $i.txt )\\\n",
    "      <(echo UC113; cut -c151-153 $i.txt )\\\n",
    "      <(echo UC358; cut -c146-148 $i.txt )\\\n",
    "      <(echo EntityAxisNumof; cut -c160-161 $i.txt )\\\n",
    "      <(echo EntityAxisConditions; cut -c162-301 $i.txt )\\\n",
    "      <(echo RecordAxisNumof; cut -c338-339 $i.txt )\\\n",
    "      <(echo RecordAxisConditions; cut -c341-440 $i.txt )\\\n",
    "      <(echo Race; cut -c60-61 $i.txt)\\\n",
    "      | column -s $'|' -tn > \"/home/dolu/Projects/CDCMortality/raw/subset/${i%}_tab.txt\" \n",
    "echo \"$i\"\n",
    "done"
   ]
  },
  {
   "cell_type": "code",
   "execution_count": 27,
   "metadata": {
    "collapsed": false,
    "deletable": true,
    "editable": true
   },
   "outputs": [
    {
     "name": "stdout",
     "output_type": "stream",
     "text": [
      "2003\n",
      "2004\n",
      "2005\n",
      "2006\n",
      "2007\n",
      "2008\n",
      "2009\n",
      "2010\n",
      "2011\n",
      "2012\n",
      "2013\n",
      "2014\n",
      "2015\n"
     ]
    }
   ],
   "source": [
    "%%bash\n",
    "for i in  {2003..2015}\n",
    "do \n",
    "paste <(echo Education; cut -c61-64 $i.txt )\\\n",
    "      <(echo Sex; cut -c69 $i.txt )\\\n",
    "      <(echo Age; cut -c71-73 $i.txt )\\\n",
    "      <(echo CurrentDataYear; cut -c102-105 $i.txt )\\\n",
    "      <(echo MannerofDeath; cut -c107 $i.txt)\\\n",
    "      <(echo UCD_ICD10; cut -c146-149 $i.txt )\\\n",
    "      <(echo UC113; cut -c154-156 $i.txt )\\\n",
    "      <(echo UC358; cut -c150-152 $i.txt )\\\n",
    "      <(echo EntityAxisNumof; cut -c163-164 $i.txt )\\\n",
    "      <(echo EntityAxisConditions; cut -c165-304 $i.txt )\\\n",
    "      <(echo RecordAxisNumof; cut -c341-342 $i.txt )\\\n",
    "      <(echo RecordAxisConditions; cut -c344-443 $i.txt )\\\n",
    "      <(echo Race; cut -c445-445 $i.txt)\\\n",
    "      | column -s $'|' -tn > \"/home/dolu/Projects/CDCMortality/raw/subset/${i%}_tab.txt\"\n",
    "echo \"$i\"\n",
    "done"
   ]
  }
 ],
 "metadata": {
  "anaconda-cloud": {},
  "kernelspec": {
   "display_name": "Python 2",
   "language": "python",
   "name": "python2"
  },
  "language_info": {
   "codemirror_mode": {
    "name": "ipython",
    "version": 2
   },
   "file_extension": ".py",
   "mimetype": "text/x-python",
   "name": "python",
   "nbconvert_exporter": "python",
   "pygments_lexer": "ipython2",
   "version": "2.7.6"
  }
 },
 "nbformat": 4,
 "nbformat_minor": 1
}
