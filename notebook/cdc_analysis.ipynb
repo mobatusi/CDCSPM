{
 "cells": [
  {
   "cell_type": "markdown",
   "metadata": {
    "deletable": true,
    "editable": true
   },
   "source": [
    "### Import environment Variables ###"
   ]
  },
  {
   "cell_type": "code",
   "execution_count": 1,
   "metadata": {
    "collapsed": false,
    "deletable": true,
    "editable": true
   },
   "outputs": [],
   "source": [
    "import pandas as pd\n",
    "import numpy as np\n",
    "import matplotlib.pyplot as plt\n",
    "try:\n",
    "   import cPickle as pickle\n",
    "except:\n",
    "   import pickle\n",
    "\n",
    "%matplotlib inline "
   ]
  },
  {
   "cell_type": "markdown",
   "metadata": {
    "deletable": true,
    "editable": true
   },
   "source": [
    "### Set working Directory ###"
   ]
  },
  {
   "cell_type": "code",
   "execution_count": 2,
   "metadata": {
    "collapsed": true,
    "deletable": true,
    "editable": true
   },
   "outputs": [],
   "source": [
    "working_dir = '/home/dolu/Projects/CDCMortality/data/'\n",
    "results_dir = '/home/dolu/Projects/CDCMortality/results/'"
   ]
  },
  {
   "cell_type": "code",
   "execution_count": 3,
   "metadata": {
    "collapsed": false,
    "deletable": true,
    "editable": true
   },
   "outputs": [
    {
     "name": "stdout",
     "output_type": "stream",
     "text": [
      "/home/dolu/Projects/CDCMortality/data\n"
     ]
    }
   ],
   "source": [
    "cd '/home/dolu/Projects/CDCMortality/data/'"
   ]
  },
  {
   "cell_type": "markdown",
   "metadata": {
    "deletable": true,
    "editable": true
   },
   "source": [
    "### Import Data ###"
   ]
  },
  {
   "cell_type": "code",
   "execution_count": 5,
   "metadata": {
    "collapsed": false,
    "deletable": true,
    "editable": true
   },
   "outputs": [],
   "source": [
    "filename = 'mortalitydata.csv'\n",
    "data_all = pd.read_csv(filename, sep= ',')"
   ]
  },
  {
   "cell_type": "code",
   "execution_count": 6,
   "metadata": {
    "collapsed": false,
    "deletable": true,
    "editable": true
   },
   "outputs": [],
   "source": [
    "data_all = data_all.drop('Unnamed: 0', axis=1)"
   ]
  },
  {
   "cell_type": "code",
   "execution_count": null,
   "metadata": {
    "collapsed": false,
    "deletable": true,
    "editable": true
   },
   "outputs": [],
   "source": [
    "data_all.shape"
   ]
  },
  {
   "cell_type": "code",
   "execution_count": 7,
   "metadata": {
    "collapsed": false,
    "deletable": true,
    "editable": true
   },
   "outputs": [
    {
     "data": {
      "text/html": [
       "<div>\n",
       "<table border=\"1\" class=\"dataframe\">\n",
       "  <thead>\n",
       "    <tr style=\"text-align: right;\">\n",
       "      <th></th>\n",
       "      <th>Education</th>\n",
       "      <th>Sex</th>\n",
       "      <th>Age</th>\n",
       "      <th>CurrentDataYear</th>\n",
       "      <th>MannerofDeath</th>\n",
       "      <th>UCD_ICD10</th>\n",
       "      <th>UC113</th>\n",
       "      <th>UC358</th>\n",
       "      <th>EntityAxisNumof</th>\n",
       "      <th>EntityAxisConditions</th>\n",
       "      <th>RecordAxisNumof</th>\n",
       "      <th>RecordAxisConditions</th>\n",
       "      <th>Race</th>\n",
       "      <th>Education_ctg</th>\n",
       "      <th>Age_ctg</th>\n",
       "      <th>Race_ctg</th>\n",
       "      <th>UC113_ICD10</th>\n",
       "      <th>UC358_ICD10</th>\n",
       "    </tr>\n",
       "  </thead>\n",
       "  <tbody>\n",
       "    <tr>\n",
       "      <th>0</th>\n",
       "      <td>0</td>\n",
       "      <td>M</td>\n",
       "      <td>38</td>\n",
       "      <td>1999</td>\n",
       "      <td>7</td>\n",
       "      <td>R570</td>\n",
       "      <td>110</td>\n",
       "      <td>380</td>\n",
       "      <td>1</td>\n",
       "      <td>11R570                                        ...</td>\n",
       "      <td>1</td>\n",
       "      <td>R570                                          ...</td>\n",
       "      <td>1</td>\n",
       "      <td>No formal education</td>\n",
       "      <td>35-44</td>\n",
       "      <td>White</td>\n",
       "      <td>Symptoms, signs and abnormal clinical and labo...</td>\n",
       "      <td>All other symptoms, signs and abnormal clinica...</td>\n",
       "    </tr>\n",
       "    <tr>\n",
       "      <th>1</th>\n",
       "      <td>6</td>\n",
       "      <td>M</td>\n",
       "      <td>86</td>\n",
       "      <td>1999</td>\n",
       "      <td>7</td>\n",
       "      <td>N19</td>\n",
       "      <td>100</td>\n",
       "      <td>327</td>\n",
       "      <td>1</td>\n",
       "      <td>11N19                                         ...</td>\n",
       "      <td>1</td>\n",
       "      <td>N19                                           ...</td>\n",
       "      <td>1</td>\n",
       "      <td>elementary school</td>\n",
       "      <td>85-120</td>\n",
       "      <td>White</td>\n",
       "      <td>Renal failure (N17-N19)</td>\n",
       "      <td>Renal failure (N17-N19)</td>\n",
       "    </tr>\n",
       "    <tr>\n",
       "      <th>2</th>\n",
       "      <td>7</td>\n",
       "      <td>M</td>\n",
       "      <td>82</td>\n",
       "      <td>1999</td>\n",
       "      <td>7</td>\n",
       "      <td>I219</td>\n",
       "      <td>59</td>\n",
       "      <td>211</td>\n",
       "      <td>2</td>\n",
       "      <td>11I219 61R568                                 ...</td>\n",
       "      <td>2</td>\n",
       "      <td>I219 R568                                     ...</td>\n",
       "      <td>1</td>\n",
       "      <td>elementary school</td>\n",
       "      <td>75-84</td>\n",
       "      <td>White</td>\n",
       "      <td>Acute myocardial infarction (I21-I22)</td>\n",
       "      <td>Acute myocardial infarction (I21-I22)</td>\n",
       "    </tr>\n",
       "    <tr>\n",
       "      <th>3</th>\n",
       "      <td>14</td>\n",
       "      <td>F</td>\n",
       "      <td>53</td>\n",
       "      <td>1999</td>\n",
       "      <td></td>\n",
       "      <td>I420</td>\n",
       "      <td>68</td>\n",
       "      <td>227</td>\n",
       "      <td>2</td>\n",
       "      <td>11I500 21I420                                 ...</td>\n",
       "      <td>2</td>\n",
       "      <td>I420 I500                                     ...</td>\n",
       "      <td>2</td>\n",
       "      <td>college</td>\n",
       "      <td>45-54</td>\n",
       "      <td>Black</td>\n",
       "      <td>All other forms of heart disease (I26-I28,I34-...</td>\n",
       "      <td>Cardiomyopathy (I42)</td>\n",
       "    </tr>\n",
       "    <tr>\n",
       "      <th>4</th>\n",
       "      <td>6</td>\n",
       "      <td>M</td>\n",
       "      <td>75</td>\n",
       "      <td>1999</td>\n",
       "      <td>7</td>\n",
       "      <td>C229</td>\n",
       "      <td>24</td>\n",
       "      <td>85</td>\n",
       "      <td>1</td>\n",
       "      <td>11C229                                        ...</td>\n",
       "      <td>1</td>\n",
       "      <td>C229                                          ...</td>\n",
       "      <td>1</td>\n",
       "      <td>elementary school</td>\n",
       "      <td>75-84</td>\n",
       "      <td>White</td>\n",
       "      <td>Malignant neoplasms of liver and intrahepatic ...</td>\n",
       "      <td>Liver (C22.0,C22.2-C22.9)</td>\n",
       "    </tr>\n",
       "  </tbody>\n",
       "</table>\n",
       "</div>"
      ],
      "text/plain": [
       "  Education Sex  Age  CurrentDataYear MannerofDeath UCD_ICD10  UC113  UC358  \\\n",
       "0         0   M   38             1999             7      R570    110    380   \n",
       "1         6   M   86             1999             7      N19     100    327   \n",
       "2         7   M   82             1999             7      I219     59    211   \n",
       "3        14   F   53             1999                    I420     68    227   \n",
       "4         6   M   75             1999             7      C229     24     85   \n",
       "\n",
       "   EntityAxisNumof                               EntityAxisConditions  \\\n",
       "0                1  11R570                                        ...   \n",
       "1                1  11N19                                         ...   \n",
       "2                2  11I219 61R568                                 ...   \n",
       "3                2  11I500 21I420                                 ...   \n",
       "4                1  11C229                                        ...   \n",
       "\n",
       "   RecordAxisNumof                               RecordAxisConditions  Race  \\\n",
       "0                1  R570                                          ...     1   \n",
       "1                1  N19                                           ...     1   \n",
       "2                2  I219 R568                                     ...     1   \n",
       "3                2  I420 I500                                     ...     2   \n",
       "4                1  C229                                          ...     1   \n",
       "\n",
       "         Education_ctg Age_ctg Race_ctg  \\\n",
       "0  No formal education   35-44    White   \n",
       "1    elementary school  85-120    White   \n",
       "2    elementary school   75-84    White   \n",
       "3              college   45-54    Black   \n",
       "4    elementary school   75-84    White   \n",
       "\n",
       "                                         UC113_ICD10  \\\n",
       "0  Symptoms, signs and abnormal clinical and labo...   \n",
       "1                            Renal failure (N17-N19)   \n",
       "2              Acute myocardial infarction (I21-I22)   \n",
       "3  All other forms of heart disease (I26-I28,I34-...   \n",
       "4  Malignant neoplasms of liver and intrahepatic ...   \n",
       "\n",
       "                                         UC358_ICD10  \n",
       "0  All other symptoms, signs and abnormal clinica...  \n",
       "1                            Renal failure (N17-N19)  \n",
       "2              Acute myocardial infarction (I21-I22)  \n",
       "3                               Cardiomyopathy (I42)  \n",
       "4                          Liver (C22.0,C22.2-C22.9)  "
      ]
     },
     "execution_count": 7,
     "metadata": {},
     "output_type": "execute_result"
    }
   ],
   "source": [
    "data_all.head()"
   ]
  },
  {
   "cell_type": "markdown",
   "metadata": {
    "deletable": true,
    "editable": true
   },
   "source": [
    "### Import entity and record axis codes"
   ]
  },
  {
   "cell_type": "code",
   "execution_count": 8,
   "metadata": {
    "collapsed": false,
    "deletable": true,
    "editable": true
   },
   "outputs": [
    {
     "name": "stderr",
     "output_type": "stream",
     "text": [
      "/usr/local/lib/python2.7/dist-packages/IPython/core/interactiveshell.py:2717: DtypeWarning: Columns (12,14,15,16,17,18,19) have mixed types. Specify dtype option on import or set low_memory=False.\n",
      "  interactivity=interactivity, compiler=compiler, result=result)\n",
      "/usr/local/lib/python2.7/dist-packages/IPython/core/interactiveshell.py:2717: DtypeWarning: Columns (14,15,16,17,18,19,20) have mixed types. Specify dtype option on import or set low_memory=False.\n",
      "  interactivity=interactivity, compiler=compiler, result=result)\n"
     ]
    }
   ],
   "source": [
    "recordaxis = pd.read_csv('/home/dolu/Projects/CDCMortality/data/recordaxis.csv', sep= ',')\n",
    "entityaxis = pd.read_csv('/home/dolu/Projects/CDCMortality/data/entityaxis.csv', sep= ',')"
   ]
  },
  {
   "cell_type": "code",
   "execution_count": 9,
   "metadata": {
    "collapsed": false,
    "deletable": true,
    "editable": true
   },
   "outputs": [
    {
     "data": {
      "text/plain": [
       "(42243046, 21)"
      ]
     },
     "execution_count": 9,
     "metadata": {},
     "output_type": "execute_result"
    }
   ],
   "source": [
    "entityaxis.shape"
   ]
  },
  {
   "cell_type": "code",
   "execution_count": 10,
   "metadata": {
    "collapsed": false,
    "deletable": true,
    "editable": true
   },
   "outputs": [
    {
     "data": {
      "text/html": [
       "<div>\n",
       "<table border=\"1\" class=\"dataframe\">\n",
       "  <thead>\n",
       "    <tr style=\"text-align: right;\">\n",
       "      <th></th>\n",
       "      <th>condition1</th>\n",
       "      <th>condition2</th>\n",
       "      <th>condition3</th>\n",
       "      <th>condition4</th>\n",
       "      <th>condition5</th>\n",
       "      <th>condition6</th>\n",
       "      <th>condition7</th>\n",
       "      <th>condition8</th>\n",
       "      <th>condition9</th>\n",
       "      <th>condition10</th>\n",
       "      <th>condition11</th>\n",
       "      <th>condition12</th>\n",
       "      <th>condition13</th>\n",
       "      <th>condition14</th>\n",
       "      <th>condition15</th>\n",
       "      <th>condition16</th>\n",
       "      <th>condition17</th>\n",
       "      <th>condition18</th>\n",
       "      <th>condition19</th>\n",
       "      <th>condition20</th>\n",
       "    </tr>\n",
       "  </thead>\n",
       "  <tbody>\n",
       "    <tr>\n",
       "      <th>42243041</th>\n",
       "      <td>11P072</td>\n",
       "      <td>NaN</td>\n",
       "      <td>NaN</td>\n",
       "      <td>NaN</td>\n",
       "      <td>NaN</td>\n",
       "      <td>NaN</td>\n",
       "      <td>NaN</td>\n",
       "      <td>NaN</td>\n",
       "      <td>NaN</td>\n",
       "      <td>NaN</td>\n",
       "      <td>NaN</td>\n",
       "      <td>NaN</td>\n",
       "      <td>NaN</td>\n",
       "      <td>NaN</td>\n",
       "      <td>NaN</td>\n",
       "      <td>NaN</td>\n",
       "      <td>NaN</td>\n",
       "      <td>NaN</td>\n",
       "      <td>NaN</td>\n",
       "      <td>NaN</td>\n",
       "    </tr>\n",
       "    <tr>\n",
       "      <th>42243042</th>\n",
       "      <td>11R092</td>\n",
       "      <td>21I251</td>\n",
       "      <td>61F179</td>\n",
       "      <td>NaN</td>\n",
       "      <td>NaN</td>\n",
       "      <td>NaN</td>\n",
       "      <td>NaN</td>\n",
       "      <td>NaN</td>\n",
       "      <td>NaN</td>\n",
       "      <td>NaN</td>\n",
       "      <td>NaN</td>\n",
       "      <td>NaN</td>\n",
       "      <td>NaN</td>\n",
       "      <td>NaN</td>\n",
       "      <td>NaN</td>\n",
       "      <td>NaN</td>\n",
       "      <td>NaN</td>\n",
       "      <td>NaN</td>\n",
       "      <td>NaN</td>\n",
       "      <td>NaN</td>\n",
       "    </tr>\n",
       "    <tr>\n",
       "      <th>42243043</th>\n",
       "      <td>11F102</td>\n",
       "      <td>NaN</td>\n",
       "      <td>NaN</td>\n",
       "      <td>NaN</td>\n",
       "      <td>NaN</td>\n",
       "      <td>NaN</td>\n",
       "      <td>NaN</td>\n",
       "      <td>NaN</td>\n",
       "      <td>NaN</td>\n",
       "      <td>NaN</td>\n",
       "      <td>NaN</td>\n",
       "      <td>NaN</td>\n",
       "      <td>NaN</td>\n",
       "      <td>NaN</td>\n",
       "      <td>NaN</td>\n",
       "      <td>NaN</td>\n",
       "      <td>NaN</td>\n",
       "      <td>NaN</td>\n",
       "      <td>NaN</td>\n",
       "      <td>NaN</td>\n",
       "    </tr>\n",
       "    <tr>\n",
       "      <th>42243044</th>\n",
       "      <td>11R263</td>\n",
       "      <td>21I119</td>\n",
       "      <td>22I679</td>\n",
       "      <td>23I250</td>\n",
       "      <td>24I672</td>\n",
       "      <td>NaN</td>\n",
       "      <td>NaN</td>\n",
       "      <td>NaN</td>\n",
       "      <td>NaN</td>\n",
       "      <td>NaN</td>\n",
       "      <td>NaN</td>\n",
       "      <td>NaN</td>\n",
       "      <td>NaN</td>\n",
       "      <td>NaN</td>\n",
       "      <td>NaN</td>\n",
       "      <td>NaN</td>\n",
       "      <td>NaN</td>\n",
       "      <td>NaN</td>\n",
       "      <td>NaN</td>\n",
       "      <td>NaN</td>\n",
       "    </tr>\n",
       "    <tr>\n",
       "      <th>42243045</th>\n",
       "      <td>11I119</td>\n",
       "      <td>21I10</td>\n",
       "      <td>NaN</td>\n",
       "      <td>NaN</td>\n",
       "      <td>NaN</td>\n",
       "      <td>NaN</td>\n",
       "      <td>NaN</td>\n",
       "      <td>NaN</td>\n",
       "      <td>NaN</td>\n",
       "      <td>NaN</td>\n",
       "      <td>NaN</td>\n",
       "      <td>NaN</td>\n",
       "      <td>NaN</td>\n",
       "      <td>NaN</td>\n",
       "      <td>NaN</td>\n",
       "      <td>NaN</td>\n",
       "      <td>NaN</td>\n",
       "      <td>NaN</td>\n",
       "      <td>NaN</td>\n",
       "      <td>NaN</td>\n",
       "    </tr>\n",
       "  </tbody>\n",
       "</table>\n",
       "</div>"
      ],
      "text/plain": [
       "         condition1 condition2 condition3 condition4 condition5 condition6  \\\n",
       "42243041     11P072        NaN        NaN        NaN        NaN        NaN   \n",
       "42243042     11R092     21I251     61F179        NaN        NaN        NaN   \n",
       "42243043     11F102        NaN        NaN        NaN        NaN        NaN   \n",
       "42243044     11R263     21I119     22I679     23I250     24I672        NaN   \n",
       "42243045     11I119      21I10        NaN        NaN        NaN        NaN   \n",
       "\n",
       "         condition7 condition8 condition9 condition10 condition11 condition12  \\\n",
       "42243041        NaN        NaN        NaN         NaN         NaN         NaN   \n",
       "42243042        NaN        NaN        NaN         NaN         NaN         NaN   \n",
       "42243043        NaN        NaN        NaN         NaN         NaN         NaN   \n",
       "42243044        NaN        NaN        NaN         NaN         NaN         NaN   \n",
       "42243045        NaN        NaN        NaN         NaN         NaN         NaN   \n",
       "\n",
       "         condition13 condition14 condition15 condition16 condition17  \\\n",
       "42243041         NaN         NaN         NaN         NaN         NaN   \n",
       "42243042         NaN         NaN         NaN         NaN         NaN   \n",
       "42243043         NaN         NaN         NaN         NaN         NaN   \n",
       "42243044         NaN         NaN         NaN         NaN         NaN   \n",
       "42243045         NaN         NaN         NaN         NaN         NaN   \n",
       "\n",
       "         condition18 condition19 condition20  \n",
       "42243041         NaN         NaN         NaN  \n",
       "42243042         NaN         NaN         NaN  \n",
       "42243043         NaN         NaN         NaN  \n",
       "42243044         NaN         NaN         NaN  \n",
       "42243045         NaN         NaN         NaN  "
      ]
     },
     "execution_count": 10,
     "metadata": {},
     "output_type": "execute_result"
    }
   ],
   "source": [
    "entityaxis = entityaxis.drop('Unnamed: 0', axis=1)\n",
    "entityaxis.tail(5)"
   ]
  },
  {
   "cell_type": "code",
   "execution_count": 11,
   "metadata": {
    "collapsed": false,
    "deletable": true,
    "editable": true
   },
   "outputs": [
    {
     "data": {
      "text/html": [
       "<div>\n",
       "<table border=\"1\" class=\"dataframe\">\n",
       "  <thead>\n",
       "    <tr style=\"text-align: right;\">\n",
       "      <th></th>\n",
       "      <th>condition1</th>\n",
       "      <th>condition2</th>\n",
       "      <th>condition3</th>\n",
       "      <th>condition4</th>\n",
       "      <th>condition5</th>\n",
       "      <th>condition6</th>\n",
       "      <th>condition7</th>\n",
       "      <th>condition8</th>\n",
       "      <th>condition9</th>\n",
       "      <th>condition10</th>\n",
       "      <th>condition11</th>\n",
       "      <th>condition12</th>\n",
       "      <th>condition13</th>\n",
       "      <th>condition14</th>\n",
       "      <th>condition15</th>\n",
       "      <th>condition16</th>\n",
       "      <th>condition17</th>\n",
       "      <th>condition18</th>\n",
       "      <th>condition19</th>\n",
       "      <th>condition20</th>\n",
       "    </tr>\n",
       "  </thead>\n",
       "  <tbody>\n",
       "    <tr>\n",
       "      <th>42243041</th>\n",
       "      <td>11P072</td>\n",
       "      <td></td>\n",
       "      <td></td>\n",
       "      <td></td>\n",
       "      <td></td>\n",
       "      <td></td>\n",
       "      <td></td>\n",
       "      <td></td>\n",
       "      <td></td>\n",
       "      <td></td>\n",
       "      <td></td>\n",
       "      <td></td>\n",
       "      <td></td>\n",
       "      <td></td>\n",
       "      <td></td>\n",
       "      <td></td>\n",
       "      <td></td>\n",
       "      <td></td>\n",
       "      <td></td>\n",
       "      <td></td>\n",
       "    </tr>\n",
       "    <tr>\n",
       "      <th>42243042</th>\n",
       "      <td>11R092</td>\n",
       "      <td>21I251</td>\n",
       "      <td>61F179</td>\n",
       "      <td></td>\n",
       "      <td></td>\n",
       "      <td></td>\n",
       "      <td></td>\n",
       "      <td></td>\n",
       "      <td></td>\n",
       "      <td></td>\n",
       "      <td></td>\n",
       "      <td></td>\n",
       "      <td></td>\n",
       "      <td></td>\n",
       "      <td></td>\n",
       "      <td></td>\n",
       "      <td></td>\n",
       "      <td></td>\n",
       "      <td></td>\n",
       "      <td></td>\n",
       "    </tr>\n",
       "    <tr>\n",
       "      <th>42243043</th>\n",
       "      <td>11F102</td>\n",
       "      <td></td>\n",
       "      <td></td>\n",
       "      <td></td>\n",
       "      <td></td>\n",
       "      <td></td>\n",
       "      <td></td>\n",
       "      <td></td>\n",
       "      <td></td>\n",
       "      <td></td>\n",
       "      <td></td>\n",
       "      <td></td>\n",
       "      <td></td>\n",
       "      <td></td>\n",
       "      <td></td>\n",
       "      <td></td>\n",
       "      <td></td>\n",
       "      <td></td>\n",
       "      <td></td>\n",
       "      <td></td>\n",
       "    </tr>\n",
       "    <tr>\n",
       "      <th>42243044</th>\n",
       "      <td>11R263</td>\n",
       "      <td>21I119</td>\n",
       "      <td>22I679</td>\n",
       "      <td>23I250</td>\n",
       "      <td>24I672</td>\n",
       "      <td></td>\n",
       "      <td></td>\n",
       "      <td></td>\n",
       "      <td></td>\n",
       "      <td></td>\n",
       "      <td></td>\n",
       "      <td></td>\n",
       "      <td></td>\n",
       "      <td></td>\n",
       "      <td></td>\n",
       "      <td></td>\n",
       "      <td></td>\n",
       "      <td></td>\n",
       "      <td></td>\n",
       "      <td></td>\n",
       "    </tr>\n",
       "    <tr>\n",
       "      <th>42243045</th>\n",
       "      <td>11I119</td>\n",
       "      <td>21I10</td>\n",
       "      <td></td>\n",
       "      <td></td>\n",
       "      <td></td>\n",
       "      <td></td>\n",
       "      <td></td>\n",
       "      <td></td>\n",
       "      <td></td>\n",
       "      <td></td>\n",
       "      <td></td>\n",
       "      <td></td>\n",
       "      <td></td>\n",
       "      <td></td>\n",
       "      <td></td>\n",
       "      <td></td>\n",
       "      <td></td>\n",
       "      <td></td>\n",
       "      <td></td>\n",
       "      <td></td>\n",
       "    </tr>\n",
       "  </tbody>\n",
       "</table>\n",
       "</div>"
      ],
      "text/plain": [
       "         condition1 condition2 condition3 condition4 condition5 condition6  \\\n",
       "42243041     11P072                                                          \n",
       "42243042     11R092     21I251     61F179                                    \n",
       "42243043     11F102                                                          \n",
       "42243044     11R263     21I119     22I679     23I250     24I672              \n",
       "42243045     11I119      21I10                                               \n",
       "\n",
       "         condition7 condition8 condition9 condition10 condition11 condition12  \\\n",
       "42243041                                                                        \n",
       "42243042                                                                        \n",
       "42243043                                                                        \n",
       "42243044                                                                        \n",
       "42243045                                                                        \n",
       "\n",
       "         condition13 condition14 condition15 condition16 condition17  \\\n",
       "42243041                                                               \n",
       "42243042                                                               \n",
       "42243043                                                               \n",
       "42243044                                                               \n",
       "42243045                                                               \n",
       "\n",
       "         condition18 condition19 condition20  \n",
       "42243041                                      \n",
       "42243042                                      \n",
       "42243043                                      \n",
       "42243044                                      \n",
       "42243045                                      "
      ]
     },
     "execution_count": 11,
     "metadata": {},
     "output_type": "execute_result"
    }
   ],
   "source": [
    "entityaxis = entityaxis.fillna(' ')\n",
    "entityaxis.tail()"
   ]
  },
  {
   "cell_type": "code",
   "execution_count": 12,
   "metadata": {
    "collapsed": false,
    "deletable": true,
    "editable": true
   },
   "outputs": [
    {
     "data": {
      "text/html": [
       "<div>\n",
       "<table border=\"1\" class=\"dataframe\">\n",
       "  <thead>\n",
       "    <tr style=\"text-align: right;\">\n",
       "      <th></th>\n",
       "      <th>condition1</th>\n",
       "      <th>condition2</th>\n",
       "      <th>condition3</th>\n",
       "      <th>condition4</th>\n",
       "      <th>condition5</th>\n",
       "      <th>condition6</th>\n",
       "      <th>condition7</th>\n",
       "      <th>condition8</th>\n",
       "      <th>condition9</th>\n",
       "      <th>condition10</th>\n",
       "      <th>condition11</th>\n",
       "      <th>condition12</th>\n",
       "      <th>condition13</th>\n",
       "      <th>condition14</th>\n",
       "      <th>condition15</th>\n",
       "      <th>condition16</th>\n",
       "      <th>condition17</th>\n",
       "      <th>condition18</th>\n",
       "      <th>condition19</th>\n",
       "    </tr>\n",
       "  </thead>\n",
       "  <tbody>\n",
       "    <tr>\n",
       "      <th>42243041</th>\n",
       "      <td>P072</td>\n",
       "      <td>NaN</td>\n",
       "      <td>NaN</td>\n",
       "      <td>NaN</td>\n",
       "      <td>NaN</td>\n",
       "      <td>NaN</td>\n",
       "      <td>NaN</td>\n",
       "      <td>NaN</td>\n",
       "      <td>NaN</td>\n",
       "      <td>NaN</td>\n",
       "      <td>NaN</td>\n",
       "      <td>NaN</td>\n",
       "      <td>NaN</td>\n",
       "      <td>NaN</td>\n",
       "      <td>NaN</td>\n",
       "      <td>NaN</td>\n",
       "      <td>NaN</td>\n",
       "      <td>NaN</td>\n",
       "      <td>NaN</td>\n",
       "    </tr>\n",
       "    <tr>\n",
       "      <th>42243042</th>\n",
       "      <td>I251</td>\n",
       "      <td>F179</td>\n",
       "      <td>R092</td>\n",
       "      <td>NaN</td>\n",
       "      <td>NaN</td>\n",
       "      <td>NaN</td>\n",
       "      <td>NaN</td>\n",
       "      <td>NaN</td>\n",
       "      <td>NaN</td>\n",
       "      <td>NaN</td>\n",
       "      <td>NaN</td>\n",
       "      <td>NaN</td>\n",
       "      <td>NaN</td>\n",
       "      <td>NaN</td>\n",
       "      <td>NaN</td>\n",
       "      <td>NaN</td>\n",
       "      <td>NaN</td>\n",
       "      <td>NaN</td>\n",
       "      <td>NaN</td>\n",
       "    </tr>\n",
       "    <tr>\n",
       "      <th>42243043</th>\n",
       "      <td>F102</td>\n",
       "      <td>NaN</td>\n",
       "      <td>NaN</td>\n",
       "      <td>NaN</td>\n",
       "      <td>NaN</td>\n",
       "      <td>NaN</td>\n",
       "      <td>NaN</td>\n",
       "      <td>NaN</td>\n",
       "      <td>NaN</td>\n",
       "      <td>NaN</td>\n",
       "      <td>NaN</td>\n",
       "      <td>NaN</td>\n",
       "      <td>NaN</td>\n",
       "      <td>NaN</td>\n",
       "      <td>NaN</td>\n",
       "      <td>NaN</td>\n",
       "      <td>NaN</td>\n",
       "      <td>NaN</td>\n",
       "      <td>NaN</td>\n",
       "    </tr>\n",
       "    <tr>\n",
       "      <th>42243044</th>\n",
       "      <td>I250</td>\n",
       "      <td>I119</td>\n",
       "      <td>I672</td>\n",
       "      <td>R263</td>\n",
       "      <td>NaN</td>\n",
       "      <td>NaN</td>\n",
       "      <td>NaN</td>\n",
       "      <td>NaN</td>\n",
       "      <td>NaN</td>\n",
       "      <td>NaN</td>\n",
       "      <td>NaN</td>\n",
       "      <td>NaN</td>\n",
       "      <td>NaN</td>\n",
       "      <td>NaN</td>\n",
       "      <td>NaN</td>\n",
       "      <td>NaN</td>\n",
       "      <td>NaN</td>\n",
       "      <td>NaN</td>\n",
       "      <td>NaN</td>\n",
       "    </tr>\n",
       "    <tr>\n",
       "      <th>42243045</th>\n",
       "      <td>I119</td>\n",
       "      <td>I10</td>\n",
       "      <td>NaN</td>\n",
       "      <td>NaN</td>\n",
       "      <td>NaN</td>\n",
       "      <td>NaN</td>\n",
       "      <td>NaN</td>\n",
       "      <td>NaN</td>\n",
       "      <td>NaN</td>\n",
       "      <td>NaN</td>\n",
       "      <td>NaN</td>\n",
       "      <td>NaN</td>\n",
       "      <td>NaN</td>\n",
       "      <td>NaN</td>\n",
       "      <td>NaN</td>\n",
       "      <td>NaN</td>\n",
       "      <td>NaN</td>\n",
       "      <td>NaN</td>\n",
       "      <td>NaN</td>\n",
       "    </tr>\n",
       "  </tbody>\n",
       "</table>\n",
       "</div>"
      ],
      "text/plain": [
       "         condition1 condition2 condition3 condition4 condition5 condition6  \\\n",
       "42243041       P072        NaN        NaN        NaN        NaN        NaN   \n",
       "42243042       I251       F179       R092        NaN        NaN        NaN   \n",
       "42243043       F102        NaN        NaN        NaN        NaN        NaN   \n",
       "42243044       I250       I119       I672       R263        NaN        NaN   \n",
       "42243045       I119        I10        NaN        NaN        NaN        NaN   \n",
       "\n",
       "         condition7 condition8 condition9 condition10 condition11 condition12  \\\n",
       "42243041        NaN        NaN        NaN         NaN         NaN         NaN   \n",
       "42243042        NaN        NaN        NaN         NaN         NaN         NaN   \n",
       "42243043        NaN        NaN        NaN         NaN         NaN         NaN   \n",
       "42243044        NaN        NaN        NaN         NaN         NaN         NaN   \n",
       "42243045        NaN        NaN        NaN         NaN         NaN         NaN   \n",
       "\n",
       "         condition13 condition14 condition15 condition16 condition17  \\\n",
       "42243041         NaN         NaN         NaN         NaN         NaN   \n",
       "42243042         NaN         NaN         NaN         NaN         NaN   \n",
       "42243043         NaN         NaN         NaN         NaN         NaN   \n",
       "42243044         NaN         NaN         NaN         NaN         NaN   \n",
       "42243045         NaN         NaN         NaN         NaN         NaN   \n",
       "\n",
       "         condition18 condition19  \n",
       "42243041         NaN         NaN  \n",
       "42243042         NaN         NaN  \n",
       "42243043         NaN         NaN  \n",
       "42243044         NaN         NaN  \n",
       "42243045         NaN         NaN  "
      ]
     },
     "execution_count": 12,
     "metadata": {},
     "output_type": "execute_result"
    }
   ],
   "source": [
    "recordaxis = recordaxis.drop('Unnamed: 0', axis=1)\n",
    "recordaxis.tail()"
   ]
  },
  {
   "cell_type": "code",
   "execution_count": 13,
   "metadata": {
    "collapsed": false,
    "deletable": true,
    "editable": true
   },
   "outputs": [
    {
     "data": {
      "text/html": [
       "<div>\n",
       "<table border=\"1\" class=\"dataframe\">\n",
       "  <thead>\n",
       "    <tr style=\"text-align: right;\">\n",
       "      <th></th>\n",
       "      <th>condition1</th>\n",
       "      <th>condition2</th>\n",
       "      <th>condition3</th>\n",
       "      <th>condition4</th>\n",
       "      <th>condition5</th>\n",
       "      <th>condition6</th>\n",
       "      <th>condition7</th>\n",
       "      <th>condition8</th>\n",
       "      <th>condition9</th>\n",
       "      <th>condition10</th>\n",
       "      <th>condition11</th>\n",
       "      <th>condition12</th>\n",
       "      <th>condition13</th>\n",
       "      <th>condition14</th>\n",
       "      <th>condition15</th>\n",
       "      <th>condition16</th>\n",
       "      <th>condition17</th>\n",
       "      <th>condition18</th>\n",
       "      <th>condition19</th>\n",
       "    </tr>\n",
       "  </thead>\n",
       "  <tbody>\n",
       "    <tr>\n",
       "      <th>42243041</th>\n",
       "      <td>P072</td>\n",
       "      <td></td>\n",
       "      <td></td>\n",
       "      <td></td>\n",
       "      <td></td>\n",
       "      <td></td>\n",
       "      <td></td>\n",
       "      <td></td>\n",
       "      <td></td>\n",
       "      <td></td>\n",
       "      <td></td>\n",
       "      <td></td>\n",
       "      <td></td>\n",
       "      <td></td>\n",
       "      <td></td>\n",
       "      <td></td>\n",
       "      <td></td>\n",
       "      <td></td>\n",
       "      <td></td>\n",
       "    </tr>\n",
       "    <tr>\n",
       "      <th>42243042</th>\n",
       "      <td>I251</td>\n",
       "      <td>F179</td>\n",
       "      <td>R092</td>\n",
       "      <td></td>\n",
       "      <td></td>\n",
       "      <td></td>\n",
       "      <td></td>\n",
       "      <td></td>\n",
       "      <td></td>\n",
       "      <td></td>\n",
       "      <td></td>\n",
       "      <td></td>\n",
       "      <td></td>\n",
       "      <td></td>\n",
       "      <td></td>\n",
       "      <td></td>\n",
       "      <td></td>\n",
       "      <td></td>\n",
       "      <td></td>\n",
       "    </tr>\n",
       "    <tr>\n",
       "      <th>42243043</th>\n",
       "      <td>F102</td>\n",
       "      <td></td>\n",
       "      <td></td>\n",
       "      <td></td>\n",
       "      <td></td>\n",
       "      <td></td>\n",
       "      <td></td>\n",
       "      <td></td>\n",
       "      <td></td>\n",
       "      <td></td>\n",
       "      <td></td>\n",
       "      <td></td>\n",
       "      <td></td>\n",
       "      <td></td>\n",
       "      <td></td>\n",
       "      <td></td>\n",
       "      <td></td>\n",
       "      <td></td>\n",
       "      <td></td>\n",
       "    </tr>\n",
       "    <tr>\n",
       "      <th>42243044</th>\n",
       "      <td>I250</td>\n",
       "      <td>I119</td>\n",
       "      <td>I672</td>\n",
       "      <td>R263</td>\n",
       "      <td></td>\n",
       "      <td></td>\n",
       "      <td></td>\n",
       "      <td></td>\n",
       "      <td></td>\n",
       "      <td></td>\n",
       "      <td></td>\n",
       "      <td></td>\n",
       "      <td></td>\n",
       "      <td></td>\n",
       "      <td></td>\n",
       "      <td></td>\n",
       "      <td></td>\n",
       "      <td></td>\n",
       "      <td></td>\n",
       "    </tr>\n",
       "    <tr>\n",
       "      <th>42243045</th>\n",
       "      <td>I119</td>\n",
       "      <td>I10</td>\n",
       "      <td></td>\n",
       "      <td></td>\n",
       "      <td></td>\n",
       "      <td></td>\n",
       "      <td></td>\n",
       "      <td></td>\n",
       "      <td></td>\n",
       "      <td></td>\n",
       "      <td></td>\n",
       "      <td></td>\n",
       "      <td></td>\n",
       "      <td></td>\n",
       "      <td></td>\n",
       "      <td></td>\n",
       "      <td></td>\n",
       "      <td></td>\n",
       "      <td></td>\n",
       "    </tr>\n",
       "  </tbody>\n",
       "</table>\n",
       "</div>"
      ],
      "text/plain": [
       "         condition1 condition2 condition3 condition4 condition5 condition6  \\\n",
       "42243041       P072                                                          \n",
       "42243042       I251       F179       R092                                    \n",
       "42243043       F102                                                          \n",
       "42243044       I250       I119       I672       R263                         \n",
       "42243045       I119        I10                                               \n",
       "\n",
       "         condition7 condition8 condition9 condition10 condition11 condition12  \\\n",
       "42243041                                                                        \n",
       "42243042                                                                        \n",
       "42243043                                                                        \n",
       "42243044                                                                        \n",
       "42243045                                                                        \n",
       "\n",
       "         condition13 condition14 condition15 condition16 condition17  \\\n",
       "42243041                                                               \n",
       "42243042                                                               \n",
       "42243043                                                               \n",
       "42243044                                                               \n",
       "42243045                                                               \n",
       "\n",
       "         condition18 condition19  \n",
       "42243041                          \n",
       "42243042                          \n",
       "42243043                          \n",
       "42243044                          \n",
       "42243045                          "
      ]
     },
     "execution_count": 13,
     "metadata": {},
     "output_type": "execute_result"
    }
   ],
   "source": [
    "recordaxis = recordaxis.fillna(' ')\n",
    "recordaxis.tail()"
   ]
  },
  {
   "cell_type": "markdown",
   "metadata": {
    "deletable": true,
    "editable": true
   },
   "source": [
    "### Group UCD based on 358 Recodes"
   ]
  },
  {
   "cell_type": "code",
   "execution_count": 14,
   "metadata": {
    "collapsed": false,
    "deletable": true,
    "editable": true
   },
   "outputs": [],
   "source": [
    "# IX.Diseases of the circulatory system (I00-I99) between 197 & 246\n",
    "UCD_Circulatory = data_all[ (data_all['UC358'] >= 197) & (data_all['UC358'] < 247)]\n",
    "\n",
    "# X. Diseases of the respiratory system (J00-J98) between 247 & 278\n",
    "UCD_Respiratory = data_all[(data_all['UC358'] >= 247) & (data_all['UC358'] < 279)]\n",
    "\n",
    "# V.Mental and behavioral disorders (F01-F99) between 174 and 184\n",
    "UCD_Mental = data_all[(data_all['UC358'] >= 174) & (data_all['UC358'] < 185)]\n",
    "\n",
    "# XX.External causes of mortality (*U01-*U03,V01-Y89) between 381 and 456\n",
    "UCD_External = data_all[(data_all['UC358'] >= 381) & (data_all['UC358'] < 457)]\n"
   ]
  },
  {
   "cell_type": "markdown",
   "metadata": {
    "deletable": true,
    "editable": true
   },
   "source": [
    "### Number of observations in each subcategory"
   ]
  },
  {
   "cell_type": "code",
   "execution_count": null,
   "metadata": {
    "collapsed": false,
    "deletable": true,
    "editable": true
   },
   "outputs": [],
   "source": [
    "UCD_Mental['Age_ctg'].groupby([UCD_Mental['UC358_ICD10'], UCD_Mental['UC358'],  UCD_Mental['CurrentDataYear']]).size().nlargest(5)"
   ]
  },
  {
   "cell_type": "code",
   "execution_count": null,
   "metadata": {
    "collapsed": false,
    "deletable": true,
    "editable": true,
    "scrolled": true
   },
   "outputs": [],
   "source": [
    "UCD_Mental['Age_ctg'].groupby([UCD_Mental['UC358_ICD10'], UCD_Mental['UC358'],  UCD_Mental['CurrentDataYear']]).size()"
   ]
  },
  {
   "cell_type": "code",
   "execution_count": null,
   "metadata": {
    "collapsed": false,
    "deletable": true,
    "editable": true
   },
   "outputs": [],
   "source": [
    "UCD_Mental['Age_ctg'].groupby([UCD_Mental['UC113_ICD10'], UCD_Mental['UC113']]).size().nlargest(10)"
   ]
  },
  {
   "cell_type": "code",
   "execution_count": null,
   "metadata": {
    "collapsed": false,
    "deletable": true,
    "editable": true
   },
   "outputs": [],
   "source": [
    "UCD_External['Age_ctg'].groupby([UCD_External['UC358_ICD10'], UCD_External['UC358']]).size().nlargest(10)"
   ]
  },
  {
   "cell_type": "code",
   "execution_count": null,
   "metadata": {
    "collapsed": false,
    "deletable": true,
    "editable": true
   },
   "outputs": [],
   "source": [
    "UCD_External['Age_ctg'].groupby([UCD_External['UC113_ICD10'], UCD_External['UC113']]).size().nlargest(10)"
   ]
  },
  {
   "cell_type": "code",
   "execution_count": null,
   "metadata": {
    "collapsed": true,
    "deletable": true,
    "editable": true
   },
   "outputs": [],
   "source": []
  },
  {
   "cell_type": "markdown",
   "metadata": {
    "deletable": true,
    "editable": true
   },
   "source": [
    "### UCD Top 10"
   ]
  },
  {
   "cell_type": "code",
   "execution_count": 64,
   "metadata": {
    "collapsed": false,
    "deletable": true,
    "editable": true
   },
   "outputs": [],
   "source": [
    "UCD_top10 = data_all['UCD_ICD10'].groupby([data_all['UCD_ICD10'], data_all['UC358_ICD10']]).count().nlargest(10)"
   ]
  },
  {
   "cell_type": "code",
   "execution_count": 66,
   "metadata": {
    "collapsed": false
   },
   "outputs": [
    {
     "data": {
      "text/plain": [
       "UCD_ICD10  UC358_ICD10                                                        \n",
       "I251       All other forms of chronic ischemic heart disease (I20,I25.1-I25.9)    3239647\n",
       "C349       Of trachea, bronchus and lung (C33-C34)                                2654695\n",
       "I219       Acute myocardial infarction (I21-I22)                                  2472068\n",
       "J449       Other chronic obstructive pulmonary disease (J44)                      1722914\n",
       "F03        Organic dementia (F01,F03)                                             1281062\n",
       "I64        Stroke, not specified as hemorrhage or infarction (I64)                1271710\n",
       "G309       Alzheimer’s disease (G30)                                              1219729\n",
       "I250       Atherosclerotic cardiovascular disease, so described (I25.0)           1067770\n",
       "I500       Congestive heart failure (I50.0)                                        922298\n",
       "J189       Pneumonia due to other or unspecified organisms (J16,J18)               837660\n",
       "Name: UCD_ICD10, dtype: int64"
      ]
     },
     "execution_count": 66,
     "metadata": {},
     "output_type": "execute_result"
    }
   ],
   "source": [
    "UCD_top10"
   ]
  },
  {
   "cell_type": "code",
   "execution_count": 65,
   "metadata": {
    "collapsed": true,
    "deletable": true,
    "editable": true
   },
   "outputs": [],
   "source": [
    "UCD_top10.to_csv(results_dir + 'ucd_top10.csv ')"
   ]
  },
  {
   "cell_type": "markdown",
   "metadata": {
    "deletable": true,
    "editable": true
   },
   "source": [
    "### Find the UCD of interest based on matching strings of entity axis, record axis, and majorcause_ICD10"
   ]
  },
  {
   "cell_type": "markdown",
   "metadata": {
    "deletable": true,
    "editable": true
   },
   "source": [
    "#### F179 as an underlying cause of death "
   ]
  },
  {
   "cell_type": "code",
   "execution_count": 30,
   "metadata": {
    "collapsed": false,
    "deletable": true,
    "editable": true,
    "scrolled": true
   },
   "outputs": [
    {
     "data": {
      "text/plain": [
       "UC358_ICD10                                                                        UC358  CurrentDataYear\n",
       "Mental and behavioral disorders due to other psychoactive substance use (F11-F19)  179    2006               1200\n",
       "                                                                                          2005               1098\n",
       "                                                                                          2004                828\n",
       "                                                                                          2003                618\n",
       "                                                                                          2009                463\n",
       "dtype: int64"
      ]
     },
     "execution_count": 30,
     "metadata": {},
     "output_type": "execute_result"
    }
   ],
   "source": [
    " UCD_Mental[UCD_Mental['UCD_ICD10'] == 'F179'].groupby([UCD_Mental['UC358_ICD10'], UCD_Mental['UC358'],  UCD_Mental['CurrentDataYear']]).size().nlargest(5)"
   ]
  },
  {
   "cell_type": "code",
   "execution_count": 32,
   "metadata": {
    "collapsed": false,
    "deletable": true,
    "editable": true
   },
   "outputs": [
    {
     "data": {
      "text/plain": [
       "8568"
      ]
     },
     "execution_count": 32,
     "metadata": {},
     "output_type": "execute_result"
    }
   ],
   "source": [
    "F179_UCD =  UCD_Mental[UCD_Mental['UCD_ICD10'] == 'F179'].groupby([UCD_Mental['UC358_ICD10'], UCD_Mental['UC358'],  UCD_Mental['CurrentDataYear']]).size().sum()\n",
    "F179_UCD"
   ]
  },
  {
   "cell_type": "markdown",
   "metadata": {
    "deletable": true,
    "editable": true
   },
   "source": [
    "#### F179 mentioned as a single cause of death "
   ]
  },
  {
   "cell_type": "code",
   "execution_count": 33,
   "metadata": {
    "collapsed": false,
    "deletable": true,
    "editable": true
   },
   "outputs": [
    {
     "data": {
      "text/plain": [
       "CurrentDataYear\n",
       "2009    392\n",
       "2013    384\n",
       "2015    320\n",
       "2012    307\n",
       "2008    302\n",
       "2014    291\n",
       "2007    281\n",
       "2010    250\n",
       "2011    239\n",
       "2006    211\n",
       "dtype: int64"
      ]
     },
     "execution_count": 33,
     "metadata": {},
     "output_type": "execute_result"
    }
   ],
   "source": [
    "UCD_Mental[(UCD_Mental['RecordAxisNumof'] == 1) & (UCD_Mental['UCD_ICD10'] == 'F179')].groupby([UCD_Mental['CurrentDataYear']]).size().nlargest(10)"
   ]
  },
  {
   "cell_type": "code",
   "execution_count": 34,
   "metadata": {
    "collapsed": false,
    "deletable": true,
    "editable": true
   },
   "outputs": [
    {
     "data": {
      "text/plain": [
       "3441"
      ]
     },
     "execution_count": 34,
     "metadata": {},
     "output_type": "execute_result"
    }
   ],
   "source": [
    "F179_SingleCause = UCD_Mental[(UCD_Mental['RecordAxisNumof'] == 1) & (UCD_Mental['UCD_ICD10'] == 'F179')].groupby([UCD_Mental['CurrentDataYear']]).size().sum()\n",
    "F179_SingleCause"
   ]
  },
  {
   "cell_type": "markdown",
   "metadata": {
    "deletable": true,
    "editable": true
   },
   "source": [
    "#### F179 mentioned as cause of death, grouped by number of causes"
   ]
  },
  {
   "cell_type": "code",
   "execution_count": 38,
   "metadata": {
    "collapsed": false,
    "deletable": true,
    "editable": true
   },
   "outputs": [
    {
     "data": {
      "text/plain": [
       "RecordAxisNumof  CurrentDataYear\n",
       "2                2006               507\n",
       "                 2005               452\n",
       "                 2004               280\n",
       "3                2006               219\n",
       "                 2005               204\n",
       "2                2003               203\n",
       "3                2004               173\n",
       "                 2003               147\n",
       "4                2006               128\n",
       "3                2000               114\n",
       "dtype: int64"
      ]
     },
     "execution_count": 38,
     "metadata": {},
     "output_type": "execute_result"
    }
   ],
   "source": [
    "UCD_Mental[(UCD_Mental['RecordAxisNumof'] > 1) & (UCD_Mental['UCD_ICD10'] == 'F179')].groupby([UCD_Mental['RecordAxisNumof'],UCD_Mental['CurrentDataYear']]).size().nlargest(10)"
   ]
  },
  {
   "cell_type": "code",
   "execution_count": 39,
   "metadata": {
    "collapsed": false,
    "deletable": true,
    "editable": true
   },
   "outputs": [
    {
     "data": {
      "text/plain": [
       "5127"
      ]
     },
     "execution_count": 39,
     "metadata": {},
     "output_type": "execute_result"
    }
   ],
   "source": [
    "F179_Morethantwo = UCD_Mental[(UCD_Mental['RecordAxisNumof'] > 1) & (UCD_Mental['UCD_ICD10'] == 'F179')].groupby([UCD_Mental['RecordAxisNumof'],UCD_Mental['CurrentDataYear']]).size().sum()\n",
    "F179_Morethantwo"
   ]
  },
  {
   "cell_type": "markdown",
   "metadata": {
    "deletable": true,
    "editable": true
   },
   "source": [
    "#### F179 as a cause of death, any mention"
   ]
  },
  {
   "cell_type": "code",
   "execution_count": 15,
   "metadata": {
    "collapsed": false,
    "deletable": true,
    "editable": true
   },
   "outputs": [
    {
     "data": {
      "text/plain": [
       "44179"
      ]
     },
     "execution_count": 15,
     "metadata": {},
     "output_type": "execute_result"
    }
   ],
   "source": [
    "F179_UCD_Mental_Anymention = UCD_Mental.RecordAxisConditions.str.contains(r'F179').sum()\n",
    "F179_UCD_Mental_Anymention"
   ]
  },
  {
   "cell_type": "code",
   "execution_count": 16,
   "metadata": {
    "collapsed": false,
    "deletable": true,
    "editable": true
   },
   "outputs": [
    {
     "data": {
      "text/plain": [
       "2773901"
      ]
     },
     "execution_count": 16,
     "metadata": {},
     "output_type": "execute_result"
    }
   ],
   "source": [
    "F179_data_all_Anymention = data_all.RecordAxisConditions.str.contains(r'F179').sum()\n",
    "F179_data_all_Anymention"
   ]
  },
  {
   "cell_type": "markdown",
   "metadata": {
    "deletable": true,
    "editable": true
   },
   "source": [
    "### Plot stacked bar chart comparing UCD for nicotine Dependence (F179)"
   ]
  },
  {
   "cell_type": "code",
   "execution_count": 51,
   "metadata": {
    "collapsed": false,
    "deletable": true,
    "editable": true
   },
   "outputs": [
    {
     "data": {
      "image/png": "[encoded data removed]",
      "text/plain": [
       "<matplotlib.figure.Figure at 0x7f30af7591d0>"
      ]
     },
     "metadata": {},
     "output_type": "display_data"
    },
    {
     "data": {
      "text/plain": [
       "<matplotlib.figure.Figure at 0x7f30af988a90>"
      ]
     },
     "metadata": {},
     "output_type": "display_data"
    }
   ],
   "source": [
    "f = plt.figure()\n",
    "\n",
    "val = [F179_UCD,F179_SingleCause,F179_Morethantwo,F179_UCD_Mental_Anymention]    # the bar lengths\n",
    "pos = arange(4)+.5    # the bar centers on the y axis\n",
    "\n",
    "plt.title('Comparison of Nicotene Dependence (F179) Mention', color='black')\n",
    "plt.barh(pos, val, align ='center' )\n",
    "plt.yticks(pos, ('UCD', 'SingleCause', 'MorethanTwo', 'AnyMention'))\n",
    "plt.legend(loc='upper right', bbox_to_anchor=(1, 1))\n",
    "\n",
    "grid(True)\n",
    "\n",
    "plt.show()\n",
    "plt.savefig(results_dir + 'Comparison of Nicotene Dependence_F179.pdf',loc=0, bbox_inches='tight')\n"
   ]
  },
  {
   "cell_type": "code",
   "execution_count": null,
   "metadata": {
    "collapsed": true,
    "deletable": true,
    "editable": true
   },
   "outputs": [],
   "source": []
  },
  {
   "cell_type": "markdown",
   "metadata": {
    "deletable": true,
    "editable": true
   },
   "source": [
    "#### Opioid F11 as an underlying cause of death "
   ]
  },
  {
   "cell_type": "code",
   "execution_count": 53,
   "metadata": {
    "collapsed": false,
    "deletable": true,
    "editable": true
   },
   "outputs": [
    {
     "data": {
      "text/plain": [
       "Series([], dtype: int64)"
      ]
     },
     "execution_count": 53,
     "metadata": {},
     "output_type": "execute_result"
    }
   ],
   "source": [
    " data_all[data_all['UCD_ICD10'] == 'F11'].groupby([data_all['UC358_ICD10'], data_all['UC358'],  data_all['CurrentDataYear']]).size().nlargest(5)"
   ]
  },
  {
   "cell_type": "code",
   "execution_count": null,
   "metadata": {
    "collapsed": true,
    "deletable": true,
    "editable": true
   },
   "outputs": [],
   "source": [
    "F179_UCD =  UCD_Mental[UCD_Mental['UCD_ICD10'] == 'F179'].groupby([UCD_Mental['UC358_ICD10'], UCD_Mental['UC358'],  UCD_Mental['CurrentDataYear']]).size().sum()\n",
    "F179_UCD"
   ]
  },
  {
   "cell_type": "markdown",
   "metadata": {
    "deletable": true,
    "editable": true
   },
   "source": [
    "#### F179 mentioned as a single cause of death "
   ]
  },
  {
   "cell_type": "code",
   "execution_count": null,
   "metadata": {
    "collapsed": true,
    "deletable": true,
    "editable": true
   },
   "outputs": [],
   "source": [
    "UCD_Mental[(UCD_Mental['RecordAxisNumof'] == 1) & (UCD_Mental['UCD_ICD10'] == 'F179')].groupby([UCD_Mental['CurrentDataYear']]).size().nlargest(10)"
   ]
  },
  {
   "cell_type": "code",
   "execution_count": null,
   "metadata": {
    "collapsed": true,
    "deletable": true,
    "editable": true
   },
   "outputs": [],
   "source": [
    "F179_Morethantwo = UCD_Mental[(UCD_Mental['RecordAxisNumof'] > 1) & (UCD_Mental['UCD_ICD10'] == 'F179')].groupby([UCD_Mental['RecordAxisNumof'],UCD_Mental['CurrentDataYear']]).size().sum()\n",
    "F179_Morethantwo"
   ]
  },
  {
   "cell_type": "markdown",
   "metadata": {
    "deletable": true,
    "editable": true
   },
   "source": [
    "#### F179 as a cause of death, any mention"
   ]
  },
  {
   "cell_type": "code",
   "execution_count": null,
   "metadata": {
    "collapsed": true,
    "deletable": true,
    "editable": true
   },
   "outputs": [],
   "source": [
    "F179_UCD_Mental_Anymention = UCD_Mental.RecordAxisConditions.str.contains(r'F179').sum()\n",
    "F179_UCD_Mental_Anymention"
   ]
  },
  {
   "cell_type": "code",
   "execution_count": null,
   "metadata": {
    "collapsed": true,
    "deletable": true,
    "editable": true
   },
   "outputs": [],
   "source": [
    "F179_data_all_Anymention = data_all.RecordAxisConditions.str.contains(r'F179').sum()\n",
    "F179_data_all_Anymention"
   ]
  },
  {
   "cell_type": "markdown",
   "metadata": {
    "deletable": true,
    "editable": true
   },
   "source": [
    "### Plot stacked bar chart comparing UCD for nicotine Dependence (F179)"
   ]
  },
  {
   "cell_type": "code",
   "execution_count": null,
   "metadata": {
    "collapsed": true,
    "deletable": true,
    "editable": true
   },
   "outputs": [],
   "source": [
    "f = plt.figure()\n",
    "\n",
    "val = [F179_UCD,F179_SingleCause,F179_Morethantwo,F179_UCD_Mental_Anymention]    # the bar lengths\n",
    "pos = arange(4)+.5    # the bar centers on the y axis\n",
    "\n",
    "plt.title('Comparison of Nicotene Dependence (F179) Mention', color='black')\n",
    "plt.barh(pos, val, align ='center' )\n",
    "plt.yticks(pos, ('UCD', 'SingleCause', 'MorethanTwo', 'AnyMention'))\n",
    "plt.legend(loc='upper right', bbox_to_anchor=(1, 1))\n",
    "\n",
    "grid(True)\n",
    "\n",
    "plt.show()\n",
    "plt.savefig(results_dir + 'Comparison of Nicotene Dependence_F179.pdf',loc=0, bbox_inches='tight')\n"
   ]
  },
  {
   "cell_type": "markdown",
   "metadata": {
    "deletable": true,
    "editable": true
   },
   "source": [
    "### Group UCD by year"
   ]
  },
  {
   "cell_type": "code",
   "execution_count": null,
   "metadata": {
    "collapsed": true,
    "deletable": true,
    "editable": true
   },
   "outputs": [],
   "source": [
    "# Create a groupby variable that groups UCD by CurrentDataYear\n",
    "ucdgroupby_year = data_all['UCD_ICD10'].groupby(data_all['CurrentDataYear']).describe().unstack()"
   ]
  },
  {
   "cell_type": "code",
   "execution_count": null,
   "metadata": {
    "collapsed": false,
    "deletable": true,
    "editable": true
   },
   "outputs": [],
   "source": [
    "ucdgroupby_year.head()"
   ]
  },
  {
   "cell_type": "code",
   "execution_count": null,
   "metadata": {
    "collapsed": true,
    "deletable": true,
    "editable": true
   },
   "outputs": [],
   "source": [
    "ucdgroupby_year.to_csv(results_dir +'ucdgroupby_year.csv ')"
   ]
  },
  {
   "cell_type": "code",
   "execution_count": null,
   "metadata": {
    "collapsed": true,
    "deletable": true,
    "editable": true
   },
   "outputs": [],
   "source": [
    "# Create a groupby variable that groups UCD by Age_ctg\n",
    "ucdgroupby_year_ctg = data_all.groupby(['CurrentDataYear', 'UCD_ICD10']).size()"
   ]
  },
  {
   "cell_type": "code",
   "execution_count": null,
   "metadata": {
    "collapsed": false,
    "deletable": true,
    "editable": true,
    "scrolled": true
   },
   "outputs": [],
   "source": [
    "ucdgroupby_year_sort = ucdgroupby_year_ctg.sort_index(ascending=False, inplace=False)\n",
    "ucdgroupby_year_sort"
   ]
  },
  {
   "cell_type": "code",
   "execution_count": null,
   "metadata": {
    "collapsed": true,
    "deletable": true,
    "editable": true
   },
   "outputs": [],
   "source": [
    "ucdgroupby_year_sort.to_csv(results_dir + 'ucdgroupby_year_sort.csv ')"
   ]
  },
  {
   "cell_type": "markdown",
   "metadata": {
    "deletable": true,
    "editable": true
   },
   "source": [
    "### Group UCD by age"
   ]
  },
  {
   "cell_type": "code",
   "execution_count": null,
   "metadata": {
    "collapsed": true,
    "deletable": true,
    "editable": true
   },
   "outputs": [],
   "source": [
    "# Create a groupby variable that groups UCD by CurrentDataYear\n",
    "ucdgroupby_age = data_all['UCD_ICD10'].groupby(data_all['Age_ctg']).describe().unstack()"
   ]
  },
  {
   "cell_type": "code",
   "execution_count": null,
   "metadata": {
    "collapsed": false,
    "deletable": true,
    "editable": true
   },
   "outputs": [],
   "source": [
    "ucdgroupby_age"
   ]
  },
  {
   "cell_type": "code",
   "execution_count": null,
   "metadata": {
    "collapsed": true,
    "deletable": true,
    "editable": true
   },
   "outputs": [],
   "source": [
    "ucdgroupby_age.to_csv(results_dir + 'ucdgroupby_age.csv ')"
   ]
  },
  {
   "cell_type": "code",
   "execution_count": null,
   "metadata": {
    "collapsed": false,
    "deletable": true,
    "editable": true
   },
   "outputs": [],
   "source": [
    "# Create a groupby variable that groups UCD by Age_ctg\n",
    "ucdgroupby_agectg = data_all.groupby(['Age_ctg', 'UCD_ICD10']).size()\n"
   ]
  },
  {
   "cell_type": "code",
   "execution_count": null,
   "metadata": {
    "collapsed": false,
    "deletable": true,
    "editable": true,
    "scrolled": true
   },
   "outputs": [],
   "source": [
    "ucdgroupby_agectg_sort = ucdgroupby_agectg.sort_index(ascending=False, inplace=False)\n",
    "ucdgroupby_agectg_sort"
   ]
  },
  {
   "cell_type": "code",
   "execution_count": null,
   "metadata": {
    "collapsed": true,
    "deletable": true,
    "editable": true
   },
   "outputs": [],
   "source": [
    "ucdgroupby_agectg_sort.to_csv(results_dir + 'ucdgroupby_agectg_sort.csv ')"
   ]
  },
  {
   "cell_type": "markdown",
   "metadata": {
    "deletable": true,
    "editable": true
   },
   "source": [
    "### Group UCD by  gender"
   ]
  },
  {
   "cell_type": "code",
   "execution_count": null,
   "metadata": {
    "collapsed": true,
    "deletable": true,
    "editable": true
   },
   "outputs": [],
   "source": [
    "# Create a groupby variable that groups UCD by CurrentDataYear\n",
    "ucdgroupby_gender = data_all['UCD_ICD10'].groupby(data_all['Sex']).describe().unstack()"
   ]
  },
  {
   "cell_type": "code",
   "execution_count": null,
   "metadata": {
    "collapsed": false,
    "deletable": true,
    "editable": true
   },
   "outputs": [],
   "source": [
    "ucdgroupby_gender.head()"
   ]
  },
  {
   "cell_type": "code",
   "execution_count": null,
   "metadata": {
    "collapsed": true,
    "deletable": true,
    "editable": true
   },
   "outputs": [],
   "source": [
    "ucdgroupby_gender.to_csv(results_dir + 'ucdgroupby_gender.csv ')"
   ]
  },
  {
   "cell_type": "code",
   "execution_count": null,
   "metadata": {
    "collapsed": true,
    "deletable": true,
    "editable": true
   },
   "outputs": [],
   "source": [
    "# Create a groupby variable that groups UCD by Age_ctg\n",
    "ucdgroupby_gender_ctg = data_all.groupby(['Sex', 'UCD_ICD10']).size()\n"
   ]
  },
  {
   "cell_type": "code",
   "execution_count": null,
   "metadata": {
    "collapsed": false,
    "deletable": true,
    "editable": true,
    "scrolled": true
   },
   "outputs": [],
   "source": [
    "ucdgroupby_gender_sort = ucdgroupby_gender_ctg.sort_index(ascending=True, inplace=False)\n",
    "ucdgroupby_gender_sort"
   ]
  },
  {
   "cell_type": "code",
   "execution_count": null,
   "metadata": {
    "collapsed": true,
    "deletable": true,
    "editable": true
   },
   "outputs": [],
   "source": [
    "ucdgroupby_gender_sort.to_csv(results_dir + 'ucdgroupby_gender_sort.csv ')"
   ]
  },
  {
   "cell_type": "code",
   "execution_count": null,
   "metadata": {
    "collapsed": true,
    "deletable": true,
    "editable": true
   },
   "outputs": [],
   "source": []
  },
  {
   "cell_type": "markdown",
   "metadata": {
    "deletable": true,
    "editable": true
   },
   "source": [
    "### Group UCD by  race\n"
   ]
  },
  {
   "cell_type": "code",
   "execution_count": null,
   "metadata": {
    "collapsed": true,
    "deletable": true,
    "editable": true
   },
   "outputs": [],
   "source": [
    "# Create a groupby variable that groups UCD by CurrentDataYear\n",
    "ucdgroupby_race = data_all['UCD_ICD10'].groupby(data_all['Race_ctg']).describe().unstack()"
   ]
  },
  {
   "cell_type": "code",
   "execution_count": null,
   "metadata": {
    "collapsed": false,
    "deletable": true,
    "editable": true
   },
   "outputs": [],
   "source": [
    "ucdgroupby_race.head()"
   ]
  },
  {
   "cell_type": "code",
   "execution_count": null,
   "metadata": {
    "collapsed": true,
    "deletable": true,
    "editable": true
   },
   "outputs": [],
   "source": [
    "ucdgroupby_race.to_csv(results_dir + 'ucdgroupby_race.csv ')"
   ]
  },
  {
   "cell_type": "markdown",
   "metadata": {
    "deletable": true,
    "editable": true
   },
   "source": [
    "Top 10  UCD by year, age, gender, race"
   ]
  },
  {
   "cell_type": "markdown",
   "metadata": {
    "deletable": true,
    "editable": true
   },
   "source": [
    "For race use     Non-Hispanic: white\n",
    "·         Non-Hispanic: black\n",
    "·         Hispanic\n",
    "·         All-race- All-origins"
   ]
  },
  {
   "cell_type": "markdown",
   "metadata": {
    "deletable": true,
    "editable": true
   },
   "source": [
    "Explain the sudden drop for infacts in 2003"
   ]
  },
  {
   "cell_type": "code",
   "execution_count": null,
   "metadata": {
    "collapsed": false,
    "deletable": true,
    "editable": true
   },
   "outputs": [],
   "source": [
    "out"
   ]
  },
  {
   "cell_type": "code",
   "execution_count": null,
   "metadata": {
    "collapsed": true,
    "deletable": true,
    "editable": true
   },
   "outputs": [],
   "source": [
    "# Create a list to store the data\n",
    "grades = []\n",
    "\n",
    "# For each row in the column,\n",
    "for row in entityaxis['condition1']:\n",
    "    # if more than a value,\n",
    "    if row > 95:\n",
    "        # Append a letter grade\n",
    "        grades.append('A')\n",
    "    # else, if more than a value,\n",
    "    elif row > 90:\n",
    "        # Append a letter grade\n",
    "        grades.append('A-')\n",
    "    # else, if more than a value,\n",
    "    elif row > 85:\n",
    "        # Append a letter grade\n",
    "        grades.append('B')\n",
    "    # else, if more than a value,\n",
    "    elif row > 80:\n",
    "        # Append a letter grade\n",
    "        grades.append('B-')\n",
    "    # else, if more than a value,\n",
    "    elif row > 75:\n",
    "        # Append a letter grade\n",
    "        grades.append('C')\n",
    "    # else, if more than a value,\n",
    "    elif row > 70:\n",
    "        # Append a letter grade\n",
    "        grades.append('C-')\n",
    "    # else, if more than a value,\n",
    "    elif row > 65:\n",
    "        # Append a letter grade\n",
    "        grades.append('D')\n",
    "    # else, if more than a value,\n",
    "    elif row > 60:\n",
    "        # Append a letter grade\n",
    "        grades.append('D-')\n",
    "    # otherwise,\n",
    "    else:\n",
    "        # Append a failing grade\n",
    "        grades.append('Failed')\n",
    "\n",
    "# Create a column from the list\n",
    "df['grades'] = grades"
   ]
  },
  {
   "cell_type": "code",
   "execution_count": null,
   "metadata": {
    "collapsed": true,
    "deletable": true,
    "editable": true
   },
   "outputs": [],
   "source": [
    "test =  entityaxis.iloc[3].loc[entityaxis.iloc[3] != '']"
   ]
  },
  {
   "cell_type": "code",
   "execution_count": null,
   "metadata": {
    "collapsed": false,
    "deletable": true,
    "editable": true
   },
   "outputs": [],
   "source": [
    "test[-1]"
   ]
  },
  {
   "cell_type": "code",
   "execution_count": null,
   "metadata": {
    "collapsed": true,
    "deletable": true,
    "editable": true
   },
   "outputs": [],
   "source": [
    "year_recordaxis_3.condition3.loc[year_recordaxis_3.condition4 != ''] = year_recordaxis_3.condition4.loc[year_recordaxis_3.condition4 != '']\n"
   ]
  },
  {
   "cell_type": "code",
   "execution_count": null,
   "metadata": {
    "collapsed": false,
    "deletable": true,
    "editable": true
   },
   "outputs": [],
   "source": [
    "list(entityaxis.iloc[0][1])"
   ]
  },
  {
   "cell_type": "code",
   "execution_count": null,
   "metadata": {
    "collapsed": true,
    "deletable": true,
    "editable": true
   },
   "outputs": [],
   "source": [
    "MajorCause_value = 0.5 + np.arange(0, 136)\n",
    "MajorCause_groups = UCD2[['Cause Title']]"
   ]
  },
  {
   "cell_type": "code",
   "execution_count": null,
   "metadata": {
    "collapsed": false,
    "deletable": true,
    "editable": true
   },
   "outputs": [],
   "source": [
    "UCD2.head()"
   ]
  },
  {
   "cell_type": "code",
   "execution_count": null,
   "metadata": {
    "collapsed": true,
    "deletable": true,
    "editable": true
   },
   "outputs": [],
   "source": [
    "majorcause = pd.cut(data_all['MajorCause'], MajorCause_value, labels=MajorCause_groups)"
   ]
  },
  {
   "cell_type": "code",
   "execution_count": null,
   "metadata": {
    "collapsed": false,
    "deletable": true,
    "editable": true
   },
   "outputs": [],
   "source": [
    "for majorcause.iloc[0]"
   ]
  },
  {
   "cell_type": "markdown",
   "metadata": {
    "deletable": true,
    "editable": true
   },
   "source": [
    "### Calculate Descriptive Statistics ###"
   ]
  },
  {
   "cell_type": "code",
   "execution_count": null,
   "metadata": {
    "collapsed": false,
    "deletable": true,
    "editable": true
   },
   "outputs": [],
   "source": [
    "n_age_groups = data_all.Age_ctg.unique().size\n",
    "age_groups = ['<1','1-4', '5-14', '15-24', '25-34', '35-44', '45-54', '55-64'\n",
    "             , '65-74', '75-84', '85-120']\n",
    "age_value = [-1,1,4,14,24,34,44,54,64,74,84,120]"
   ]
  },
  {
   "cell_type": "code",
   "execution_count": null,
   "metadata": {
    "collapsed": false,
    "deletable": true,
    "editable": true,
    "scrolled": true
   },
   "outputs": [],
   "source": [
    "for i in range(n_age_groups-1):\n",
    "    dt = data_all[['RecordAxisNumof', 'Age', 'CurrentDataYear']]\n",
    "    dt = dt[dt['Age'] < age_value[i+1]]\n",
    "    dt = dt[dt['Age'] >= age_value[i]]\n",
    "    #dt.columns = ['RecordAxisNumof','Count']\n",
    "    cnt = dt.groupby(['CurrentDataYear']).agg([ 'count', 'mean', 'std'])\n",
    "    cnt = cnt.reset_index()\n",
    "    y = cnt['RecordAxisNumof']['mean'].as_matrix()\n",
    "    z = cnt['RecordAxisNumof']['std'].as_matrix()\n",
    "    x = cnt['CurrentDataYear'].as_matrix()\n",
    "    lab = str(age_value[i]) + '-' + str(age_value[i+1])\n",
    "    plt.plot(x, y, label = lab)\n",
    "\n",
    "    plt.ylabel('Average chain length')\n",
    "    plt.xlabel('Year')\n",
    "    #plt.title(i)\n",
    "plt.legend(age_groups, bbox_to_anchor=(1.05, 1), loc=2 )\n",
    "plt.savefig(results_dir + 'average_chain_length_per_age_group.pdf',loc=0, bbox_inches='tight')\n",
    "plt.savefig(results_dir + 'average_chain_length_per_age_group.eps',loc=0, bbox_inches='tight')"
   ]
  },
  {
   "cell_type": "code",
   "execution_count": null,
   "metadata": {
    "collapsed": false,
    "deletable": true,
    "editable": true
   },
   "outputs": [],
   "source": [
    "data_all.head()"
   ]
  },
  {
   "cell_type": "code",
   "execution_count": null,
   "metadata": {
    "collapsed": false,
    "deletable": true,
    "editable": true
   },
   "outputs": [],
   "source": [
    "dt = data_all['EntityAxisNumof'].groupby([data_all['CurrentDataYear'], data_all['Age_ctg']]).mean().unstack()"
   ]
  },
  {
   "cell_type": "code",
   "execution_count": null,
   "metadata": {
    "collapsed": false,
    "deletable": true,
    "editable": true
   },
   "outputs": [],
   "source": [
    "dt.to_csv(results_dir + 'Average_chain_length_per_age_group.csv ')"
   ]
  },
  {
   "cell_type": "code",
   "execution_count": null,
   "metadata": {
    "collapsed": false,
    "deletable": true,
    "editable": true
   },
   "outputs": [],
   "source": [
    "f = plt.figure()\n",
    "#dt.plot(title='Average_chain_length_per_age_group',ax.legend( loc='right'))\n",
    "\n",
    "plt.title('Average_chain_length_per_age_group', color='black')\n",
    "dt.plot(kind='line', ax=f.gca())\n",
    "plt.legend(loc='upper right', bbox_to_anchor=(1, 1))\n",
    "#plt.savefig(results_dir +'Average_chain_length_per_age_group.png')\n",
    "\n",
    "plt.show()\n"
   ]
  },
  {
   "cell_type": "code",
   "execution_count": null,
   "metadata": {
    "collapsed": true,
    "deletable": true,
    "editable": true
   },
   "outputs": [],
   "source": [
    "dt = data_all[data_all['Age_ctg'] == '< 1']"
   ]
  },
  {
   "cell_type": "code",
   "execution_count": null,
   "metadata": {
    "collapsed": false,
    "deletable": true,
    "editable": true
   },
   "outputs": [],
   "source": [
    "# Create a groupby variable that groups UCD by CurrentDataYear\n",
    "underone_UCD = dt.groupby(['CurrentDataYear','EntityAxisNumof']).size()\n",
    "underone_UCD.head()"
   ]
  },
  {
   "cell_type": "code",
   "execution_count": null,
   "metadata": {
    "collapsed": false,
    "deletable": true,
    "editable": true
   },
   "outputs": [],
   "source": [
    "underone_UCD.to_csv('underone_UCD.csv ')"
   ]
  },
  {
   "cell_type": "markdown",
   "metadata": {
    "deletable": true,
    "editable": true
   },
   "source": [
    "### Count of Chain lengths ###"
   ]
  },
  {
   "cell_type": "code",
   "execution_count": null,
   "metadata": {
    "collapsed": true,
    "deletable": true,
    "editable": true
   },
   "outputs": [],
   "source": [
    "dt = data_all[['RecordAxisNumof','Race']]\n",
    "dt.columns = ['RecordAxisNumof','Count']\n",
    "cnt = dt.groupby(['RecordAxisNumof']).count()\n",
    "cnt = cnt.reset_index()"
   ]
  },
  {
   "cell_type": "code",
   "execution_count": null,
   "metadata": {
    "collapsed": true,
    "deletable": true,
    "editable": true,
    "scrolled": false
   },
   "outputs": [],
   "source": [
    "x = cnt['RecordAxisNumof'].as_matrix()\n",
    "y = cnt['Count'].as_matrix()\n",
    "plt.bar(x, y, align='center', alpha=0.5)\n",
    "plt.ylabel('Count')\n",
    "plt.xlabel('Chain Length')\n",
    "plt.savefig('average_chain_length_Count.pdf',loc=0, bbox_inches='tight')\n",
    "plt.savefig('RecordAxis_average_chain_length_Count.eps',loc=0, bbox_inches='tight')"
   ]
  },
  {
   "cell_type": "code",
   "execution_count": null,
   "metadata": {
    "collapsed": true,
    "deletable": true,
    "editable": true
   },
   "outputs": [],
   "source": [
    "dt = data_all[['EntityAxisNumof','Race']]\n",
    "dt.columns = ['EntityAxisNumof','Count']\n",
    "cnt = dt.groupby(['EntityAxisNumof']).count()\n",
    "cnt = cnt.reset_index()"
   ]
  },
  {
   "cell_type": "code",
   "execution_count": null,
   "metadata": {
    "collapsed": true,
    "deletable": true,
    "editable": true
   },
   "outputs": [],
   "source": [
    "x = cnt['EntityAxisNumof'].as_matrix()\n",
    "y = cnt['Count'].as_matrix()\n",
    "plt.bar(x, y, align='center', alpha=0.5)\n",
    "plt.ylabel('Count')\n",
    "plt.xlabel('Chain Length')\n",
    "plt.savefig('EntityAxis_average_chain_length_Count.pdf',loc=0, bbox_inches='tight')\n",
    "plt.savefig('EntityAxis_average_chain_length_Count.eps',loc=0, bbox_inches='tight')"
   ]
  },
  {
   "cell_type": "markdown",
   "metadata": {
    "deletable": true,
    "editable": true
   },
   "source": [
    "### Summary statistics on Multiple Cause of Death ####"
   ]
  },
  {
   "cell_type": "code",
   "execution_count": null,
   "metadata": {
    "collapsed": true,
    "deletable": true,
    "editable": true
   },
   "outputs": [],
   "source": [
    "dt = data_all[['RecordAxisNumof', 'CurrentDataYear']]\n",
    "#dt.columns = ['RecordAxisNumof','Count']\n",
    "cnt = dt.groupby(['CurrentDataYear']).agg([ 'count', 'mean', 'std'])\n",
    "cnt = cnt.reset_index()"
   ]
  },
  {
   "cell_type": "code",
   "execution_count": null,
   "metadata": {
    "collapsed": true,
    "deletable": true,
    "editable": true,
    "scrolled": true
   },
   "outputs": [],
   "source": [
    "cnt.head()"
   ]
  },
  {
   "cell_type": "code",
   "execution_count": null,
   "metadata": {
    "collapsed": true,
    "deletable": true,
    "editable": true,
    "scrolled": true
   },
   "outputs": [],
   "source": [
    "cnt.to_latex('RecordAxis_peryear_stats.tex')"
   ]
  },
  {
   "cell_type": "markdown",
   "metadata": {
    "deletable": true,
    "editable": true
   },
   "source": [
    "### Average Chain Length ####"
   ]
  },
  {
   "cell_type": "code",
   "execution_count": null,
   "metadata": {
    "collapsed": true,
    "deletable": true,
    "editable": true
   },
   "outputs": [],
   "source": [
    "y = cnt['RecordAxisNumof']['mean'].as_matrix()\n",
    "z = cnt['RecordAxisNumof']['std'].as_matrix()\n",
    "x = cnt['CurrentDataYear'].as_matrix()\n",
    "\n",
    "plt.plot(x, y, alpha=0.5)\n",
    "\n",
    "plt.ylabel('average chain length')\n",
    "plt.xlabel('year')\n",
    "plt.savefig('average_chain_length_per_year.pdf',loc=0, bbox_inches='tight')\n",
    "plt.savefig('average_chain_length_per_year.eps',loc=0, bbox_inches='tight')"
   ]
  },
  {
   "cell_type": "markdown",
   "metadata": {
    "collapsed": true,
    "deletable": true,
    "editable": true
   },
   "source": [
    "### Average Chain Length Per Age Group ###"
   ]
  },
  {
   "cell_type": "code",
   "execution_count": null,
   "metadata": {
    "collapsed": true,
    "deletable": true,
    "editable": true
   },
   "outputs": [],
   "source": [
    "data_all = data_all[data_all['Age'] <= 115]"
   ]
  },
  {
   "cell_type": "code",
   "execution_count": null,
   "metadata": {
    "collapsed": true,
    "deletable": true,
    "editable": true
   },
   "outputs": [],
   "source": [
    "dt = data_all[['RecordAxisNumof', 'Age_ctg']]\n",
    "#dt.columns = ['RecordAxisNumof','Count']\n",
    "cnt = dt.groupby(['Age_ctg']).agg([ 'count', 'mean', 'std'])\n",
    "cnt = cnt.reset_index()"
   ]
  },
  {
   "cell_type": "code",
   "execution_count": null,
   "metadata": {
    "collapsed": true,
    "deletable": true,
    "editable": true,
    "scrolled": true
   },
   "outputs": [],
   "source": [
    "cnt.to_latex('cdc_agecategory_summary.tex')\n",
    "cnt"
   ]
  },
  {
   "cell_type": "markdown",
   "metadata": {
    "deletable": true,
    "editable": true
   },
   "source": [
    "### Average Chain Length per Age ###"
   ]
  },
  {
   "cell_type": "code",
   "execution_count": null,
   "metadata": {
    "collapsed": true,
    "deletable": true,
    "editable": true
   },
   "outputs": [],
   "source": [
    "dt = data_all[['RecordAxisNumof', 'Age']]\n",
    "#dt.columns = ['RecordAxisNumof','Count']\n",
    "cnt = dt.groupby(['Age']).agg([ 'count', 'mean', 'std'])\n",
    "cnt = cnt.reset_index()"
   ]
  },
  {
   "cell_type": "code",
   "execution_count": null,
   "metadata": {
    "collapsed": true,
    "deletable": true,
    "editable": true
   },
   "outputs": [],
   "source": [
    "y = cnt['RecordAxisNumof']['mean'].as_matrix()\n",
    "z = cnt['RecordAxisNumof']['std'].as_matrix()\n",
    "x = cnt['Age'].as_matrix()\n",
    "\n",
    "plt.plot(x[:110], y[:110], alpha=0.5)\n",
    "\n",
    "plt.ylabel('average chain length')\n",
    "plt.xlabel('age')"
   ]
  },
  {
   "cell_type": "code",
   "execution_count": null,
   "metadata": {
    "collapsed": true,
    "deletable": true,
    "editable": true
   },
   "outputs": [],
   "source": [
    "dt = data_all[['RecordAxisNumof', 'Race_ctg']]\n",
    "#dt.columns = ['RecordAxisNumof','Count']\n",
    "cnt = dt.groupby(['Race_ctg']).agg([ 'count', 'mean', 'std'])\n",
    "cnt = cnt.reset_index()"
   ]
  },
  {
   "cell_type": "code",
   "execution_count": null,
   "metadata": {
    "collapsed": true,
    "deletable": true,
    "editable": true
   },
   "outputs": [],
   "source": [
    "cnt.to_latex('cdc_racecategory_summary.tex')\n",
    "cnt"
   ]
  },
  {
   "cell_type": "markdown",
   "metadata": {
    "deletable": true,
    "editable": true
   },
   "source": [
    "### Average Chain length by Race ###"
   ]
  },
  {
   "cell_type": "code",
   "execution_count": null,
   "metadata": {
    "collapsed": true,
    "deletable": true,
    "editable": true
   },
   "outputs": [],
   "source": [
    "y = cnt['RecordAxisNumof']['mean'].as_matrix()\n",
    "x = cnt['Race_ctg'].as_matrix()\n",
    "#labs = ['White', 'Black', 'Indian', 'Chineese', 'Japanese', 'Hawaiian', 'Filipino']\n",
    "labs = cnt['Race_ctg']\n",
    "#plt.bar(np.arange(7), y[1:8], align='center', alpha=0.5)\n",
    "plt.bar(np.arange(len(y[:-1])),y[:-1], align='center', alpha=0.5)\n",
    "#plt.xticks(np.arange(8), labs, rotation='vertical')\n",
    "plt.xticks(np.arange(len(labs[:-1])),labs[:-1], rotation='vertical')\n",
    "\n",
    "plt.ylabel('Average Chain Length')\n",
    "#plt.xlabel('Race')\n",
    "plt.savefig('average_chain_length_per_race.pdf',loc=0, bbox_inches='tight')\n",
    "plt.savefig('average_chain_length_per_race.eps',loc=0, bbox_inches='tight')"
   ]
  },
  {
   "cell_type": "markdown",
   "metadata": {
    "deletable": true,
    "editable": true
   },
   "source": [
    "### Average Chain length per age group for every Race ###"
   ]
  },
  {
   "cell_type": "code",
   "execution_count": null,
   "metadata": {
    "collapsed": true,
    "deletable": true,
    "editable": true
   },
   "outputs": [],
   "source": [
    "dt = data_all[['RecordAxisNumof', 'Race_ctg']]\n",
    "#dt.columns = ['RecordAxisNumof','Count']\n",
    "cnt2 = dt.groupby(['Race_ctg']).agg([ 'count', 'mean', 'std'])\n",
    "cnt2 = cnt2.reset_index()"
   ]
  },
  {
   "cell_type": "code",
   "execution_count": null,
   "metadata": {
    "collapsed": true,
    "deletable": true,
    "editable": true
   },
   "outputs": [],
   "source": [
    "index = np.arange(len(cnt2['Race_ctg']))\n",
    "yy = np.zeros((n_age_groups-1,1))\n",
    "colors = ['red', 'blue', 'green','yellow']\n",
    "bar_width = 0.1\n",
    "for i in range(n_age_groups-1):\n",
    "    dt = data_all[['RecordAxisNumof', 'Age', 'Race']]\n",
    "    dt = dt[dt['Age'] < age_value[i+1]]\n",
    "    dt = dt[dt['Age'] >= age_value[i]]\n",
    "    #dt.columns = ['RecordAxisNumof','Count']\n",
    "    cnt = dt.groupby(['Race']).agg([ 'count', 'mean', 'std'])\n",
    "    cnt = cnt.reset_index()\n",
    "    y = cnt['RecordAxisNumof']['mean'].as_matrix()\n",
    "    x = cnt['Race'].as_matrix()\n",
    "    lab = str(age_value[i]) + '-' + str(age_value[i+1])\n",
    "    \n",
    "    #lab = str(age_value[i]) + '-' + str(age_value[i+1])\n",
    "    index = index + bar_width\n",
    "    plt.bar(index[:-1],y, bar_width, color = colors[i], label = lab)\n",
    "\n",
    "#labs = ['White', 'Black', 'Indian', 'Chineese', 'Japanese', 'Hawaiian', 'Filipino']\n",
    "labs = cnt2['Race_ctg']\n",
    "\n",
    "plt.ylabel('Average chain length')\n",
    "plt.xlabel('Race')\n",
    "plt.xticks(index + bar_width*3 , labs[:-1],rotation='vertical')\n",
    "  \n",
    "plt.legend( bbox_to_anchor=(1.05, 1), loc=2 )\n",
    "plt.savefig('average_chain_length_per_ageandrace.pdf',loc=0, bbox_inches='tight')\n",
    "plt.savefig('average_chain_length_per_ageandrace.eps',loc=0, bbox_inches='tight')"
   ]
  },
  {
   "cell_type": "code",
   "execution_count": null,
   "metadata": {
    "collapsed": true,
    "deletable": true,
    "editable": true
   },
   "outputs": [],
   "source": [
    "#data_all.loc[data_all['Sex']=='1','Sex'] = 'M'"
   ]
  },
  {
   "cell_type": "code",
   "execution_count": null,
   "metadata": {
    "collapsed": true,
    "deletable": true,
    "editable": true
   },
   "outputs": [],
   "source": [
    "#data_all.loc[data_all['Sex']=='2','Sex'] = 'F'"
   ]
  },
  {
   "cell_type": "code",
   "execution_count": null,
   "metadata": {
    "collapsed": true,
    "deletable": true,
    "editable": true
   },
   "outputs": [],
   "source": []
  },
  {
   "cell_type": "markdown",
   "metadata": {
    "deletable": true,
    "editable": true
   },
   "source": [
    "### All years ###"
   ]
  },
  {
   "cell_type": "code",
   "execution_count": null,
   "metadata": {
    "collapsed": true,
    "deletable": true,
    "editable": true,
    "scrolled": true
   },
   "outputs": [],
   "source": [
    "allcoditions = year_recordaxis.iloc[:,1:-1].stack().value_counts()\n",
    "allcoditions"
   ]
  },
  {
   "cell_type": "code",
   "execution_count": null,
   "metadata": {
    "collapsed": true,
    "deletable": true,
    "editable": true
   },
   "outputs": [],
   "source": [
    "allconditions_plot = allcoditions[1:20].plot.bar()\n",
    "plt.savefig('allconditions_top20.eps')\n",
    "plt.savefig('allconditions_top20.pdf')"
   ]
  },
  {
   "cell_type": "markdown",
   "metadata": {
    "deletable": true,
    "editable": true
   },
   "source": [
    "### 1999 ###"
   ]
  },
  {
   "cell_type": "code",
   "execution_count": null,
   "metadata": {
    "collapsed": true,
    "deletable": true,
    "editable": true
   },
   "outputs": [],
   "source": [
    "year_recordaxis[year_recordaxis.CurrentDataYear == 1999].tail()"
   ]
  },
  {
   "cell_type": "code",
   "execution_count": null,
   "metadata": {
    "collapsed": true,
    "deletable": true,
    "editable": true,
    "scrolled": true
   },
   "outputs": [],
   "source": [
    "allcoditions1999 = year_recordaxis[year_recordaxis.CurrentDataYear == 1999].stack().value_counts()\n",
    "allcoditions1999"
   ]
  },
  {
   "cell_type": "code",
   "execution_count": null,
   "metadata": {
    "collapsed": true,
    "deletable": true,
    "editable": true,
    "scrolled": true
   },
   "outputs": [],
   "source": [
    "allcoditions1999_plot = allcoditions1999[2:22].plot.bar()\n",
    "plt.savefig('allconditions_1999.eps')\n",
    "plt.savefig('allconditions_1999.pdf')"
   ]
  },
  {
   "cell_type": "markdown",
   "metadata": {
    "deletable": true,
    "editable": true
   },
   "source": [
    "### 2000 ###"
   ]
  },
  {
   "cell_type": "code",
   "execution_count": null,
   "metadata": {
    "collapsed": true,
    "deletable": true,
    "editable": true,
    "scrolled": true
   },
   "outputs": [],
   "source": [
    "allcoditions2000 = year_recordaxis[year_recordaxis.CurrentDataYear == 2000].stack().value_counts()\n",
    "allcoditions2000"
   ]
  },
  {
   "cell_type": "code",
   "execution_count": null,
   "metadata": {
    "collapsed": true,
    "deletable": true,
    "editable": true
   },
   "outputs": [],
   "source": [
    "allcoditions2000_plot = allcoditions2000[2:22].plot.bar()\n",
    "plt.savefig('allconditions_2000.eps')\n",
    "plt.savefig('allconditions_2000.pdf')"
   ]
  },
  {
   "cell_type": "markdown",
   "metadata": {
    "deletable": true,
    "editable": true
   },
   "source": [
    "### 2001 ###"
   ]
  },
  {
   "cell_type": "code",
   "execution_count": null,
   "metadata": {
    "collapsed": true,
    "deletable": true,
    "editable": true,
    "scrolled": true
   },
   "outputs": [],
   "source": [
    "allcoditions2001 = year_recordaxis[year_recordaxis.CurrentDataYear == 2001].stack().value_counts()\n",
    "allcoditions2001"
   ]
  },
  {
   "cell_type": "code",
   "execution_count": null,
   "metadata": {
    "collapsed": true,
    "deletable": true,
    "editable": true
   },
   "outputs": [],
   "source": [
    "allcoditions2001_plot = allcoditions2001[2:22].plot.bar()\n",
    "plt.savefig('allconditions_2001.eps')\n",
    "plt.savefig('allconditions_2001.pdf')"
   ]
  },
  {
   "cell_type": "markdown",
   "metadata": {
    "deletable": true,
    "editable": true
   },
   "source": [
    "### 2002 ###"
   ]
  },
  {
   "cell_type": "code",
   "execution_count": null,
   "metadata": {
    "collapsed": true,
    "deletable": true,
    "editable": true,
    "scrolled": true
   },
   "outputs": [],
   "source": [
    "allcoditions2002 = year_recordaxis[year_recordaxis.CurrentDataYear == 2002].stack().value_counts()\n",
    "allcoditions2002"
   ]
  },
  {
   "cell_type": "code",
   "execution_count": null,
   "metadata": {
    "collapsed": true,
    "deletable": true,
    "editable": true
   },
   "outputs": [],
   "source": [
    "allcoditions2002_plot = allcoditions2002[2:22].plot.bar()\n",
    "plt.savefig('allconditions_2002.eps')\n",
    "plt.savefig('allconditions_2002.pdf')"
   ]
  },
  {
   "cell_type": "markdown",
   "metadata": {
    "deletable": true,
    "editable": true
   },
   "source": [
    "### 2003 ###"
   ]
  },
  {
   "cell_type": "code",
   "execution_count": null,
   "metadata": {
    "collapsed": true,
    "deletable": true,
    "editable": true,
    "scrolled": true
   },
   "outputs": [],
   "source": [
    "allcoditions2003 = year_recordaxis[year_recordaxis.CurrentDataYear == 2003].stack().value_counts()\n",
    "allcoditions2003"
   ]
  },
  {
   "cell_type": "code",
   "execution_count": null,
   "metadata": {
    "collapsed": true,
    "deletable": true,
    "editable": true
   },
   "outputs": [],
   "source": [
    "allcoditions2003_plot = allcoditions2003[2:22].plot.bar()\n",
    "plt.savefig('allconditions_2003.eps')\n",
    "plt.savefig('allconditions_2003.pdf')"
   ]
  },
  {
   "cell_type": "markdown",
   "metadata": {
    "deletable": true,
    "editable": true
   },
   "source": [
    "### 2004 ###"
   ]
  },
  {
   "cell_type": "code",
   "execution_count": null,
   "metadata": {
    "collapsed": true,
    "deletable": true,
    "editable": true,
    "scrolled": true
   },
   "outputs": [],
   "source": [
    "allcoditions2004 = year_recordaxis[year_recordaxis.CurrentDataYear == 2004].stack().value_counts()\n",
    "allcoditions2004"
   ]
  },
  {
   "cell_type": "code",
   "execution_count": null,
   "metadata": {
    "collapsed": true,
    "deletable": true,
    "editable": true
   },
   "outputs": [],
   "source": [
    "allcoditions2004_plot = allcoditions2004[2:22].plot.bar()\n",
    "plt.savefig('allconditions_2004.eps')\n",
    "plt.savefig('allconditions_2004.pdf')"
   ]
  },
  {
   "cell_type": "markdown",
   "metadata": {
    "deletable": true,
    "editable": true
   },
   "source": [
    "### 2005 ###"
   ]
  },
  {
   "cell_type": "code",
   "execution_count": null,
   "metadata": {
    "collapsed": true,
    "deletable": true,
    "editable": true,
    "scrolled": true
   },
   "outputs": [],
   "source": [
    "allcoditions2005 = year_recordaxis[year_recordaxis.CurrentDataYear == 2005].stack().value_counts()\n",
    "allcoditions2005"
   ]
  },
  {
   "cell_type": "code",
   "execution_count": null,
   "metadata": {
    "collapsed": true,
    "deletable": true,
    "editable": true
   },
   "outputs": [],
   "source": [
    "allcoditions2005_plot = allcoditions2005[2:22].plot.bar()\n",
    "plt.savefig('allconditions_2005.eps')\n",
    "plt.savefig('allconditions_2005.pdf')"
   ]
  },
  {
   "cell_type": "markdown",
   "metadata": {
    "deletable": true,
    "editable": true
   },
   "source": [
    "### 2006 ###"
   ]
  },
  {
   "cell_type": "code",
   "execution_count": null,
   "metadata": {
    "collapsed": true,
    "deletable": true,
    "editable": true,
    "scrolled": true
   },
   "outputs": [],
   "source": [
    "allcoditions2006 = year_recordaxis[year_recordaxis.CurrentDataYear == 2006].stack().value_counts()\n",
    "allcoditions2006"
   ]
  },
  {
   "cell_type": "code",
   "execution_count": null,
   "metadata": {
    "collapsed": true,
    "deletable": true,
    "editable": true
   },
   "outputs": [],
   "source": [
    "allcoditions2006_plot = allcoditions2006[2:22].plot.bar()\n",
    "plt.savefig('allconditions_2000.eps')\n",
    "plt.savefig('allconditions_2000.pdf')"
   ]
  },
  {
   "cell_type": "markdown",
   "metadata": {
    "deletable": true,
    "editable": true
   },
   "source": [
    "### 2007 ###"
   ]
  },
  {
   "cell_type": "code",
   "execution_count": null,
   "metadata": {
    "collapsed": true,
    "deletable": true,
    "editable": true,
    "scrolled": true
   },
   "outputs": [],
   "source": [
    "allcoditions2007 = year_recordaxis[year_recordaxis.CurrentDataYear == 2007].stack().value_counts()\n",
    "allcoditions2007"
   ]
  },
  {
   "cell_type": "code",
   "execution_count": null,
   "metadata": {
    "collapsed": true,
    "deletable": true,
    "editable": true
   },
   "outputs": [],
   "source": [
    "allcoditions2007_plot = allcoditions2007[2:22].plot.bar()\n",
    "plt.savefig('allconditions_2007.eps')\n",
    "plt.savefig('allconditions_2007.pdf')"
   ]
  },
  {
   "cell_type": "markdown",
   "metadata": {
    "deletable": true,
    "editable": true
   },
   "source": [
    "### 2008 ###"
   ]
  },
  {
   "cell_type": "code",
   "execution_count": null,
   "metadata": {
    "collapsed": true,
    "deletable": true,
    "editable": true,
    "scrolled": true
   },
   "outputs": [],
   "source": [
    "allcoditions2008 = year_recordaxis[year_recordaxis.CurrentDataYear == 2008].stack().value_counts()\n",
    "allcoditions2008"
   ]
  },
  {
   "cell_type": "code",
   "execution_count": null,
   "metadata": {
    "collapsed": true,
    "deletable": true,
    "editable": true
   },
   "outputs": [],
   "source": [
    "allcoditions2008_plot = allcoditions2008[2:22].plot.bar()\n",
    "plt.savefig('allconditions_2008.eps')\n",
    "plt.savefig('allconditions_2008.pdf')"
   ]
  },
  {
   "cell_type": "markdown",
   "metadata": {
    "deletable": true,
    "editable": true
   },
   "source": [
    "### 2009 ###"
   ]
  },
  {
   "cell_type": "code",
   "execution_count": null,
   "metadata": {
    "collapsed": true,
    "deletable": true,
    "editable": true,
    "scrolled": true
   },
   "outputs": [],
   "source": [
    "allcoditions2009 = year_recordaxis[year_recordaxis.CurrentDataYear == 2009].stack().value_counts()\n",
    "allcoditions2009"
   ]
  },
  {
   "cell_type": "code",
   "execution_count": null,
   "metadata": {
    "collapsed": true,
    "deletable": true,
    "editable": true
   },
   "outputs": [],
   "source": [
    "allcoditions2009_plot = allcoditions2009[2:22].plot.bar()\n",
    "plt.savefig('allconditions_2009.eps')\n",
    "plt.savefig('allconditions_2009.pdf')"
   ]
  },
  {
   "cell_type": "markdown",
   "metadata": {
    "deletable": true,
    "editable": true
   },
   "source": [
    "### 2010 ###"
   ]
  },
  {
   "cell_type": "code",
   "execution_count": null,
   "metadata": {
    "collapsed": true,
    "deletable": true,
    "editable": true,
    "scrolled": true
   },
   "outputs": [],
   "source": [
    "allcoditions2010 = year_recordaxis[year_recordaxis.CurrentDataYear == 2010].stack().value_counts()\n",
    "allcoditions2010"
   ]
  },
  {
   "cell_type": "code",
   "execution_count": null,
   "metadata": {
    "collapsed": true,
    "deletable": true,
    "editable": true
   },
   "outputs": [],
   "source": [
    "allcoditions2010_plot = allcoditions2010[2:22].plot.bar()\n",
    "plt.savefig('allconditions_2010.eps')\n",
    "plt.savefig('allconditions_2010.pdf')"
   ]
  },
  {
   "cell_type": "markdown",
   "metadata": {
    "deletable": true,
    "editable": true
   },
   "source": [
    "### 2011 ###"
   ]
  },
  {
   "cell_type": "code",
   "execution_count": null,
   "metadata": {
    "collapsed": true,
    "deletable": true,
    "editable": true,
    "scrolled": true
   },
   "outputs": [],
   "source": [
    "allcoditions2011 = year_recordaxis[year_recordaxis.CurrentDataYear == 2011].stack().value_counts()\n",
    "allcoditions2011"
   ]
  },
  {
   "cell_type": "code",
   "execution_count": null,
   "metadata": {
    "collapsed": true,
    "deletable": true,
    "editable": true
   },
   "outputs": [],
   "source": [
    "allcoditions2011_plot = allcoditions2011[2:22].plot.bar()\n",
    "plt.savefig('allconditions_2011.eps')\n",
    "plt.savefig('allconditions_2011.pdf')"
   ]
  },
  {
   "cell_type": "markdown",
   "metadata": {
    "deletable": true,
    "editable": true
   },
   "source": [
    "### 2012 ###"
   ]
  },
  {
   "cell_type": "code",
   "execution_count": null,
   "metadata": {
    "collapsed": true,
    "deletable": true,
    "editable": true,
    "scrolled": true
   },
   "outputs": [],
   "source": [
    "allcoditions2012 = year_recordaxis[year_recordaxis.CurrentDataYear == 2012].stack().value_counts()\n",
    "allcoditions2012"
   ]
  },
  {
   "cell_type": "code",
   "execution_count": null,
   "metadata": {
    "collapsed": true,
    "deletable": true,
    "editable": true
   },
   "outputs": [],
   "source": [
    "allcoditions2012_plot = allcoditions2012[2:22].plot.bar()\n",
    "plt.savefig('allconditions_2012.eps')\n",
    "plt.savefig('allconditions_2012.pdf')"
   ]
  },
  {
   "cell_type": "markdown",
   "metadata": {
    "deletable": true,
    "editable": true
   },
   "source": [
    "### 2013 ###"
   ]
  },
  {
   "cell_type": "code",
   "execution_count": null,
   "metadata": {
    "collapsed": true,
    "deletable": true,
    "editable": true,
    "scrolled": true
   },
   "outputs": [],
   "source": [
    "allcoditions2013 = year_recordaxis[year_recordaxis.CurrentDataYear == 2013].stack().value_counts()\n",
    "allcoditions2013"
   ]
  },
  {
   "cell_type": "code",
   "execution_count": null,
   "metadata": {
    "collapsed": true,
    "deletable": true,
    "editable": true
   },
   "outputs": [],
   "source": [
    "allcoditions2013_plot = allcoditions2013[2:22].plot.bar()\n",
    "plt.savefig('allconditions_2013.eps')\n",
    "plt.savefig('allconditions_2013.pdf')"
   ]
  },
  {
   "cell_type": "markdown",
   "metadata": {
    "deletable": true,
    "editable": true
   },
   "source": [
    "### 2014 ###"
   ]
  },
  {
   "cell_type": "code",
   "execution_count": null,
   "metadata": {
    "collapsed": true,
    "deletable": true,
    "editable": true,
    "scrolled": true
   },
   "outputs": [],
   "source": [
    "allcoditions2014 = year_recordaxis[year_recordaxis.CurrentDataYear == 2014].stack().value_counts()\n",
    "allcoditions2014"
   ]
  },
  {
   "cell_type": "code",
   "execution_count": null,
   "metadata": {
    "collapsed": true,
    "deletable": true,
    "editable": true
   },
   "outputs": [],
   "source": [
    "allcoditions2014_plot = allcoditions2014[2:22].plot.bar()\n",
    "plt.savefig('allconditions_2014.eps')\n",
    "plt.savefig('allconditions_2014.pdf')"
   ]
  },
  {
   "cell_type": "markdown",
   "metadata": {
    "deletable": true,
    "editable": true
   },
   "source": [
    "### 2015 ###"
   ]
  },
  {
   "cell_type": "code",
   "execution_count": null,
   "metadata": {
    "collapsed": true,
    "deletable": true,
    "editable": true,
    "scrolled": true
   },
   "outputs": [],
   "source": [
    "allcoditions2015 = year_recordaxis[year_recordaxis.CurrentDataYear == 2015].stack().value_counts()\n",
    "allcoditions2015"
   ]
  },
  {
   "cell_type": "code",
   "execution_count": null,
   "metadata": {
    "collapsed": true,
    "deletable": true,
    "editable": true
   },
   "outputs": [],
   "source": [
    "allcoditions2015_plot = allcoditions2015[2:22].plot.bar()\n",
    "plt.savefig('allconditions_2015.eps')\n",
    "plt.savefig('allconditions_2015.pdf')"
   ]
  },
  {
   "cell_type": "code",
   "execution_count": null,
   "metadata": {
    "collapsed": true,
    "deletable": true,
    "editable": true,
    "scrolled": true
   },
   "outputs": [],
   "source": [
    "allcoditions2.head()"
   ]
  },
  {
   "cell_type": "code",
   "execution_count": null,
   "metadata": {
    "collapsed": true,
    "deletable": true,
    "editable": true
   },
   "outputs": [],
   "source": []
  },
  {
   "cell_type": "code",
   "execution_count": null,
   "metadata": {
    "collapsed": true,
    "deletable": true,
    "editable": true
   },
   "outputs": [],
   "source": [
    "plt.savefig('Allconditions_top20.pdf',loc=0, bbox_inches='tight')\n",
    "plt.savefig('Allconditions_top20.eps',loc=0, bbox_inches='tight')"
   ]
  },
  {
   "cell_type": "code",
   "execution_count": null,
   "metadata": {
    "collapsed": true,
    "deletable": true,
    "editable": true,
    "scrolled": true
   },
   "outputs": [],
   "source": [
    "cond1_sort = cond1.sort_values(by = 'count')\n",
    "cond1_sort[::-1]"
   ]
  },
  {
   "cell_type": "code",
   "execution_count": null,
   "metadata": {
    "collapsed": true,
    "deletable": true,
    "editable": true,
    "scrolled": true
   },
   "outputs": [],
   "source": [
    "results = year_recordaxis['CurrentDataYear'].groupby([year_recordaxis['condition1'], year_recordaxis['condition2']]).count()\n",
    "results"
   ]
  },
  {
   "cell_type": "code",
   "execution_count": null,
   "metadata": {
    "collapsed": true,
    "deletable": true,
    "editable": true
   },
   "outputs": [],
   "source": [
    "results.argsort(axis=0)"
   ]
  },
  {
   "cell_type": "code",
   "execution_count": null,
   "metadata": {
    "collapsed": true,
    "deletable": true,
    "editable": true
   },
   "outputs": [],
   "source": []
  },
  {
   "cell_type": "code",
   "execution_count": null,
   "metadata": {
    "collapsed": true,
    "deletable": true,
    "editable": true
   },
   "outputs": [],
   "source": [
    "data_all.head(2)"
   ]
  },
  {
   "cell_type": "code",
   "execution_count": null,
   "metadata": {
    "collapsed": true,
    "deletable": true,
    "editable": true
   },
   "outputs": [],
   "source": [
    "numofmax = data_all['RecordAxisNumof'].max()"
   ]
  },
  {
   "cell_type": "code",
   "execution_count": null,
   "metadata": {
    "collapsed": true,
    "deletable": true,
    "editable": true
   },
   "outputs": [],
   "source": [
    "df = data_all[['RecordAxisConditions']]"
   ]
  },
  {
   "cell_type": "code",
   "execution_count": null,
   "metadata": {
    "collapsed": true,
    "deletable": true,
    "editable": true,
    "scrolled": true
   },
   "outputs": [],
   "source": [
    "#for i in range(4,20):  \n",
    "    \n",
    "#    df = pd.DataFrame(df.RecordAxisConditions.str.split(' ',1).tolist(),\n",
    "                                   columns = ['condition'+  str(i),'RecordAxisConditions'])\n",
    "#    data_all['condition'+  str(i+1)] = df['condition'+  str(i)]"
   ]
  },
  {
   "cell_type": "code",
   "execution_count": null,
   "metadata": {
    "collapsed": true,
    "deletable": true,
    "editable": true
   },
   "outputs": [],
   "source": []
  },
  {
   "cell_type": "code",
   "execution_count": null,
   "metadata": {
    "collapsed": true,
    "deletable": true,
    "editable": true
   },
   "outputs": [],
   "source": []
  },
  {
   "cell_type": "code",
   "execution_count": null,
   "metadata": {
    "collapsed": true,
    "deletable": true,
    "editable": true
   },
   "outputs": [],
   "source": [
    "for i in range(len(dt)):\n",
    "    pd.DataFrame(data=data[1:,1:],    # values\n",
    "                  index=data[1:,0],    # 1st column as index\n",
    "                  columns=data[0,1:])  # 1st row as the column names"
   ]
  },
  {
   "cell_type": "code",
   "execution_count": null,
   "metadata": {
    "collapsed": true,
    "deletable": true,
    "editable": true
   },
   "outputs": [],
   "source": [
    "unique_items, index, counts = np.unique(combinations, return_index=True, return_counts=True)"
   ]
  },
  {
   "cell_type": "code",
   "execution_count": null,
   "metadata": {
    "collapsed": true,
    "deletable": true,
    "editable": true
   },
   "outputs": [],
   "source": [
    "unique_items[counts]"
   ]
  },
  {
   "cell_type": "code",
   "execution_count": null,
   "metadata": {
    "collapsed": true,
    "deletable": true,
    "editable": true
   },
   "outputs": [],
   "source": [
    "counts.shape"
   ]
  },
  {
   "cell_type": "code",
   "execution_count": null,
   "metadata": {
    "collapsed": true,
    "deletable": true,
    "editable": true
   },
   "outputs": [],
   "source": [
    "ds_unique = pd.DataFrame(unique_items, index=None)\n",
    "ds_unique['index'] = index\n",
    "ds_unique['counts'] = counts"
   ]
  },
  {
   "cell_type": "code",
   "execution_count": null,
   "metadata": {
    "collapsed": true,
    "deletable": true,
    "editable": true,
    "scrolled": true
   },
   "outputs": [],
   "source": [
    "ds_unique = ds_unique[4 :]\n",
    "#ds_unique = ds_unique[0 :]\n",
    "ds_unique.reset_index()"
   ]
  },
  {
   "cell_type": "code",
   "execution_count": null,
   "metadata": {
    "collapsed": true,
    "deletable": true,
    "editable": true
   },
   "outputs": [],
   "source": [
    "ds_unique.columns = ['RecordAxisConditions','index', 'counts']"
   ]
  },
  {
   "cell_type": "code",
   "execution_count": null,
   "metadata": {
    "collapsed": true,
    "deletable": true,
    "editable": true
   },
   "outputs": [],
   "source": [
    "ds_unique.shape"
   ]
  },
  {
   "cell_type": "code",
   "execution_count": null,
   "metadata": {
    "collapsed": true,
    "deletable": true,
    "editable": true
   },
   "outputs": [],
   "source": [
    "dt = data_all[['MajorCause','Race']]\n",
    "dt.columns = ['MajorCause','Count']\n",
    "cnt = dt.groupby(['MajorCause']).count()\n",
    "cnt = cnt.reset_index()"
   ]
  },
  {
   "cell_type": "code",
   "execution_count": null,
   "metadata": {
    "collapsed": true,
    "deletable": true,
    "editable": true,
    "scrolled": true
   },
   "outputs": [],
   "source": [
    "cnt.to_latex('MajorCause_Count_allyears.tex')\n",
    "MajorCause_sorted = cnt.sort_values(by='Count', ascending=False)"
   ]
  },
  {
   "cell_type": "code",
   "execution_count": null,
   "metadata": {
    "collapsed": true,
    "deletable": true,
    "editable": true,
    "scrolled": true
   },
   "outputs": [],
   "source": [
    "MajorCause_sorted "
   ]
  },
  {
   "cell_type": "code",
   "execution_count": null,
   "metadata": {
    "collapsed": true,
    "deletable": true,
    "editable": true
   },
   "outputs": [],
   "source": [
    "labels  = ['All other diseases (Residual) ','All other forms of chronic ischemic heart disease',\\\n",
    "          'Malignant neoplasms of trachea, bronchus and lung','Acute myocardial infarction (I21-I22)',\\\n",
    "          'Cerebrovascular diseases','Other chronic lower respiratory diseases ',\\\n",
    "          'All other forms of heart disease ','Alzheimer\\'s disease','All other and unspecified malignant neoplasms']\n"
   ]
  },
  {
   "cell_type": "markdown",
   "metadata": {
    "deletable": true,
    "editable": true
   },
   "source": [
    "### Total number of Deaths by Underlying Cause ###"
   ]
  },
  {
   "cell_type": "code",
   "execution_count": null,
   "metadata": {
    "collapsed": true,
    "deletable": true,
    "editable": true
   },
   "outputs": [],
   "source": [
    "dt = data_all[['RecordAxisNumof', 'MajorCause']]\n",
    "dt.columns = ['count','MajorCause']\n",
    "cnt = dt.groupby(['MajorCause']).count()\n",
    "cnt = cnt.reset_index()\n"
   ]
  },
  {
   "cell_type": "code",
   "execution_count": null,
   "metadata": {
    "collapsed": true,
    "deletable": true,
    "editable": true
   },
   "outputs": [],
   "source": [
    "cnt = cnt.sort(columns=['count'], ascending=False)"
   ]
  },
  {
   "cell_type": "code",
   "execution_count": null,
   "metadata": {
    "collapsed": true,
    "deletable": true,
    "editable": true,
    "scrolled": true
   },
   "outputs": [],
   "source": [
    "cnt"
   ]
  },
  {
   "cell_type": "code",
   "execution_count": null,
   "metadata": {
    "collapsed": true,
    "deletable": true,
    "editable": true
   },
   "outputs": [],
   "source": [
    "len(labs)"
   ]
  },
  {
   "cell_type": "code",
   "execution_count": null,
   "metadata": {
    "collapsed": true,
    "deletable": true,
    "editable": true
   },
   "outputs": [],
   "source": [
    "labs = ['All other forms of chronic ischemic heart disease', 'Malignant neoplasms of trachea, bronchus and lung', \\\n",
    "       'Acute myocardial infarction', 'Cerebrovascular diseases', 'Other chronic lower respiratory diseases', \\\n",
    "       'All other forms of heart disease', 'Alzheimers disease', 'Diabetes mellitus', \\\n",
    "        'All other and unspecified malignant neoplasms', 'Atherosclerotic cardiovascular disease'\\\n",
    "       ,'Heart failure', 'Pneumonia', 'Malignant neoplasms of colon, rectum and anus', 'Renal failure', \\\n",
    "        'Malignant neoplasm of breast', 'Motor vehicle accidents', 'Septicemia']\n",
    "y = cnt['count'].as_matrix()\n",
    "x = cnt['MajorCause'].as_matrix()\n",
    "plt.bar(np.arange(17), y[1:18], align='center', alpha=0.5)\n",
    "plt.xticks(np.arange(17), labs, rotation='vertical')\n",
    "plt.ylabel('Death Count')\n",
    "plt.savefig('MajorunderlyingCauses_Count.pdf',loc=0, bbox_inches='tight')\n",
    "plt.savefig('MajorunderlyingCauses_Count.eps',loc=0, bbox_inches='tight')"
   ]
  },
  {
   "cell_type": "code",
   "execution_count": null,
   "metadata": {
    "collapsed": true,
    "deletable": true,
    "editable": true
   },
   "outputs": [],
   "source": [
    "selected_disease = [ 63, 27, 59, 70, 86, 68, 52, 46, 43, 62, 67, 78]\n",
    "selected_labels = ['All other forms of chronic ischemic heart disease', 'Malignant neoplasms of trachea, bronchus and lung', \\\n",
    "       'Acute myocardial infarction', 'Cerebrovascular diseases', 'Other chronic lower respiratory diseases', \\\n",
    "       'All other forms of heart disease', 'Alzheimers disease', 'Diabetes mellitus', \\\n",
    "        'All other and unspecified malignant neoplasms', 'Atherosclerotic cardiovascular disease'\\\n",
    "       ,'Heart failure', 'Pneumonia']"
   ]
  },
  {
   "cell_type": "code",
   "execution_count": null,
   "metadata": {
    "collapsed": true,
    "deletable": true,
    "editable": true
   },
   "outputs": [],
   "source": [
    "dt = data_all[data_all['MajorCause'].isin(selected_disease)]\n",
    "dt = dt[['MajorCause', 'CurrentDataYear', 'Race']]\n",
    "dt.columns = ['MajorCause', 'CurrentDataYear', 'count']\n",
    "dt.head()"
   ]
  },
  {
   "cell_type": "code",
   "execution_count": null,
   "metadata": {
    "collapsed": true,
    "deletable": true,
    "editable": true
   },
   "outputs": [],
   "source": []
  },
  {
   "cell_type": "code",
   "execution_count": null,
   "metadata": {
    "collapsed": true,
    "deletable": true,
    "editable": true
   },
   "outputs": [],
   "source": [
    "dt1 = data_all[['CurrentDataYear', 'Race']]"
   ]
  },
  {
   "cell_type": "code",
   "execution_count": null,
   "metadata": {
    "collapsed": true,
    "deletable": true,
    "editable": true
   },
   "outputs": [],
   "source": [
    "dt1.columns = ['CurrentDataYear', 'Race']"
   ]
  },
  {
   "cell_type": "code",
   "execution_count": null,
   "metadata": {
    "collapsed": true,
    "deletable": true,
    "editable": true
   },
   "outputs": [],
   "source": [
    "dt_total_death_per_year = dt1.groupby('CurrentDataYear').count()"
   ]
  },
  {
   "cell_type": "code",
   "execution_count": null,
   "metadata": {
    "collapsed": true,
    "deletable": true,
    "editable": true,
    "scrolled": true
   },
   "outputs": [],
   "source": [
    "dt_total_death_per_year"
   ]
  },
  {
   "cell_type": "code",
   "execution_count": null,
   "metadata": {
    "collapsed": true,
    "deletable": true,
    "editable": true
   },
   "outputs": [],
   "source": [
    "tdpy = dt_total_death_per_year.reset_index().as_matrix()[:,1]"
   ]
  },
  {
   "cell_type": "code",
   "execution_count": null,
   "metadata": {
    "collapsed": true,
    "deletable": true,
    "editable": true
   },
   "outputs": [],
   "source": [
    "tdpy"
   ]
  },
  {
   "cell_type": "code",
   "execution_count": null,
   "metadata": {
    "collapsed": true,
    "deletable": true,
    "editable": true
   },
   "outputs": [],
   "source": [
    "dt2 = dt.groupby(['MajorCause', 'CurrentDataYear']).count()"
   ]
  },
  {
   "cell_type": "code",
   "execution_count": null,
   "metadata": {
    "collapsed": true,
    "deletable": true,
    "editable": true
   },
   "outputs": [],
   "source": [
    "years = np.arange(1999, 2016)"
   ]
  },
  {
   "cell_type": "code",
   "execution_count": null,
   "metadata": {
    "collapsed": true,
    "deletable": true,
    "editable": true
   },
   "outputs": [],
   "source": [
    "years"
   ]
  },
  {
   "cell_type": "code",
   "execution_count": null,
   "metadata": {
    "collapsed": true,
    "deletable": true,
    "editable": true
   },
   "outputs": [],
   "source": [
    "num_disease = len(selected_disease)\n",
    "num_years = 17"
   ]
  },
  {
   "cell_type": "code",
   "execution_count": null,
   "metadata": {
    "collapsed": true,
    "deletable": true,
    "editable": true
   },
   "outputs": [],
   "source": [
    "ys = np.zeros((num_years, num_disease))"
   ]
  },
  {
   "cell_type": "code",
   "execution_count": null,
   "metadata": {
    "collapsed": true,
    "deletable": true,
    "editable": true
   },
   "outputs": [],
   "source": [
    "for i in range(num_disease):\n",
    "    disease = selected_disease[i]\n",
    "    dt3 = data_all[data_all['MajorCause']==disease]\n",
    "    dt4 = dt3[['CurrentDataYear', 'Race']]   # race is a dummy column representing the count\n",
    "    dt4.columns = ['CurrentDataYear', 'count']  \n",
    "    dt5 = dt4.groupby('CurrentDataYear').count()\n",
    "    tmp = dt5.reset_index().as_matrix()[:,1]\n",
    "    ys[:,i] = np.divide(tmp,tdpy)"
   ]
  },
  {
   "cell_type": "code",
   "execution_count": null,
   "metadata": {
    "collapsed": true,
    "deletable": true,
    "editable": true
   },
   "outputs": [],
   "source": []
  },
  {
   "cell_type": "code",
   "execution_count": null,
   "metadata": {
    "collapsed": true,
    "deletable": true,
    "editable": true
   },
   "outputs": [],
   "source": [
    "for i in range(num_disease):\n",
    "    plt.plot(years, ys[:,i], label = selected_labels[i])\n",
    "plt.legend(bbox_to_anchor=(1.05, 1), loc=2)\n",
    "#plt.savefig('./figures/tempral_underlying_frequent_disease.pdf',loc=0, bbox_inches='tight')\n",
    "#plt.savefig('./figures/tempral_underlying_frequent_disease.eps',loc=0, bbox_inches='tight')"
   ]
  },
  {
   "cell_type": "markdown",
   "metadata": {
    "deletable": true,
    "editable": true
   },
   "source": [
    "## co-occuring diseases by year"
   ]
  },
  {
   "cell_type": "code",
   "execution_count": null,
   "metadata": {
    "collapsed": true,
    "deletable": true,
    "editable": true
   },
   "outputs": [],
   "source": [
    "co_occur_1999 = "
   ]
  },
  {
   "cell_type": "code",
   "execution_count": null,
   "metadata": {
    "collapsed": true,
    "deletable": true,
    "editable": true
   },
   "outputs": [],
   "source": [
    "year_recordaxis_2.head()"
   ]
  },
  {
   "cell_type": "code",
   "execution_count": null,
   "metadata": {
    "collapsed": true,
    "deletable": true,
    "editable": true,
    "scrolled": true
   },
   "outputs": [],
   "source": []
  },
  {
   "cell_type": "markdown",
   "metadata": {
    "collapsed": true,
    "deletable": true,
    "editable": true
   },
   "source": [
    "### Which fatal diseases and injuries co-occur most often?"
   ]
  },
  {
   "cell_type": "code",
   "execution_count": null,
   "metadata": {
    "collapsed": true,
    "deletable": true,
    "editable": true
   },
   "outputs": [],
   "source": [
    "# Combine current year, recordaxisnumof and recordaxis conditions\n",
    "year_recordaxis = pd.concat([data_all['CurrentDataYear'],data_all['RecordAxisNumof'], recordaxis], axis=1)"
   ]
  },
  {
   "cell_type": "code",
   "execution_count": null,
   "metadata": {
    "collapsed": true,
    "deletable": true,
    "editable": true,
    "scrolled": true
   },
   "outputs": [],
   "source": [
    "year_recordaxis.head(3)"
   ]
  },
  {
   "cell_type": "code",
   "execution_count": null,
   "metadata": {
    "collapsed": true,
    "deletable": true,
    "editable": true
   },
   "outputs": [],
   "source": [
    "# Combine current year, recordaxisnumof and recordaxis conditions\n",
    "year_recordaxis_2 = year_recordaxis[year_recordaxis['RecordAxisNumof'] == 2]   \n",
    "year_recordaxis_3 = year_recordaxis[year_recordaxis['RecordAxisNumof'] == 3]    "
   ]
  },
  {
   "cell_type": "code",
   "execution_count": null,
   "metadata": {
    "collapsed": true,
    "deletable": true,
    "editable": true
   },
   "outputs": [],
   "source": [
    "year_recordaxis_2.head()"
   ]
  },
  {
   "cell_type": "code",
   "execution_count": null,
   "metadata": {
    "collapsed": true,
    "deletable": true,
    "editable": true
   },
   "outputs": [],
   "source": [
    "year_recordaxis_3.head()"
   ]
  },
  {
   "cell_type": "code",
   "execution_count": null,
   "metadata": {
    "collapsed": true,
    "deletable": true,
    "editable": true,
    "scrolled": false
   },
   "outputs": [],
   "source": [
    "# Fill missing values in condition 2 from condition 3\n",
    "year_recordaxis_2.condition2.loc[year_recordaxis_2.condition3 != ''] = year_recordaxis_2.condition3.loc[year_recordaxis_2.condition3 != '']"
   ]
  },
  {
   "cell_type": "markdown",
   "metadata": {
    "deletable": true,
    "editable": true
   },
   "source": [
    "### Nicotine Dependence"
   ]
  },
  {
   "cell_type": "code",
   "execution_count": null,
   "metadata": {
    "collapsed": false,
    "deletable": true,
    "editable": true,
    "scrolled": true
   },
   "outputs": [],
   "source": [
    "year_recordaxis.tail()"
   ]
  },
  {
   "cell_type": "code",
   "execution_count": null,
   "metadata": {
    "collapsed": true,
    "deletable": true,
    "editable": true
   },
   "outputs": [],
   "source": [
    "### Identify the total number of nicotine dependence per year"
   ]
  },
  {
   "cell_type": "code",
   "execution_count": null,
   "metadata": {
    "collapsed": false,
    "deletable": true,
    "editable": true
   },
   "outputs": [],
   "source": [
    "year_recordaxis.head()"
   ]
  },
  {
   "cell_type": "code",
   "execution_count": null,
   "metadata": {
    "collapsed": true,
    "deletable": true,
    "editable": true
   },
   "outputs": [],
   "source": [
    "year_recordaxis[\"sum_0\"] = year_recordaxis.apply(lambda row: pd.value_counts(row == 'F179') ,axis=1)\n"
   ]
  },
  {
   "cell_type": "code",
   "execution_count": null,
   "metadata": {
    "collapsed": false,
    "deletable": true,
    "editable": true
   },
   "outputs": [],
   "source": [
    "for i in range(n_age_groups-1):\n",
    "    dt = data_all[['RecordAxisNumof', 'Age', 'CurrentDataYear']]\n",
    "    dt = dt[dt['Age'] < age_value[i+1]]\n",
    "    dt = dt[dt['Age'] >= age_value[i]]\n",
    "    #dt.columns = ['RecordAxisNumof','Count']\n",
    "    cnt = dt.groupby(['CurrentDataYear']).agg([ 'count', 'mean', 'std'])\n",
    "    cnt = cnt.reset_index()\n",
    "    y = cnt['RecordAxisNumof']['mean'].as_matrix()\n",
    "    z = cnt['RecordAxisNumof']['std'].as_matrix()\n",
    "    x = cnt['CurrentDataYear'].as_matrix()\n",
    "    lab = str(age_value[i]) + '-' + str(age_value[i+1])\n",
    "    plt.plot(x, y, label = lab)\n",
    "\n",
    "    plt.ylabel('Average chain length')\n",
    "    plt.xlabel('Year')\n",
    "    plt.title(i)\n",
    "plt.legend(age_groups, bbox_to_anchor=(1.05, 1), loc=2 )\n",
    "plt.savefig('average_chain_length_per_age_group.pdf',loc=0, bbox_inches='tight')\n",
    "plt.savefig('average_chain_length_per_age_group.eps',loc=0, bbox_inches='tight')"
   ]
  },
  {
   "cell_type": "code",
   "execution_count": null,
   "metadata": {
    "collapsed": false,
    "deletable": true,
    "editable": true
   },
   "outputs": [],
   "source": [
    "count = []\n",
    "for i, row in  year_recordaxis.loc[:,0:2].iterrows():  #i: dataframe index; row: each row in series format\n",
    "    if  year_recordaxis.loc[row,2:] == \"F179\":\n",
    "        count = 1 + count\n",
    "    \n",
    "print(count)"
   ]
  },
  {
   "cell_type": "code",
   "execution_count": null,
   "metadata": {
    "collapsed": false,
    "deletable": true,
    "editable": true
   },
   "outputs": [],
   "source": [
    "year_recordaxis.iterrows()"
   ]
  },
  {
   "cell_type": "code",
   "execution_count": null,
   "metadata": {
    "collapsed": true,
    "deletable": true,
    "editable": true
   },
   "outputs": [],
   "source": [
    "ds = year_recordaxis.T.apply(lambda x: x.nunique(), axis=1)\n"
   ]
  },
  {
   "cell_type": "code",
   "execution_count": null,
   "metadata": {
    "collapsed": false,
    "deletable": true,
    "editable": true
   },
   "outputs": [],
   "source": [
    "ds = year_recordaxis.loc[:,0:2][year_recordaxis['condition1'] == 'F179' ].groupby('CurrentDataYear').value_counts()"
   ]
  },
  {
   "cell_type": "code",
   "execution_count": null,
   "metadata": {
    "collapsed": false,
    "deletable": true,
    "editable": true
   },
   "outputs": [],
   "source": [
    "ds.values"
   ]
  },
  {
   "cell_type": "code",
   "execution_count": null,
   "metadata": {
    "collapsed": false,
    "deletable": true,
    "editable": true,
    "scrolled": true
   },
   "outputs": [],
   "source": [
    "year_recordaxis.unstack().groupby(level=0).nunique()"
   ]
  },
  {
   "cell_type": "code",
   "execution_count": null,
   "metadata": {
    "collapsed": true,
    "deletable": true,
    "editable": true
   },
   "outputs": [],
   "source": [
    "gb = pd.unique(year_recordaxis.iloc[:,2:].values.ravel())"
   ]
  },
  {
   "cell_type": "code",
   "execution_count": null,
   "metadata": {
    "collapsed": false,
    "deletable": true,
    "editable": true
   },
   "outputs": [],
   "source": [
    "gb"
   ]
  },
  {
   "cell_type": "code",
   "execution_count": null,
   "metadata": {
    "collapsed": true,
    "deletable": true,
    "editable": true,
    "scrolled": true
   },
   "outputs": [],
   "source": [
    "year_recordaxis[year_recordaxis.iloc[:,2:] == 'F179'].groupby(year_recordaxis['CurrentDataYear']).value_count()"
   ]
  },
  {
   "cell_type": "code",
   "execution_count": null,
   "metadata": {
    "collapsed": true,
    "deletable": true,
    "editable": true
   },
   "outputs": [],
   "source": [
    "#gb = np.unique(year_recordaxis.iloc[:,2:])\n",
    "gb = pd.unique(year_recordaxis.iloc[:,2:].values.ravel())"
   ]
  },
  {
   "cell_type": "code",
   "execution_count": null,
   "metadata": {
    "collapsed": true,
    "deletable": true,
    "editable": true
   },
   "outputs": [],
   "source": [
    "gb = []\n",
    "gb"
   ]
  },
  {
   "cell_type": "code",
   "execution_count": null,
   "metadata": {
    "collapsed": true,
    "deletable": true,
    "editable": true
   },
   "outputs": [],
   "source": [
    "un = year_recordaxis.iloc[:,2:].apply(lambda x: x.unique())"
   ]
  },
  {
   "cell_type": "code",
   "execution_count": null,
   "metadata": {
    "collapsed": true,
    "deletable": true,
    "editable": true,
    "scrolled": true
   },
   "outputs": [],
   "source": [
    "ga = year_recordaxis.iloc[:,2].groupby(year_recordaxis['CurrentDataYear']).value_counts()\n",
    "ga"
   ]
  },
  {
   "cell_type": "code",
   "execution_count": null,
   "metadata": {
    "collapsed": true,
    "deletable": true,
    "editable": true
   },
   "outputs": [],
   "source": [
    "ga.values "
   ]
  },
  {
   "cell_type": "code",
   "execution_count": null,
   "metadata": {
    "collapsed": true,
    "deletable": true,
    "editable": true,
    "scrolled": true
   },
   "outputs": [],
   "source": [
    "gb = []\n",
    "for i in range(2,19):\n",
    "    ga = year_recordaxis.iloc[:,i].groupby(year_recordaxis['CurrentDataYear']).value_counts()\n",
    "    gb = ga.values + gb"
   ]
  },
  {
   "cell_type": "code",
   "execution_count": null,
   "metadata": {
    "collapsed": true,
    "deletable": true,
    "editable": true,
    "scrolled": true
   },
   "outputs": [],
   "source": [
    "test = year_recordaxis.condition1[year_recordaxis['condition1'] == 'F179']\n",
    "test"
   ]
  },
  {
   "cell_type": "code",
   "execution_count": null,
   "metadata": {
    "collapsed": true,
    "deletable": true,
    "editable": true
   },
   "outputs": [],
   "source": []
  },
  {
   "cell_type": "code",
   "execution_count": null,
   "metadata": {
    "collapsed": true,
    "deletable": true,
    "editable": true
   },
   "outputs": [],
   "source": []
  },
  {
   "cell_type": "markdown",
   "metadata": {
    "deletable": true,
    "editable": true
   },
   "source": [
    "### Find co-occurences per year"
   ]
  },
  {
   "cell_type": "code",
   "execution_count": null,
   "metadata": {
    "collapsed": true,
    "deletable": true,
    "editable": true,
    "scrolled": true
   },
   "outputs": [],
   "source": [
    "co_occur = year_recordaxis_2.iloc[:,0:4][year_recordaxis_2.CurrentDataYear == i]\n",
    "co_occur"
   ]
  },
  {
   "cell_type": "code",
   "execution_count": null,
   "metadata": {
    "collapsed": true,
    "deletable": true,
    "editable": true,
    "scrolled": true
   },
   "outputs": [],
   "source": [
    "co_occur2 =  co_occur.iloc[:,2:4]\n",
    "co_occur2"
   ]
  },
  {
   "cell_type": "code",
   "execution_count": null,
   "metadata": {
    "collapsed": true,
    "deletable": true,
    "editable": true
   },
   "outputs": [],
   "source": [
    "for i in range(1999,2016):\n",
    "    # Filter out by year (i.e. 1999, 2000 etc)\n",
    "    co_occur = year_recordaxis_2.iloc[:,0:4][year_recordaxis_2.CurrentDataYear == i]\n",
    "    \n",
    "    # Keep only condition 1 and 2\n",
    "    co_occur2 =  co_occur.iloc[:,2:4]\n",
    "    \n",
    "    # Crosstab condition 1 with condition 2\n",
    "    crosstab = pd.crosstab(co_occur2.condition1, co_occur2.condition2, margins=True)\n",
    "    \n",
    "    # Remove end column and row from result. Identify the maximum co-occurence per condition\n",
    "    crosstab2_maxidx = crosstab.iloc[0:-1,0:-1].idxmax(axis=1, skipna=True)\n",
    "\n",
    "    # Remove end column and row from result. Identify the value of maximum co-occurence per condition\n",
    "    crosstab2_maxval = crosstab2.iloc[0:-1,0:-1].max(axis=1, skipna=True)\n",
    "\n",
    "    # Sort the values in descending order\n",
    "    crosstab2_maxval_sort = crosstab2_maxval.sort_values()\n",
    "    crosstab2_maxval_sort = crosstab2_maxval_sort[::-1]\n",
    "    \n",
    "    # Save values to csv file\n",
    "    crosstab2_maxval_sort.to_csv(str(i)+ 'sortedcooccurence_2chains_values.csv ')\n",
    "\n",
    "    # Sort conditions based on the indextes of sorted counts\n",
    "    recordaxis_crosstab_cond2_sorted_final = crosstab2_maxidx[crosstab2_maxval_sort.index]\n",
    "    \n",
    "    #save output to excel file\n",
    "    recordaxis_crosstab_cond2_sorted_final.to_csv(str(i)+ 'sortedcooccurence_2chains.csv ')\n",
    "    \n",
    "    print(str(i))\n"
   ]
  },
  {
   "cell_type": "code",
   "execution_count": null,
   "metadata": {
    "collapsed": true,
    "deletable": true,
    "editable": true,
    "scrolled": true
   },
   "outputs": [],
   "source": [
    "# Fill missing values in condition 2 and condition 3\n",
    "year_recordaxis_3.condition2.loc[year_recordaxis_3.condition2 == ''] = year_recordaxis_3.condition3.loc[year_recordaxis_3.condition2 == '']\n",
    "year_recordaxis_3.condition3.loc[year_recordaxis_3.condition4 != ''] = year_recordaxis_3.condition4.loc[year_recordaxis_3.condition4 != '']\n",
    "year_recordaxis_3.condition3.loc[year_recordaxis_3.condition5 != ''] = year_recordaxis_3.condition5.loc[year_recordaxis_3.condition5 != '']"
   ]
  },
  {
   "cell_type": "code",
   "execution_count": null,
   "metadata": {
    "collapsed": true,
    "deletable": true,
    "editable": true
   },
   "outputs": [],
   "source": [
    "year_recordaxis_2['RecordAxisNumof'].mean()"
   ]
  },
  {
   "cell_type": "code",
   "execution_count": null,
   "metadata": {
    "collapsed": true,
    "deletable": true,
    "editable": true
   },
   "outputs": [],
   "source": [
    "year_recordaxis_3['RecordAxisNumof'].mean()"
   ]
  },
  {
   "cell_type": "code",
   "execution_count": null,
   "metadata": {
    "collapsed": true,
    "deletable": true,
    "editable": true
   },
   "outputs": [],
   "source": [
    "year_recordaxis_3.head()"
   ]
  },
  {
   "cell_type": "code",
   "execution_count": null,
   "metadata": {
    "collapsed": true,
    "deletable": true,
    "editable": true,
    "scrolled": true
   },
   "outputs": [],
   "source": [
    "year_recordaxis_3.iloc[:,2:5]"
   ]
  },
  {
   "cell_type": "code",
   "execution_count": null,
   "metadata": {
    "collapsed": true,
    "deletable": true,
    "editable": true,
    "scrolled": true
   },
   "outputs": [],
   "source": [
    "# Keep only condition 1 and 2\n",
    "year_recordaxis_2cond =  year_recordaxis_2.iloc[:,2:4]\n",
    "year_recordaxis_3cond = year_recordaxis_3.iloc[:,2:5]"
   ]
  },
  {
   "cell_type": "code",
   "execution_count": null,
   "metadata": {
    "collapsed": true,
    "deletable": true,
    "editable": true,
    "scrolled": true
   },
   "outputs": [],
   "source": [
    "year_recordaxis_2cond.head()"
   ]
  },
  {
   "cell_type": "code",
   "execution_count": null,
   "metadata": {
    "collapsed": true,
    "deletable": true,
    "editable": true,
    "scrolled": true
   },
   "outputs": [],
   "source": [
    "year_recordaxis_2_group = year_recordaxis_2.iloc[:,0:4]\n",
    "year_recordaxis_2_group"
   ]
  },
  {
   "cell_type": "code",
   "execution_count": null,
   "metadata": {
    "collapsed": true,
    "deletable": true,
    "editable": true
   },
   "outputs": [],
   "source": [
    "year_recordaxis_2_group.head()"
   ]
  },
  {
   "cell_type": "code",
   "execution_count": null,
   "metadata": {
    "collapsed": true,
    "deletable": true,
    "editable": true
   },
   "outputs": [],
   "source": [
    "year_recordaxis_3cond.head()"
   ]
  },
  {
   "cell_type": "code",
   "execution_count": null,
   "metadata": {
    "collapsed": true,
    "deletable": true,
    "editable": true
   },
   "outputs": [],
   "source": [
    "crosstab2 = pd.crosstab(year_recordaxis_2cond.condition1, year_recordaxis_2cond.condition2, margins=True)\n",
    "crosstab3 = pd.crosstab([year_recordaxis_3cond.condition1, year_recordaxis_3.condition2],year_recordaxis_3cond.condition3, margins=True)"
   ]
  },
  {
   "cell_type": "code",
   "execution_count": null,
   "metadata": {
    "collapsed": true,
    "deletable": true,
    "editable": true,
    "scrolled": true
   },
   "outputs": [],
   "source": [
    "crosstab2.head()"
   ]
  },
  {
   "cell_type": "code",
   "execution_count": null,
   "metadata": {
    "collapsed": true,
    "deletable": true,
    "editable": true
   },
   "outputs": [],
   "source": [
    "crosstab3.head()"
   ]
  },
  {
   "cell_type": "markdown",
   "metadata": {
    "deletable": true,
    "editable": true
   },
   "source": [
    "To get the total proportion of counts in each cell, divide the table by the grand total:"
   ]
  },
  {
   "cell_type": "code",
   "execution_count": null,
   "metadata": {
    "collapsed": true,
    "deletable": true,
    "editable": true
   },
   "outputs": [],
   "source": [
    "#crosstab12/crosstab12.ix[\"coltotal\",\"rowtotal\"]"
   ]
  },
  {
   "cell_type": "markdown",
   "metadata": {
    "deletable": true,
    "editable": true
   },
   "source": [
    "Return non-zero values in each row "
   ]
  },
  {
   "cell_type": "code",
   "execution_count": null,
   "metadata": {
    "collapsed": true,
    "deletable": true,
    "editable": true,
    "scrolled": true
   },
   "outputs": [],
   "source": [
    "cols = crosstab2.iloc[0:-1,0:-1].columns\n",
    "bt = crosstab2.iloc[0:-1,0:-1] .apply(lambda x: x > 0)\n",
    "crosstab2_nonzero = bt.apply(lambda x: list(cols[x.values]), axis=1)\n",
    "crosstab2_nonzero"
   ]
  },
  {
   "cell_type": "code",
   "execution_count": null,
   "metadata": {
    "collapsed": true,
    "deletable": true,
    "editable": true
   },
   "outputs": [],
   "source": [
    "#cols = crosstab3.iloc[0:-1,0:-1].columns\n",
    "#bt = crosstab3.iloc[0:-1,0:-1] .apply(lambda x: x > 0)\n",
    "#crosstab3_nonzero = bt.apply(lambda x: list(cols[x.values]), axis=0)\n",
    "#crosstab3_nonzero"
   ]
  },
  {
   "cell_type": "markdown",
   "metadata": {
    "deletable": true,
    "editable": true
   },
   "source": [
    "Return index of first occurrence of maximum over requested axis. NA/null values are excluded."
   ]
  },
  {
   "cell_type": "code",
   "execution_count": null,
   "metadata": {
    "collapsed": true,
    "deletable": true,
    "editable": true,
    "scrolled": true
   },
   "outputs": [],
   "source": [
    "crosstab2_maxidx = crosstab2.iloc[0:-1,0:-1].idxmax(axis=1, skipna=True)\n",
    "crosstab3_maxidx = crosstab3.iloc[0:-1,0:-1].idxmax(axis=1, skipna=True)\n",
    "\n",
    "# Drop conditions that are are blank\n",
    "#crosstab12_maxidx2 = crosstab12_maxidx[crosstab12_maxidx.values != '']\n",
    "#crosstab12_maxidx2"
   ]
  },
  {
   "cell_type": "code",
   "execution_count": null,
   "metadata": {
    "collapsed": true,
    "deletable": true,
    "editable": true,
    "scrolled": true
   },
   "outputs": [],
   "source": [
    "crosstab2_maxidx.head()"
   ]
  },
  {
   "cell_type": "code",
   "execution_count": null,
   "metadata": {
    "collapsed": true,
    "deletable": true,
    "editable": true
   },
   "outputs": [],
   "source": [
    "crosstab3_maxidx.head()"
   ]
  },
  {
   "cell_type": "markdown",
   "metadata": {
    "deletable": true,
    "editable": true
   },
   "source": [
    "Return value of first occurrence of maximum over requested axis. NA/null values are excluded."
   ]
  },
  {
   "cell_type": "code",
   "execution_count": null,
   "metadata": {
    "collapsed": true,
    "deletable": true,
    "editable": true,
    "scrolled": true
   },
   "outputs": [],
   "source": [
    "crosstab2_maxval = crosstab2.iloc[0:-1,0:-1].max(axis=1, skipna=True)\n",
    "crosstab3_maxval = crosstab3.iloc[0:-1,0:-1].max(axis=1, skipna=True)"
   ]
  },
  {
   "cell_type": "code",
   "execution_count": null,
   "metadata": {
    "collapsed": true,
    "deletable": true,
    "editable": true
   },
   "outputs": [],
   "source": [
    "crosstab2_maxval.head()"
   ]
  },
  {
   "cell_type": "code",
   "execution_count": null,
   "metadata": {
    "collapsed": true,
    "deletable": true,
    "editable": true
   },
   "outputs": [],
   "source": [
    "crosstab3_maxval.head()"
   ]
  },
  {
   "cell_type": "markdown",
   "metadata": {
    "deletable": true,
    "editable": true
   },
   "source": [
    "Sort returned value in descending order "
   ]
  },
  {
   "cell_type": "code",
   "execution_count": null,
   "metadata": {
    "collapsed": true,
    "deletable": true,
    "editable": true,
    "scrolled": true
   },
   "outputs": [],
   "source": [
    "crosstab2_maxval_sort = crosstab2.iloc[0:-1,0:-1].max(axis=1, skipna=True).sort_values()\n",
    "crosstab2_maxval_sort = crosstab2_maxval_sort[::-1]\n",
    "\n",
    "crosstab3_maxval_sort = crosstab3.iloc[0:-1,0:-1].max(axis=1, skipna=True).sort_values()\n",
    "crosstab3_maxval_sort = crosstab3_maxval_sort[::-1]"
   ]
  },
  {
   "cell_type": "code",
   "execution_count": null,
   "metadata": {
    "collapsed": true,
    "deletable": true,
    "editable": true
   },
   "outputs": [],
   "source": [
    "crosstab2_maxval_sort.head()"
   ]
  },
  {
   "cell_type": "code",
   "execution_count": null,
   "metadata": {
    "collapsed": true,
    "deletable": true,
    "editable": true
   },
   "outputs": [],
   "source": [
    "crosstab3_maxval_sort.head()"
   ]
  },
  {
   "cell_type": "code",
   "execution_count": null,
   "metadata": {
    "collapsed": true,
    "deletable": true,
    "editable": true
   },
   "outputs": [],
   "source": [
    "crosstab2_maxval_sort.to_csv('Most common co-occurrences_2chains_values.csv ')\n",
    "crosstab3_maxval_sort.to_csv('Most common co-occurrences_3chains_values.csv ')"
   ]
  },
  {
   "cell_type": "code",
   "execution_count": null,
   "metadata": {
    "collapsed": true,
    "deletable": true,
    "editable": true,
    "scrolled": true
   },
   "outputs": [],
   "source": [
    "recordaxis_crosstab_cond2_sorted_final = crosstab2_maxidx[crosstab2_maxval_sort.index]\n",
    "recordaxis_crosstab_cond3_sorted_final = crosstab3_maxidx[crosstab3_maxval_sort.index]"
   ]
  },
  {
   "cell_type": "code",
   "execution_count": null,
   "metadata": {
    "collapsed": true,
    "deletable": true,
    "editable": true,
    "scrolled": true
   },
   "outputs": [],
   "source": [
    "recordaxis_crosstab_cond2_sorted_final[0:100]"
   ]
  },
  {
   "cell_type": "code",
   "execution_count": null,
   "metadata": {
    "collapsed": true,
    "deletable": true,
    "editable": true,
    "scrolled": true
   },
   "outputs": [],
   "source": [
    "recordaxis_crosstab_cond3_sorted_final[0:100]"
   ]
  },
  {
   "cell_type": "code",
   "execution_count": null,
   "metadata": {
    "collapsed": true,
    "deletable": true,
    "editable": true
   },
   "outputs": [],
   "source": [
    "recordaxis_crosstab_cond2_sorted_final.to_csv('Most common co-occurrences_2chains.csv ')\n",
    "recordaxis_crosstab_cond3_sorted_final.to_csv('Most common co-occurrences_3chains.csv ')"
   ]
  },
  {
   "cell_type": "code",
   "execution_count": null,
   "metadata": {
    "collapsed": true,
    "deletable": true,
    "editable": true
   },
   "outputs": [],
   "source": []
  },
  {
   "cell_type": "markdown",
   "metadata": {
    "deletable": true,
    "editable": true
   },
   "source": [
    "### Count the number of times each condition appears ###"
   ]
  },
  {
   "cell_type": "code",
   "execution_count": null,
   "metadata": {
    "collapsed": true,
    "deletable": true,
    "editable": true
   },
   "outputs": [],
   "source": []
  },
  {
   "cell_type": "code",
   "execution_count": null,
   "metadata": {
    "collapsed": true,
    "deletable": true,
    "editable": true
   },
   "outputs": [],
   "source": [
    "dt_all_2.shape[0]"
   ]
  },
  {
   "cell_type": "code",
   "execution_count": null,
   "metadata": {
    "collapsed": true,
    "deletable": true,
    "editable": true
   },
   "outputs": [],
   "source": [
    "def do_code_21(dis):\n",
    "    if (dis[0]=='A' or dis[0]=='B'):\n",
    "        return 0\n",
    "    elif dis[0]=='C':\n",
    "        return 1\n",
    "    elif dis[0]=='D':\n",
    "        if dis[1] <= '4':\n",
    "            return 1\n",
    "        else:\n",
    "            return 2\n",
    "    elif dis[0]=='E':\n",
    "        return 3\n",
    "    elif dis[0] =='F':\n",
    "        return 4\n",
    "    elif dis[0] =='G':\n",
    "        return 5\n",
    "    elif dis[0]=='H':\n",
    "        if dis[1] <= '5':\n",
    "            return 6\n",
    "        else:\n",
    "            return 7\n",
    "    elif dis[0]=='I':\n",
    "        return 8\n",
    "    elif dis[0] =='J':\n",
    "        return 9\n",
    "    elif dis[0] =='K':\n",
    "        return 10\n",
    "    elif dis[0]=='L':\n",
    "        return 11\n",
    "    elif dis[0] =='M':\n",
    "        return 12\n",
    "    elif dis[0] =='N':\n",
    "        return 13\n",
    "    elif dis[0]=='O':\n",
    "        return 14\n",
    "    elif dis[0] =='P':\n",
    "        return 15\n",
    "    elif dis[0] =='Q':\n",
    "        return 16\n",
    "    elif dis[0]=='R':\n",
    "        return 17\n",
    "    elif dis[0] == 'S':\n",
    "        return 18\n",
    "    elif dis[0] == 'T':\n",
    "        return 18\n",
    "    elif dis[0] == 'Z':\n",
    "        return 20\n",
    "    else:\n",
    "        return 19\n",
    "    "
   ]
  },
  {
   "cell_type": "code",
   "execution_count": null,
   "metadata": {
    "collapsed": true,
    "deletable": true,
    "editable": true
   },
   "outputs": [],
   "source": [
    "#dt = dt_all_2[dt_all_2['MajorCause'].isin([48,49])]\n",
    "years = np.arange(1999,2016,1)\n",
    "year0 = years[0]\n",
    "dictlist = [dict() for x in years]\n",
    "dictall = dict()"
   ]
  },
  {
   "cell_type": "code",
   "execution_count": null,
   "metadata": {
    "collapsed": true,
    "deletable": true,
    "editable": true
   },
   "outputs": [],
   "source": [
    "dt_all_2"
   ]
  },
  {
   "cell_type": "code",
   "execution_count": null,
   "metadata": {
    "collapsed": true,
    "deletable": true,
    "editable": true
   },
   "outputs": [],
   "source": []
  },
  {
   "cell_type": "code",
   "execution_count": null,
   "metadata": {
    "collapsed": true,
    "deletable": true,
    "editable": true
   },
   "outputs": [],
   "source": [
    "recordaxis_2 = recordaxis[recordaxis['RecordAxisNumof'] > 1]    "
   ]
  },
  {
   "cell_type": "code",
   "execution_count": null,
   "metadata": {
    "collapsed": true,
    "deletable": true,
    "editable": true
   },
   "outputs": [],
   "source": [
    "recordaxis.head(10)"
   ]
  },
  {
   "cell_type": "code",
   "execution_count": null,
   "metadata": {
    "collapsed": true,
    "deletable": true,
    "editable": true
   },
   "outputs": [],
   "source": [
    "i = 0\n",
    "conds = dt_all_2.iloc[i]['RecordAxisConditions'] \n",
    "conds"
   ]
  },
  {
   "cell_type": "code",
   "execution_count": null,
   "metadata": {
    "collapsed": true,
    "deletable": true,
    "editable": true
   },
   "outputs": [],
   "source": [
    "cnt_pairs = dict();\n",
    "for i in range(dt_all_2.shape[0]):\n",
    "    if np.mod(i,500000)==0:\n",
    "        print(i)\n",
    "    conds = dt_all_2.iloc[i]['RecordAxisConditions'] \n",
    "    #print(conds)\n",
    "    conds_cnt = dt_all_2.iloc[i]['RecordAxisNumof'] \n",
    "    arr = conds.split('\\'');\n",
    "    for j in range(int(conds_cnt)):\n",
    "        if j==0:\n",
    "            dis1 = arr[2*j+1][0:3];\n",
    "        else:\n",
    "            dis1 = arr[2*j+1][0:3];\n",
    "            \n",
    "        for k in range(j+1,int(conds_cnt)):\n",
    "            dis2 = arr[2*k+1][0:3];\n",
    "            if dis1[0] > dis2[0]:\n",
    "                dis3 = dis1\n",
    "                dis1 = dis2\n",
    "                dis2 = dis3\n",
    "                \n",
    "            mycode = str(do_code_21(dis1)) +  '-' + str(do_code_21(dis2))\n",
    "            #print(mycode)\n",
    "            if mycode in cnt_pairs.keys():\n",
    "                cnt_pairs[mycode] = cnt_pairs[mycode] + 1    \n",
    "            else:\n",
    "                cnt_pairs[mycode] = 1"
   ]
  },
  {
   "cell_type": "code",
   "execution_count": null,
   "metadata": {
    "collapsed": true,
    "deletable": true,
    "editable": true
   },
   "outputs": [],
   "source": [
    "import operator\n",
    "sorted_pairs = sorted(cnt_pairs.items(), key=lambda x: -x[1])"
   ]
  },
  {
   "cell_type": "code",
   "execution_count": null,
   "metadata": {
    "collapsed": true,
    "deletable": true,
    "editable": true
   },
   "outputs": [],
   "source": [
    "sorted_pairs"
   ]
  },
  {
   "cell_type": "markdown",
   "metadata": {
    "deletable": true,
    "editable": true
   },
   "source": [
    "## per year"
   ]
  },
  {
   "cell_type": "code",
   "execution_count": null,
   "metadata": {
    "collapsed": true,
    "deletable": true,
    "editable": true
   },
   "outputs": [],
   "source": [
    "year_ages = np.outer(years, ages)"
   ]
  },
  {
   "cell_type": "code",
   "execution_count": null,
   "metadata": {
    "collapsed": true,
    "deletable": true,
    "editable": true
   },
   "outputs": [],
   "source": [
    "years = np.arange(1999,2016,1)\n",
    "year0 = years[0]"
   ]
  },
  {
   "cell_type": "code",
   "execution_count": null,
   "metadata": {
    "collapsed": true,
    "deletable": true,
    "editable": true
   },
   "outputs": [],
   "source": [
    "ages = [0, 1, 5, 15, 25, 35, 45, 55, 65, 75, 85, 150]"
   ]
  },
  {
   "cell_type": "code",
   "execution_count": null,
   "metadata": {
    "collapsed": true,
    "deletable": true,
    "editable": true
   },
   "outputs": [],
   "source": [
    "n_ages = len(ages)-1\n",
    "n_years = len(years)\n",
    "n_ay = n_ages * n_years"
   ]
  },
  {
   "cell_type": "code",
   "execution_count": null,
   "metadata": {
    "collapsed": true,
    "deletable": true,
    "editable": true
   },
   "outputs": [],
   "source": [
    "def get_ind(age):\n",
    "    for i in range(n_ages+1):\n",
    "        if ages[i] > age:\n",
    "            return i-1\n"
   ]
  },
  {
   "cell_type": "code",
   "execution_count": null,
   "metadata": {
    "collapsed": true,
    "deletable": true,
    "editable": true
   },
   "outputs": [],
   "source": [
    "dictlist = [dict() for x in range(n_ay)]"
   ]
  },
  {
   "cell_type": "code",
   "execution_count": null,
   "metadata": {
    "collapsed": true,
    "deletable": true,
    "editable": true
   },
   "outputs": [],
   "source": [
    "for i in range(1000):\n",
    "    if np.mod(i,100)==0:\n",
    "        print(i)\n",
    "    conds = data_all.iloc[i]['RecordAxisConditions'] \n",
    "    #print(conds)\n",
    "    conds_cnt = data_all.iloc[i]['RecordAxisNumof'] \n",
    "    year = data_all.iloc[i]['CurrentDataYear']-year0 \n",
    "    age = data_all.iloc[i]['Age']\n",
    "    ind_age = get_ind(int(age))\n",
    "    arr = conds.split('\\'');\n",
    "    dis1 = arr[1][0:3];\n",
    "    mycode = dis1 + ''\n",
    "    for j in range(conds_cnt-1):\n",
    "        dis1 = arr[2*(j+1)+1][0:3];\n",
    "        mycode = mycode + '-' + dis1    \n",
    "    #print(mycode)\n",
    "    if mycode in dictlist[year*n_ages+ind_age].keys():\n",
    "        dictlist[year*n_ages+ind_age][mycode] = dictlist[year*n_ages+ind_age][mycode] + 1    \n",
    "    else:\n",
    "        dictlist[year*n_ages+ind_age][mycode] = 1"
   ]
  },
  {
   "cell_type": "code",
   "execution_count": null,
   "metadata": {
    "collapsed": true,
    "deletable": true,
    "editable": true
   },
   "outputs": [],
   "source": [
    "int(age)"
   ]
  },
  {
   "cell_type": "code",
   "execution_count": null,
   "metadata": {
    "collapsed": true,
    "deletable": true,
    "editable": true
   },
   "outputs": [],
   "source": [
    "import operator\n",
    "sorted_pairs = sorted(dictlist[0].items(), key=lambda x: -x[1])"
   ]
  },
  {
   "cell_type": "code",
   "execution_count": null,
   "metadata": {
    "collapsed": true,
    "deletable": true,
    "editable": true
   },
   "outputs": [],
   "source": [
    "sorted_pairs"
   ]
  },
  {
   "cell_type": "code",
   "execution_count": null,
   "metadata": {
    "collapsed": true,
    "deletable": true,
    "editable": true
   },
   "outputs": [],
   "source": []
  },
  {
   "cell_type": "markdown",
   "metadata": {
    "deletable": true,
    "editable": true
   },
   "source": [
    "## Nutrition"
   ]
  },
  {
   "cell_type": "code",
   "execution_count": null,
   "metadata": {
    "collapsed": true,
    "deletable": true,
    "editable": true
   },
   "outputs": [],
   "source": [
    "dt = data_all[data_all['MajorCause'].isin([48,49])]\n",
    "years = np.arange(1999,2016,1)\n",
    "year0 = years[0]\n",
    "#dictlist = [dict() for x in years]\n",
    "#dictall = dict()\n",
    "dictlist_nut = [dict() for x in years]\n",
    "dictall_nut = dict()"
   ]
  },
  {
   "cell_type": "code",
   "execution_count": null,
   "metadata": {
    "collapsed": true,
    "deletable": true,
    "editable": true
   },
   "outputs": [],
   "source": [
    "dt = dt.reset_index()\n",
    "dt"
   ]
  },
  {
   "cell_type": "code",
   "execution_count": null,
   "metadata": {
    "collapsed": true,
    "deletable": true,
    "editable": true
   },
   "outputs": [],
   "source": [
    "dt.head()"
   ]
  },
  {
   "cell_type": "code",
   "execution_count": null,
   "metadata": {
    "collapsed": true,
    "deletable": true,
    "editable": true,
    "scrolled": false
   },
   "outputs": [],
   "source": [
    "i = 0\n",
    "conds = dt.iloc[i]['RecordAxisConditions'] \n",
    "conds"
   ]
  },
  {
   "cell_type": "code",
   "execution_count": null,
   "metadata": {
    "collapsed": true,
    "deletable": true,
    "editable": true
   },
   "outputs": [],
   "source": [
    "conds_cnt = dt.iloc[i]['RecordAxisNumof'] \n",
    "conds_cnt"
   ]
  },
  {
   "cell_type": "code",
   "execution_count": null,
   "metadata": {
    "collapsed": true,
    "deletable": true,
    "editable": true
   },
   "outputs": [],
   "source": [
    "year = dt.iloc[i]['CurrentDataYear']-year0 \n",
    "year"
   ]
  },
  {
   "cell_type": "code",
   "execution_count": null,
   "metadata": {
    "collapsed": true,
    "deletable": true,
    "editable": true
   },
   "outputs": [],
   "source": [
    "arr = conds.split('\\'');\n",
    "arr"
   ]
  },
  {
   "cell_type": "code",
   "execution_count": null,
   "metadata": {
    "collapsed": true,
    "deletable": true,
    "editable": true
   },
   "outputs": [],
   "source": [
    "dis1 =arr[0][0:3]\n",
    "dis1"
   ]
  },
  {
   "cell_type": "code",
   "execution_count": null,
   "metadata": {
    "collapsed": true,
    "deletable": true,
    "editable": true
   },
   "outputs": [],
   "source": [
    "mycode = dis1 + ''\n",
    "mycode"
   ]
  },
  {
   "cell_type": "code",
   "execution_count": null,
   "metadata": {
    "collapsed": true,
    "deletable": true,
    "editable": true
   },
   "outputs": [],
   "source": [
    "j = range(conds_cnt-1)\n",
    "j"
   ]
  },
  {
   "cell_type": "code",
   "execution_count": null,
   "metadata": {
    "collapsed": true,
    "deletable": true,
    "editable": true
   },
   "outputs": [],
   "source": [
    "arr"
   ]
  },
  {
   "cell_type": "code",
   "execution_count": null,
   "metadata": {
    "collapsed": true,
    "deletable": true,
    "editable": true,
    "scrolled": false
   },
   "outputs": [],
   "source": [
    "dis1 = arr\n",
    "dis1"
   ]
  },
  {
   "cell_type": "code",
   "execution_count": null,
   "metadata": {
    "collapsed": true,
    "deletable": true,
    "editable": true
   },
   "outputs": [],
   "source": [
    "for i in range(dt.shape[0]):\n",
    "    if np.mod(i,10000)==0:\n",
    "        print(i)\n",
    "    conds = dt.iloc[i]['RecordAxisConditions'] \n",
    "    #print(conds)\n",
    "    conds_cnt = dt.iloc[i]['RecordAxisNumof'] \n",
    "    year = dt.iloc[i]['CurrentDataYear']-year0 \n",
    "    arr = conds.split('\\'');\n",
    "    dis1 = arr[0][0:3];\n",
    "    mycode = dis1 + ''\n",
    "    for j in range(conds_cnt-1):\n",
    "        dis1 = arr[2*(j+1)+1][0:3];\n",
    "        mycode = mycode + '-' + dis1    \n",
    "    #print(mycode)\n",
    "    if mycode in dictlist_nut[year].keys():\n",
    "        dictlist_nut[year][mycode] = dictlist_nut[year][mycode] + 1    \n",
    "    else:\n",
    "        dictlist_nut[year][mycode] = 1\n",
    "    if mycode in dictall_nut.keys():\n",
    "        dictall_nut[mycode] = dictall_nut[mycode] + 1    \n",
    "    else:\n",
    "        dictall_nut[mycode] = 1   "
   ]
  },
  {
   "cell_type": "code",
   "execution_count": null,
   "metadata": {
    "collapsed": true,
    "deletable": true,
    "editable": true
   },
   "outputs": [],
   "source": [
    "import operator\n",
    "sorted_dictall_nut = sorted(dictall_nut.items(), key=lambda x: -x[1])"
   ]
  },
  {
   "cell_type": "code",
   "execution_count": null,
   "metadata": {
    "collapsed": true,
    "deletable": true,
    "editable": true
   },
   "outputs": [],
   "source": [
    "for i in range(17):\n",
    "    ss = sorted(dictlist_nut[i].items(), key=lambda x: -x[1])\n",
    "    print(i+1999)\n",
    "    print('\\n')\n",
    "    print(ss[0:100])\n",
    "    print('\\n')"
   ]
  },
  {
   "cell_type": "code",
   "execution_count": null,
   "metadata": {
    "collapsed": true,
    "deletable": true,
    "editable": true
   },
   "outputs": [],
   "source": [
    "dt[['CurrentDataYear','Race']].groupby(['CurrentDataYear']).count()"
   ]
  },
  {
   "cell_type": "code",
   "execution_count": null,
   "metadata": {
    "collapsed": true,
    "deletable": true,
    "editable": true
   },
   "outputs": [],
   "source": [
    "dt['']"
   ]
  },
  {
   "cell_type": "code",
   "execution_count": null,
   "metadata": {
    "collapsed": true,
    "deletable": true,
    "editable": true
   },
   "outputs": [],
   "source": [
    "dt = data_all[data_all['MajorCause']==111]\n"
   ]
  },
  {
   "cell_type": "code",
   "execution_count": null,
   "metadata": {
    "collapsed": true,
    "deletable": true,
    "editable": true
   },
   "outputs": [],
   "source": [
    "dt.shape"
   ]
  },
  {
   "cell_type": "code",
   "execution_count": null,
   "metadata": {
    "collapsed": true,
    "deletable": true,
    "editable": true
   },
   "outputs": [],
   "source": [
    "dictlist_nut = [dict() for x in years]\n",
    "dictall_nut = dict()\n",
    "dictlist_nic = [dict() for x in years]\n",
    "dictall_nic = dict()"
   ]
  },
  {
   "cell_type": "code",
   "execution_count": null,
   "metadata": {
    "collapsed": true,
    "deletable": true,
    "editable": true
   },
   "outputs": [],
   "source": [
    "plt.savefig('./figures/tempral_underlying_frequent_disease.pdf',loc=0, bbox_inches='tight')\n",
    "for i in range(dt.shape[0]):\n",
    "    if np.mod(i,100000)==0:\n",
    "        print(i)\n",
    "    conds = dt.iloc[i]['RecordAxisConditions'] \n",
    "    #print(conds)\n",
    "    conds_cnt = dt.iloc[i]['RecordAxisNumof'] \n",
    "    year = dt.iloc[i]['CurrentDataYear']-year0 \n",
    "    arr = conds.split('\\'');\n",
    "    dis1 = arr[1][0:3];\n",
    "    if (dis1 >= 'E65' and dis1 <= 'E68'):# or (dis1 >= 'F10' and dis1 <= 'F19'):\n",
    "        mycode = dis1 + ''\n",
    "        for j in range(conds_cnt-1):\n",
    "            dis1 = arr[2*(j+1)+1][0:3];\n",
    "            mycode = mycode + '-' + dis1    \n",
    "        #print(mycode)\n",
    "        if (dis1 >= 'E65' and dis1 <= 'E68'):\n",
    "            if mycode in dictlist_nut[year].keys():\n",
    "                dictlist_nut[year][mycode] = dictlist_nut[year][mycode] + 1    \n",
    "            else:\n",
    "                dictlist_nut[year][mycode] = 1\n",
    "            if mycode in dictall_nut.keys():\n",
    "                dictall_nut[mycode] = dictall_nut[mycode] + 1    \n",
    "            else:\n",
    "                dictall_nut[mycode] = 1  \n",
    "                \n",
    "#        if (dis1 >= 'F10' and dis1 <= 'F19'):\n",
    "#            if mycode in dictlist_nic[year].keys():\n",
    "#                dictlist_nic[year][mycode] = dictlist_nic[year][mycode] + 1    \n",
    "#            else:\n",
    "#                dictlist_nic[year][mycode] = 1\n",
    "#            if mycode in dictall_nic.keys():\n",
    "#                dictall_nic[mycode] = dictall_nic[mycode] + 1    \n",
    "#            else:\n",
    "#                dictall_nic[mycode] = 1                 "
   ]
  },
  {
   "cell_type": "code",
   "execution_count": null,
   "metadata": {
    "collapsed": true,
    "deletable": true,
    "editable": true
   },
   "outputs": [],
   "source": [
    "dictall_nic_sort = sorted(dictall_nic.items(), key=lambda x: -x[1])"
   ]
  },
  {
   "cell_type": "code",
   "execution_count": null,
   "metadata": {
    "collapsed": true,
    "deletable": true,
    "editable": true
   },
   "outputs": [],
   "source": [
    "seq_cnt_nic = np.zeros((17,1))\n",
    "seq_tot_nic = np.zeros((17,1))\n",
    "for i in range(0,17):\n",
    "    seq_cnt_nic[i] = len(dictlist_nic[i])\n",
    "    seq_tot_nic[i] = sum(dictlist_nic[i].values())"
   ]
  },
  {
   "cell_type": "code",
   "execution_count": null,
   "metadata": {
    "collapsed": true,
    "deletable": true,
    "editable": true
   },
   "outputs": [],
   "source": [
    "plt.plot(years, seq_tot_nic)\n",
    "plt.ylabel('# death')\n",
    "plt.xlabel('year')\n",
    "plt.title(' psychoactive substance as UCD')"
   ]
  },
  {
   "cell_type": "code",
   "execution_count": null,
   "metadata": {
    "collapsed": true,
    "deletable": true,
    "editable": true
   },
   "outputs": [],
   "source": [
    "seq_tot_nic"
   ]
  },
  {
   "cell_type": "code",
   "execution_count": null,
   "metadata": {
    "collapsed": true,
    "deletable": true,
    "editable": true
   },
   "outputs": [],
   "source": [
    "plt.plot(years, seq_cnt_nic)\n",
    "plt.ylabel('# different sequences')\n",
    "plt.xlabel('year')\n",
    "plt.title('Nicotine Depeence as UCD')"
   ]
  },
  {
   "cell_type": "code",
   "execution_count": null,
   "metadata": {
    "collapsed": true,
    "deletable": true,
    "editable": true
   },
   "outputs": [],
   "source": []
  },
  {
   "cell_type": "code",
   "execution_count": null,
   "metadata": {
    "collapsed": true,
    "deletable": true,
    "editable": true
   },
   "outputs": [],
   "source": [
    "trans_nic = dict()\n",
    "exist_nic = dict()\n",
    "for i in range(len(dictall_nic_sort)):\n",
    "    key = dictall_nic_sort[i][0]\n",
    "    val = dictall_nic_sort[i][1]\n",
    "    l = len(key)\n",
    "    for j in range(round(((l+1)/4))-1):\n",
    "        key1 = key[j*4:j*4+3]\n",
    "        key2 = key[j*4+4:j*4+7]\n",
    "        elem = key1 + '-' + key2\n",
    "        if elem in trans_nic.keys():\n",
    "            trans_nic[elem] = trans_nic[elem] + val    \n",
    "        else:\n",
    "            trans_nic[elem] = val\n",
    "        if key1 in exist_nic.keys():\n",
    "            exist_nic[key1] = exist_nic[key1] + val    \n",
    "        else:\n",
    "            exist_nic[key1] = val      "
   ]
  },
  {
   "cell_type": "code",
   "execution_count": null,
   "metadata": {
    "collapsed": true,
    "deletable": true,
    "editable": true
   },
   "outputs": [],
   "source": [
    "for key in trans_nic:\n",
    "    j=0\n",
    "    key1 = key[j*4:j*4+3]\n",
    "    if exist_nic[key1]>10:\n",
    "        trans_nic[key]=  trans_nic[key]/exist_nic[key1]\n",
    "    else:\n",
    "         trans_nic[key]=0"
   ]
  },
  {
   "cell_type": "code",
   "execution_count": null,
   "metadata": {
    "collapsed": true,
    "deletable": true,
    "editable": true
   },
   "outputs": [],
   "source": [
    "inter = ['E78','F17', 'F19', 'F03', 'F10', 'F16', 'F15', 'E10', 'E88', 'C34', 'F11']\n",
    "inter_labs = [' lipoprotein metabolism', 'Nicotine dependence', 'unspecified mental', 'unspecified dementia', \\\n",
    "             'alchoholic', 'Hallucinogen', 'stimulant related', 'Type-1 Diabetes', 'Unspecified metabolic', \\\n",
    "             'Bronchus and lung ', 'Opioid ']\n",
    "n = len(inter)\n",
    "ht = np.zeros((n,n))\n",
    "for i in range(0,n):\n",
    "    for j in range(0,n):\n",
    "        key = inter[i]+ '-'+inter[j]\n",
    "        if key in trans_nic.keys():\n",
    "            ht[i,j] = trans_nic[key]\n",
    "            "
   ]
  },
  {
   "cell_type": "code",
   "execution_count": null,
   "metadata": {
    "collapsed": true,
    "deletable": true,
    "editable": true
   },
   "outputs": [],
   "source": [
    "ax = plt.figure(figsize=(6,4))\n",
    "heatmap = plt.pcolor( ht, cmap='YlOrRd')\n",
    "for y in range(ht.shape[0]):\n",
    "    for x in range(ht.shape[1]):\n",
    "        inside = ('%.2f' % ht[y, x])\n",
    "        plt.text(x + 0.5, y + 0.5, inside,\n",
    "                 horizontalalignment='center',\n",
    "                 verticalalignment='center')\n",
    "for x in range(n):\n",
    "    plt.text(x+0.5, y+ 1+ 0.5, inter_labs[x], \n",
    "                horizontalalignment='center',\n",
    "                verticalalignment='bottom', rotation=90)  \n",
    "plt.yticks(np.arange(0,n)+0.5 , inter_labs, rotation=0)    \n",
    "plt.xlim([0,n])\n",
    "plt.ylim([0,n])\n",
    "#plt.savefig('./figures/markov-chain-nic.eps', loc=0, bbox_inches='tight')\n",
    "#plt.savefig('./figures/markov-chain-nic.png', dpi=300, loc=0, bbox_inches='tight')\n",
    "#plt.savefig('./figures/markov-chain-nic.pdf', loc=0, bbox_inches='tight')"
   ]
  },
  {
   "cell_type": "code",
   "execution_count": null,
   "metadata": {
    "collapsed": true,
    "deletable": true,
    "editable": true,
    "scrolled": true
   },
   "outputs": [],
   "source": [
    "trans_nic_sort = sorted(trans_nic.items(), key=lambda x: -x[1])\n",
    "trans_nic_sort\n"
   ]
  },
  {
   "cell_type": "code",
   "execution_count": null,
   "metadata": {
    "collapsed": true,
    "deletable": true,
    "editable": true
   },
   "outputs": [],
   "source": [
    "for i in range(len(trans_nic)):\n",
    "    key = trans_nic_sort[i][0]\n",
    "    val = trans_nic_sort[i][1]\n",
    "    j=0\n",
    "    key1 = key[j*4:j*4+3]\n",
    "    key2 = key[j*4+4:j*4+7]\n",
    "    normer = exist_nic[key1]\n",
    "    trans_nic_sort[key] = trans_nic_sort[key]/normer\n",
    "    "
   ]
  },
  {
   "cell_type": "code",
   "execution_count": null,
   "metadata": {
    "collapsed": true,
    "deletable": true,
    "editable": true
   },
   "outputs": [],
   "source": []
  },
  {
   "cell_type": "code",
   "execution_count": null,
   "metadata": {
    "collapsed": true,
    "deletable": true,
    "editable": true
   },
   "outputs": [],
   "source": [
    "trans_nic_sort["
   ]
  },
  {
   "cell_type": "code",
   "execution_count": null,
   "metadata": {
    "collapsed": true,
    "deletable": true,
    "editable": true
   },
   "outputs": [],
   "source": [
    "dictall_nic_sort"
   ]
  },
  {
   "cell_type": "code",
   "execution_count": null,
   "metadata": {
    "collapsed": true,
    "deletable": true,
    "editable": true
   },
   "outputs": [],
   "source": [
    "dictall_nic_sort"
   ]
  },
  {
   "cell_type": "code",
   "execution_count": null,
   "metadata": {
    "collapsed": true,
    "deletable": true,
    "editable": true
   },
   "outputs": [],
   "source": [
    "dictall_nut_sort = sorted(dictall_nut.items(), key=lambda x: -x[1])"
   ]
  },
  {
   "cell_type": "code",
   "execution_count": null,
   "metadata": {
    "collapsed": true,
    "deletable": true,
    "editable": true
   },
   "outputs": [],
   "source": [
    "trans_nut = dict()\n",
    "exist_nut = dict()\n",
    "for i in range(len(dictall_nut_sort)):\n",
    "    key = dictall_nut_sort[i][0]\n",
    "    val = dictall_nut_sort[i][1]\n",
    "    l = len(key)\n",
    "    for j in range(round(((l+1)/4))-1):\n",
    "        key1 = key[j*4:j*4+3]\n",
    "        key2 = key[j*4+4:j*4+7]\n",
    "        elem = key1 + '-' + key2\n",
    "        if elem in trans_nut.keys():\n",
    "            trans_nut[elem] = trans_nut[elem] + val    \n",
    "        else:\n",
    "            trans_nut[elem] = val\n",
    "        if key1 in exist_nut.keys():\n",
    "            exist_nut[key1] = exist_nut[key1] + val    \n",
    "        else:\n",
    "            exist_nut[key1] = val   "
   ]
  },
  {
   "cell_type": "code",
   "execution_count": null,
   "metadata": {
    "collapsed": true,
    "deletable": true,
    "editable": true
   },
   "outputs": [],
   "source": [
    "for key in trans_nut:\n",
    "    j=0\n",
    "    key1 = key[j*4:j*4+3]\n",
    "    if exist_nut[key1]>100:\n",
    "        trans_nut[key]=  trans_nut[key]/exist_nut[key1]\n",
    "    else:\n",
    "         trans_nut[key]=0"
   ]
  },
  {
   "cell_type": "code",
   "execution_count": null,
   "metadata": {
    "collapsed": true,
    "deletable": true,
    "editable": true
   },
   "outputs": [],
   "source": [
    "inter = ['W80', 'T17', 'T83', 'Y83', 'T68', 'X31', 'T84',  'S72', 's32', 'T13']\n",
    "inter_labs = ['', 'sth in respiratory tract', 'genitourinary prosthetic devices'  \\\n",
    "             ,'Hypothermia', 'excessive natural cold', 'internal orthopedic prosthetic devices', \\\n",
    "              'Surgical and other medical procedures', 'Fracture of femur', 'Fracture of lumbar spine and pelvis', \\\n",
    "              'injuries of lower limb']\n",
    "inter_labs = inter\n",
    "n = len(inter)\n",
    "ht = np.zeros((n,n))\n",
    "for i in range(0,n):\n",
    "    for j in range(0,n):\n",
    "        key = inter[i]+ '-'+inter[j]\n",
    "        if key in trans_nut.keys():\n",
    "            ht[i,j] = trans_nut[key]"
   ]
  },
  {
   "cell_type": "code",
   "execution_count": null,
   "metadata": {
    "collapsed": true,
    "deletable": true,
    "editable": true,
    "scrolled": true
   },
   "outputs": [],
   "source": [
    "trans_nut_sort = sorted(trans_nut.items(), key=lambda x: -x[1])\n",
    "trans_nut_sort"
   ]
  },
  {
   "cell_type": "code",
   "execution_count": null,
   "metadata": {
    "collapsed": true,
    "deletable": true,
    "editable": true
   },
   "outputs": [],
   "source": [
    "ax = plt.figure(figsize=(6,4))\n",
    "heatmap = plt.pcolor( ht, cmap='YlOrRd')\n",
    "for y in range(ht.shape[0]):\n",
    "    for x in range(ht.shape[1]):\n",
    "        inside = ('%.2f' % ht[y, x])\n",
    "        plt.text(x + 0.5, y + 0.5, inside,\n",
    "                 horizontalalignment='center',\n",
    "                 verticalalignment='center')\n",
    "for x in range(n):\n",
    "    plt.text(x+0.5, y+ 1+ 0.5, inter_labs[x], \n",
    "                horizontalalignment='center',\n",
    "                verticalalignment='bottom', rotation=90)  \n",
    "plt.yticks(np.arange(0,n)+0.5 , inter_labs, rotation=0)    \n",
    "plt.xlim([0,n])\n",
    "plt.ylim([0,n])\n",
    "#plt.savefig('./figures/markov-chain-nic.eps', loc=0, bbox_inches='tight')\n",
    "#plt.savefig('./figures/markov-chain-nic.png', dpi=300, loc=0, bbox_inches='tight')\n",
    "#plt.savefig('./figures/markov-chain-nic.pdf', loc=0, bbox_inches='tight')"
   ]
  },
  {
   "cell_type": "code",
   "execution_count": null,
   "metadata": {
    "collapsed": true,
    "deletable": true,
    "editable": true
   },
   "outputs": [],
   "source": []
  },
  {
   "cell_type": "code",
   "execution_count": null,
   "metadata": {
    "collapsed": true,
    "deletable": true,
    "editable": true
   },
   "outputs": [],
   "source": []
  },
  {
   "cell_type": "markdown",
   "metadata": {
    "deletable": true,
    "editable": true
   },
   "source": [
    "### Not Needed"
   ]
  },
  {
   "cell_type": "code",
   "execution_count": null,
   "metadata": {
    "collapsed": false,
    "deletable": true,
    "editable": true
   },
   "outputs": [],
   "source": [
    "UC_Mental_test_Col = list()\n",
    "\n",
    "for index, row in UC_Mental_test.iloc[:10].iterrows():\n",
    "    print('Running line #'  + str(index))\n",
    "    # Find the number of conditions based on RecordAxisNumof\n",
    "    val = row['EntityAxisNumof']\n",
    "    if val == 1:\n",
    "        recordaxis_UCD = recordaxis.iloc[UC_Mental_test.index].iloc[n:n+1].apply(lambda x: x[x != ''][0][: 3], axis=1).astype('str')\n",
    "        # Simply assign UCD with record axis condition for a sequence of one\n",
    "        print('line# '+ str(index) + ': ' +\n",
    "                  str(recordaxis_UCD.values[0]) + \n",
    "                  ' match ' +\n",
    "                  str(row['UC358_ICD10'][0]))\n",
    "        #UC_Mental_test['UCD'].iloc[n] = entityaxis.iloc[UC_Mental_test.index].iloc[n:n+1].apply(lambda x: x[x != ''][0][2:], axis=1).astype('str').values[0]\n",
    "        df = entityaxis.iloc[UC_Mental_test.index].iloc[n:n+1].apply(lambda x: x[x != ''][0][2:], axis=1).astype('str').values[0]\n",
    "        UC_Mental_test_Col.append(df)\n",
    "    else: \n",
    "        # For every sequence greater than one condition find matching string pairs \n",
    "        for i in range(val):\n",
    "            entityaxis_UCD = entityaxis.iloc[UC_Mental_test.index].iloc[n:n+1].apply(lambda x: x[x != ''][i][2:-1], axis=1).astype('str')\n",
    "            #recordaxis_UCD = recordaxis.iloc[UC_Mental_test.index].iloc[n:n+1].apply(lambda x: x[x != ''][i][: 3], axis=1).astype('str')\n",
    "            #print(recordaxis_UCD)\n",
    "            s = entityaxis_UCD.astype('str')\n",
    "           # eaxis = UC_Mental_test[['EntityAxisConditions','RecordAxisConditions','UC358_ICD10' ]].iloc[n].str.contains(recordaxis_UCD.values[0])\n",
    "            eaxis = row[['EntityAxisConditions','UC358_ICD10' ]].str.contains(entityaxis_UCD.values[0])\n",
    "\n",
    "            #print(eaxis)\n",
    "            # Assign UCD with matching entity and record axis condition \n",
    "            if pd.unique(eaxis)[-1]:\n",
    "                print('line# '+ str(index) + ': ' +\n",
    "                      str(entityaxis_UCD.values[0]) + \n",
    "                      ' match ' +\n",
    "                      str(row['UC358_ICD10']))\n",
    "               # UC_Mental_test['UCD'].iloc[n] = entityaxis.iloc[UC_Mental_test.index].iloc[n:n+1].apply(lambda x: x[x != ''][i][2:], axis=1).astype('str').values[0]\n",
    "                df = entityaxis.iloc[UC_Mental_test.index].iloc[n:n+1].apply(lambda x: x[x != ''][i][2:], axis=1).astype('str').values[0]\n",
    "                UC_Mental_test_Col.append(df)\n",
    "            continue"
   ]
  },
  {
   "cell_type": "code",
   "execution_count": null,
   "metadata": {
    "collapsed": false,
    "deletable": true,
    "editable": true
   },
   "outputs": [],
   "source": [
    "UC_Mental_test_Col = list()\n",
    "for n in range(len(UC_Mental_test)):\n",
    "    print('Running line #'  + str(UC_Mental_test.index[n]))\n",
    "    # Find the number of conditions based on RecordAxisNumof\n",
    "    val = UC_Mental_test['EntityAxisNumof'].iloc[n]\n",
    "    if val == 1:\n",
    "        recordaxis_UCD = recordaxis.iloc[UC_Mental_test.index].iloc[n:n+1].apply(lambda x: x[x != ''][0][: 3], axis=1).astype('str')\n",
    "        # Simply assign UCD with record axis condition for a sequence of one\n",
    "        print('line# '+ str(UC_Mental_test.index[n]) + ': ' +\n",
    "                  str(recordaxis_UCD.values[0]) + \n",
    "                  ' match ' +\n",
    "                  str(UC_Mental_test[['UC358_ICD10']].iloc[n][0]))\n",
    "        #UC_Mental_test['UCD'].iloc[n] = entityaxis.iloc[UC_Mental_test.index].iloc[n:n+1].apply(lambda x: x[x != ''][0][2:], axis=1).astype('str').values[0]\n",
    "        df = entityaxis.iloc[UC_Mental_test.index].iloc[n:n+1].apply(lambda x: x[x != ''][0][2:], axis=1).astype('str').values[0]\n",
    "        UC_Mental_test_Col.append(df)\n",
    "    else: \n",
    "        # For every sequence greater than one condition find matching string pairs \n",
    "        for i in range(val):\n",
    "            entityaxis_UCD = entityaxis.iloc[UC_Mental_test.index].iloc[n:n+1].apply(lambda x: x[x != ''][i][2:-1], axis=1).astype('str')\n",
    "            #recordaxis_UCD = recordaxis.iloc[UC_Mental_test.index].iloc[n:n+1].apply(lambda x: x[x != ''][i][: 3], axis=1).astype('str')\n",
    "            #print(recordaxis_UCD)\n",
    "            s = entityaxis_UCD.astype('str')\n",
    "           # eaxis = UC_Mental_test[['EntityAxisConditions','RecordAxisConditions','UC358_ICD10' ]].iloc[n].str.contains(recordaxis_UCD.values[0])\n",
    "            eaxis = UC_Mental_test[['EntityAxisConditions','UC358_ICD10' ]].iloc[n].str.contains(entityaxis_UCD.values[0])\n",
    "\n",
    "            #print(eaxis)\n",
    "            # Assign UCD with matching entity and record axis condition \n",
    "            if pd.unique(eaxis)[-1]:\n",
    "                print('line# '+ str(UC_Mental_test.index[n]) + ': ' +\n",
    "                      str(entityaxis_UCD.values[0]) + \n",
    "                      ' match ' +\n",
    "                      str(UC_Mental_test[['UC358_ICD10']].iloc[n][0]))\n",
    "               # UC_Mental_test['UCD'].iloc[n] = entityaxis.iloc[UC_Mental_test.index].iloc[n:n+1].apply(lambda x: x[x != ''][i][2:], axis=1).astype('str').values[0]\n",
    "                df = entityaxis.iloc[UC_Mental_test.index].iloc[n:n+1].apply(lambda x: x[x != ''][i][2:], axis=1).astype('str').values[0]\n",
    "                UC_Mental_test_Col.append(df)\n",
    "        continue\n",
    "            #else:\n",
    "                #print('line# '+ str(n) + ': ' +\n",
    "                #      str(recordaxis_UCD.values[0]) +\n",
    "                #      ' does not match ' +\n",
    "                #      str(UC_Mental_test[['UC358_ICD10']].iloc[n][0]))\n",
    "            #    UC_Mental_test['UCD'].iloc[n] = recordaxis_UCD.iloc[0]"
   ]
  },
  {
   "cell_type": "code",
   "execution_count": null,
   "metadata": {
    "collapsed": true,
    "deletable": true,
    "editable": true
   },
   "outputs": [],
   "source": [
    "for n in range(len(data_all)):\n",
    "    print('Running line #'  + str(n))\n",
    "    # Find the number of conditions based on RecordAxisNumof\n",
    "    val = data_all['RecordAxisNumof'].iloc[n]\n",
    "    if val == 1:\n",
    "        recordaxis_UCD = recordaxis.iloc[n:n+1].apply(lambda x: x[x != ''][0][: 3], axis=1).astype('str')\n",
    "        # Simply assign UCD with record axis condition for a sequence of one\n",
    "        print('line# '+ str(n) + ': ' +\n",
    "                  str(recordaxis_UCD.values[0]) + \n",
    "                  ' match ' +\n",
    "                  str(data_all[['MajorCause_ICD10']].iloc[n][0]))\n",
    "        data_all['UCD'].iloc[val] = recordaxis.iloc[val, i]\n",
    "    else:  \n",
    "            \n",
    "        # For every sequence greater than one condition find matching string pairs \n",
    "        for i in range(val):\n",
    "            recordaxis_UCD = recordaxis.iloc[n:n+1].apply(lambda x: x[x != ''][i][: 3], axis=1).astype('str')\n",
    "            #print(recordaxis_UCD)\n",
    "            s = recordaxis_UCD.astype('str')\n",
    "            eaxis = data_all[['EntityAxisConditions','RecordAxisConditions','MajorCause_ICD10' ]].iloc[n].str.contains(recordaxis_UCD.values[0])\n",
    "            #print(eaxis)\n",
    "            # Assign UCD with matching entity and record axis condition \n",
    "            if pd.unique(eaxis)[-1]:\n",
    "                print('line# '+ str(n) + ': ' +\n",
    "                      str(recordaxis_UCD.values[0]) + \n",
    "                      ' match ' +\n",
    "                      str(data_all[['MajorCause_ICD10']].iloc[n][0]))\n",
    "                data_all['UCD'].iloc[val] = recordaxis.iloc[val, i]\n",
    "            else:\n",
    "                print('line# '+ str(n) + ': ' +\n",
    "                      str(recordaxis_UCD.values[0]) +\n",
    "                      ' does not match ' +\n",
    "                      str(data_all[['MajorCause_ICD10']].iloc[n][0]))\n",
    "                #data_all['UCD'].iloc[val] = recordaxis.iloc[val, i]\n",
    "\n",
    "    "
   ]
  },
  {
   "cell_type": "markdown",
   "metadata": {
    "deletable": true,
    "editable": true
   },
   "source": [
    "### Recategorize Major Cause category"
   ]
  },
  {
   "cell_type": "code",
   "execution_count": null,
   "metadata": {
    "collapsed": false,
    "deletable": true,
    "editable": true
   },
   "outputs": [],
   "source": [
    "entityaxis.head(9)"
   ]
  },
  {
   "cell_type": "code",
   "execution_count": null,
   "metadata": {
    "collapsed": true,
    "deletable": true,
    "editable": true
   },
   "outputs": [],
   "source": [
    "# takes a long time to run, output saved to 'entityaxis_UCD.csv '\n",
    "entityaxis_UCD = entityaxis.apply(lambda x: x[x != ''][-1] , axis=1)\n",
    "entityaxis_UCD.to_csv('entityaxis_UCD.csv ')\n",
    "filename = 'entityaxis_UCD.csv'\n",
    "entityaxis_UCD = pd.read_csv(filename, sep= ',')"
   ]
  },
  {
   "cell_type": "markdown",
   "metadata": {
    "deletable": true,
    "editable": true
   },
   "source": [
    "## Remove first two numbers in UCD"
   ]
  },
  {
   "cell_type": "code",
   "execution_count": null,
   "metadata": {
    "collapsed": false,
    "deletable": true,
    "editable": true
   },
   "outputs": [],
   "source": [
    "data_all.head()"
   ]
  },
  {
   "cell_type": "code",
   "execution_count": null,
   "metadata": {
    "collapsed": true,
    "deletable": true,
    "editable": true
   },
   "outputs": [],
   "source": [
    "# create a function to find all the non-empty cells\n",
    "\n",
    "# Remove all empty cells\n",
    "\n",
    "# Find the first two values\n",
    "\n",
    "# Remove values that are less than 11 and greater than 48 since we only care about line 1 to 4, keeping in mind that \n",
    "# there are up to 8 conditions in one line\n",
    "\n",
    "# Take the max value of what remains and keep that as the UCD\n",
    "\n",
    "# Find the index of the max value and report that as the UCD"
   ]
  },
  {
   "cell_type": "code",
   "execution_count": null,
   "metadata": {
    "collapsed": true,
    "deletable": true,
    "editable": true
   },
   "outputs": [],
   "source": []
  },
  {
   "cell_type": "code",
   "execution_count": null,
   "metadata": {
    "collapsed": true,
    "deletable": true,
    "editable": true
   },
   "outputs": [],
   "source": []
  }
 ],
 "metadata": {
  "anaconda-cloud": {},
  "kernelspec": {
   "display_name": "Python 2",
   "language": "python",
   "name": "python2"
  },
  "language_info": {
   "codemirror_mode": {
    "name": "ipython",
    "version": 2
   },
   "file_extension": ".py",
   "mimetype": "text/x-python",
   "name": "python",
   "nbconvert_exporter": "python",
   "pygments_lexer": "ipython2",
   "version": "2.7.6"
  }
 },
 "nbformat": 4,
 "nbformat_minor": 1
}
